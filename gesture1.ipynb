{
 "cells": [
  {
   "cell_type": "code",
   "execution_count": 1,
   "metadata": {},
   "outputs": [],
   "source": [
    "import pandas as pd\n",
    "import numpy as np\n",
    "import sklearn\n",
    "import matplotlib.pyplot as plt"
   ]
  },
  {
   "cell_type": "code",
   "execution_count": 2,
   "metadata": {},
   "outputs": [],
   "source": [
    "df=pd.read_csv('C:/Users/hp/Downloads/gesture_phase_dataset/a1_raw.csv')"
   ]
  },
  {
   "cell_type": "code",
   "execution_count": 3,
   "metadata": {},
   "outputs": [
    {
     "data": {
      "text/html": [
       "<div>\n",
       "<style scoped>\n",
       "    .dataframe tbody tr th:only-of-type {\n",
       "        vertical-align: middle;\n",
       "    }\n",
       "\n",
       "    .dataframe tbody tr th {\n",
       "        vertical-align: top;\n",
       "    }\n",
       "\n",
       "    .dataframe thead th {\n",
       "        text-align: right;\n",
       "    }\n",
       "</style>\n",
       "<table border=\"1\" class=\"dataframe\">\n",
       "  <thead>\n",
       "    <tr style=\"text-align: right;\">\n",
       "      <th></th>\n",
       "      <th>lhx</th>\n",
       "      <th>lhy</th>\n",
       "      <th>lhz</th>\n",
       "      <th>rhx</th>\n",
       "      <th>rhy</th>\n",
       "      <th>rhz</th>\n",
       "      <th>hx</th>\n",
       "      <th>hy</th>\n",
       "      <th>hz</th>\n",
       "      <th>sx</th>\n",
       "      <th>sy</th>\n",
       "      <th>sz</th>\n",
       "      <th>lwx</th>\n",
       "      <th>lwy</th>\n",
       "      <th>lwz</th>\n",
       "      <th>rwx</th>\n",
       "      <th>rwy</th>\n",
       "      <th>rwz</th>\n",
       "      <th>timestamp</th>\n",
       "      <th>phase</th>\n",
       "    </tr>\n",
       "  </thead>\n",
       "  <tbody>\n",
       "    <tr>\n",
       "      <th>0</th>\n",
       "      <td>5.347435</td>\n",
       "      <td>4.363681</td>\n",
       "      <td>1.501913</td>\n",
       "      <td>5.258967</td>\n",
       "      <td>4.319263</td>\n",
       "      <td>1.488703</td>\n",
       "      <td>5.037871</td>\n",
       "      <td>1.618295</td>\n",
       "      <td>1.778350</td>\n",
       "      <td>5.062803</td>\n",
       "      <td>4.229656</td>\n",
       "      <td>1.772577</td>\n",
       "      <td>4.972902</td>\n",
       "      <td>4.301065</td>\n",
       "      <td>1.564781</td>\n",
       "      <td>5.553945</td>\n",
       "      <td>4.370456</td>\n",
       "      <td>1.553521</td>\n",
       "      <td>5702026</td>\n",
       "      <td>Rest</td>\n",
       "    </tr>\n",
       "    <tr>\n",
       "      <th>1</th>\n",
       "      <td>4.869622</td>\n",
       "      <td>4.254210</td>\n",
       "      <td>1.556133</td>\n",
       "      <td>5.240113</td>\n",
       "      <td>4.346338</td>\n",
       "      <td>1.554309</td>\n",
       "      <td>5.037610</td>\n",
       "      <td>1.618370</td>\n",
       "      <td>1.778573</td>\n",
       "      <td>5.061430</td>\n",
       "      <td>4.228504</td>\n",
       "      <td>1.772859</td>\n",
       "      <td>4.974908</td>\n",
       "      <td>4.303656</td>\n",
       "      <td>1.565527</td>\n",
       "      <td>5.423875</td>\n",
       "      <td>4.303708</td>\n",
       "      <td>1.569942</td>\n",
       "      <td>5702058</td>\n",
       "      <td>Rest</td>\n",
       "    </tr>\n",
       "    <tr>\n",
       "      <th>2</th>\n",
       "      <td>5.357447</td>\n",
       "      <td>4.364039</td>\n",
       "      <td>1.500969</td>\n",
       "      <td>5.238928</td>\n",
       "      <td>4.347924</td>\n",
       "      <td>1.554150</td>\n",
       "      <td>5.037514</td>\n",
       "      <td>1.618298</td>\n",
       "      <td>1.778774</td>\n",
       "      <td>5.059245</td>\n",
       "      <td>4.228004</td>\n",
       "      <td>1.773568</td>\n",
       "      <td>4.981612</td>\n",
       "      <td>4.305363</td>\n",
       "      <td>1.563643</td>\n",
       "      <td>5.332170</td>\n",
       "      <td>4.438061</td>\n",
       "      <td>1.572841</td>\n",
       "      <td>5702089</td>\n",
       "      <td>Rest</td>\n",
       "    </tr>\n",
       "    <tr>\n",
       "      <th>3</th>\n",
       "      <td>4.942886</td>\n",
       "      <td>4.281878</td>\n",
       "      <td>1.546513</td>\n",
       "      <td>5.111436</td>\n",
       "      <td>4.229660</td>\n",
       "      <td>1.527091</td>\n",
       "      <td>5.037526</td>\n",
       "      <td>1.618612</td>\n",
       "      <td>1.778855</td>\n",
       "      <td>5.056475</td>\n",
       "      <td>4.226891</td>\n",
       "      <td>1.774519</td>\n",
       "      <td>4.987158</td>\n",
       "      <td>4.304063</td>\n",
       "      <td>1.565929</td>\n",
       "      <td>5.311104</td>\n",
       "      <td>4.396774</td>\n",
       "      <td>1.566368</td>\n",
       "      <td>5702120</td>\n",
       "      <td>Rest</td>\n",
       "    </tr>\n",
       "    <tr>\n",
       "      <th>4</th>\n",
       "      <td>5.003160</td>\n",
       "      <td>4.278530</td>\n",
       "      <td>1.542866</td>\n",
       "      <td>4.985812</td>\n",
       "      <td>4.182155</td>\n",
       "      <td>1.520330</td>\n",
       "      <td>5.037557</td>\n",
       "      <td>1.619226</td>\n",
       "      <td>1.778925</td>\n",
       "      <td>5.052367</td>\n",
       "      <td>4.225485</td>\n",
       "      <td>1.775536</td>\n",
       "      <td>4.983912</td>\n",
       "      <td>4.296833</td>\n",
       "      <td>1.569889</td>\n",
       "      <td>5.193762</td>\n",
       "      <td>4.335417</td>\n",
       "      <td>1.560144</td>\n",
       "      <td>5702167</td>\n",
       "      <td>Rest</td>\n",
       "    </tr>\n",
       "  </tbody>\n",
       "</table>\n",
       "</div>"
      ],
      "text/plain": [
       "        lhx       lhy       lhz       rhx       rhy       rhz        hx  \\\n",
       "0  5.347435  4.363681  1.501913  5.258967  4.319263  1.488703  5.037871   \n",
       "1  4.869622  4.254210  1.556133  5.240113  4.346338  1.554309  5.037610   \n",
       "2  5.357447  4.364039  1.500969  5.238928  4.347924  1.554150  5.037514   \n",
       "3  4.942886  4.281878  1.546513  5.111436  4.229660  1.527091  5.037526   \n",
       "4  5.003160  4.278530  1.542866  4.985812  4.182155  1.520330  5.037557   \n",
       "\n",
       "         hy        hz        sx        sy        sz       lwx       lwy  \\\n",
       "0  1.618295  1.778350  5.062803  4.229656  1.772577  4.972902  4.301065   \n",
       "1  1.618370  1.778573  5.061430  4.228504  1.772859  4.974908  4.303656   \n",
       "2  1.618298  1.778774  5.059245  4.228004  1.773568  4.981612  4.305363   \n",
       "3  1.618612  1.778855  5.056475  4.226891  1.774519  4.987158  4.304063   \n",
       "4  1.619226  1.778925  5.052367  4.225485  1.775536  4.983912  4.296833   \n",
       "\n",
       "        lwz       rwx       rwy       rwz  timestamp phase  \n",
       "0  1.564781  5.553945  4.370456  1.553521    5702026  Rest  \n",
       "1  1.565527  5.423875  4.303708  1.569942    5702058  Rest  \n",
       "2  1.563643  5.332170  4.438061  1.572841    5702089  Rest  \n",
       "3  1.565929  5.311104  4.396774  1.566368    5702120  Rest  \n",
       "4  1.569889  5.193762  4.335417  1.560144    5702167  Rest  "
      ]
     },
     "execution_count": 3,
     "metadata": {},
     "output_type": "execute_result"
    }
   ],
   "source": [
    "df.head()"
   ]
  },
  {
   "cell_type": "code",
   "execution_count": 4,
   "metadata": {},
   "outputs": [
    {
     "data": {
      "text/html": [
       "<div>\n",
       "<style scoped>\n",
       "    .dataframe tbody tr th:only-of-type {\n",
       "        vertical-align: middle;\n",
       "    }\n",
       "\n",
       "    .dataframe tbody tr th {\n",
       "        vertical-align: top;\n",
       "    }\n",
       "\n",
       "    .dataframe thead th {\n",
       "        text-align: right;\n",
       "    }\n",
       "</style>\n",
       "<table border=\"1\" class=\"dataframe\">\n",
       "  <thead>\n",
       "    <tr style=\"text-align: right;\">\n",
       "      <th></th>\n",
       "      <th>lhx</th>\n",
       "      <th>lhy</th>\n",
       "      <th>lhz</th>\n",
       "      <th>rhx</th>\n",
       "      <th>rhy</th>\n",
       "      <th>rhz</th>\n",
       "      <th>hx</th>\n",
       "      <th>hy</th>\n",
       "      <th>hz</th>\n",
       "      <th>sx</th>\n",
       "      <th>sy</th>\n",
       "      <th>sz</th>\n",
       "      <th>lwx</th>\n",
       "      <th>lwy</th>\n",
       "      <th>lwz</th>\n",
       "      <th>rwx</th>\n",
       "      <th>rwy</th>\n",
       "      <th>rwz</th>\n",
       "      <th>timestamp</th>\n",
       "    </tr>\n",
       "  </thead>\n",
       "  <tbody>\n",
       "    <tr>\n",
       "      <th>count</th>\n",
       "      <td>1747.000000</td>\n",
       "      <td>1747.000000</td>\n",
       "      <td>1747.000000</td>\n",
       "      <td>1747.000000</td>\n",
       "      <td>1747.000000</td>\n",
       "      <td>1747.000000</td>\n",
       "      <td>1747.000000</td>\n",
       "      <td>1747.000000</td>\n",
       "      <td>1747.000000</td>\n",
       "      <td>1747.000000</td>\n",
       "      <td>1747.000000</td>\n",
       "      <td>1747.000000</td>\n",
       "      <td>1747.000000</td>\n",
       "      <td>1747.000000</td>\n",
       "      <td>1747.000000</td>\n",
       "      <td>1747.000000</td>\n",
       "      <td>1747.000000</td>\n",
       "      <td>1747.000000</td>\n",
       "      <td>1.747000e+03</td>\n",
       "    </tr>\n",
       "    <tr>\n",
       "      <th>mean</th>\n",
       "      <td>4.733099</td>\n",
       "      <td>4.110179</td>\n",
       "      <td>1.492067</td>\n",
       "      <td>5.400730</td>\n",
       "      <td>3.860213</td>\n",
       "      <td>1.483939</td>\n",
       "      <td>5.084119</td>\n",
       "      <td>1.660346</td>\n",
       "      <td>1.753750</td>\n",
       "      <td>5.099306</td>\n",
       "      <td>4.264994</td>\n",
       "      <td>1.742626</td>\n",
       "      <td>4.584839</td>\n",
       "      <td>4.110311</td>\n",
       "      <td>1.521522</td>\n",
       "      <td>5.538275</td>\n",
       "      <td>3.902637</td>\n",
       "      <td>1.506997</td>\n",
       "      <td>5.739172e+06</td>\n",
       "    </tr>\n",
       "    <tr>\n",
       "      <th>std</th>\n",
       "      <td>0.706462</td>\n",
       "      <td>0.782359</td>\n",
       "      <td>0.064146</td>\n",
       "      <td>0.807955</td>\n",
       "      <td>0.870350</td>\n",
       "      <td>0.070478</td>\n",
       "      <td>0.181948</td>\n",
       "      <td>0.058347</td>\n",
       "      <td>0.024135</td>\n",
       "      <td>0.126167</td>\n",
       "      <td>0.061245</td>\n",
       "      <td>0.016544</td>\n",
       "      <td>0.622707</td>\n",
       "      <td>0.683990</td>\n",
       "      <td>0.061683</td>\n",
       "      <td>0.689032</td>\n",
       "      <td>0.786473</td>\n",
       "      <td>0.071968</td>\n",
       "      <td>2.796631e+04</td>\n",
       "    </tr>\n",
       "    <tr>\n",
       "      <th>min</th>\n",
       "      <td>1.712471</td>\n",
       "      <td>1.660291</td>\n",
       "      <td>1.183290</td>\n",
       "      <td>3.653736</td>\n",
       "      <td>1.296046</td>\n",
       "      <td>1.221158</td>\n",
       "      <td>4.435888</td>\n",
       "      <td>1.415457</td>\n",
       "      <td>1.664271</td>\n",
       "      <td>4.737700</td>\n",
       "      <td>3.992892</td>\n",
       "      <td>1.698297</td>\n",
       "      <td>1.969708</td>\n",
       "      <td>1.953082</td>\n",
       "      <td>1.245345</td>\n",
       "      <td>3.963918</td>\n",
       "      <td>1.643037</td>\n",
       "      <td>1.262197</td>\n",
       "      <td>5.702026e+06</td>\n",
       "    </tr>\n",
       "    <tr>\n",
       "      <th>25%</th>\n",
       "      <td>4.530557</td>\n",
       "      <td>3.698007</td>\n",
       "      <td>1.467770</td>\n",
       "      <td>4.846750</td>\n",
       "      <td>3.274578</td>\n",
       "      <td>1.458293</td>\n",
       "      <td>5.010395</td>\n",
       "      <td>1.632286</td>\n",
       "      <td>1.742879</td>\n",
       "      <td>5.041478</td>\n",
       "      <td>4.235906</td>\n",
       "      <td>1.734144</td>\n",
       "      <td>4.417056</td>\n",
       "      <td>3.816689</td>\n",
       "      <td>1.502152</td>\n",
       "      <td>5.084478</td>\n",
       "      <td>3.404305</td>\n",
       "      <td>1.478445</td>\n",
       "      <td>5.718500e+06</td>\n",
       "    </tr>\n",
       "    <tr>\n",
       "      <th>50%</th>\n",
       "      <td>4.870256</td>\n",
       "      <td>4.266777</td>\n",
       "      <td>1.487985</td>\n",
       "      <td>5.199142</td>\n",
       "      <td>4.122335</td>\n",
       "      <td>1.487003</td>\n",
       "      <td>5.073397</td>\n",
       "      <td>1.655894</td>\n",
       "      <td>1.757832</td>\n",
       "      <td>5.074966</td>\n",
       "      <td>4.272721</td>\n",
       "      <td>1.740951</td>\n",
       "      <td>4.717515</td>\n",
       "      <td>4.236164</td>\n",
       "      <td>1.531247</td>\n",
       "      <td>5.368165</td>\n",
       "      <td>4.146416</td>\n",
       "      <td>1.521121</td>\n",
       "      <td>5.734350e+06</td>\n",
       "    </tr>\n",
       "    <tr>\n",
       "      <th>75%</th>\n",
       "      <td>5.153918</td>\n",
       "      <td>4.737138</td>\n",
       "      <td>1.524848</td>\n",
       "      <td>5.817285</td>\n",
       "      <td>4.374306</td>\n",
       "      <td>1.517133</td>\n",
       "      <td>5.167158</td>\n",
       "      <td>1.678649</td>\n",
       "      <td>1.766782</td>\n",
       "      <td>5.141455</td>\n",
       "      <td>4.297685</td>\n",
       "      <td>1.748727</td>\n",
       "      <td>4.936841</td>\n",
       "      <td>4.602459</td>\n",
       "      <td>1.554412</td>\n",
       "      <td>5.845651</td>\n",
       "      <td>4.387562</td>\n",
       "      <td>1.544963</td>\n",
       "      <td>5.751136e+06</td>\n",
       "    </tr>\n",
       "    <tr>\n",
       "      <th>max</th>\n",
       "      <td>6.212834</td>\n",
       "      <td>5.414431</td>\n",
       "      <td>1.673418</td>\n",
       "      <td>8.546903</td>\n",
       "      <td>5.453834</td>\n",
       "      <td>1.722231</td>\n",
       "      <td>5.605544</td>\n",
       "      <td>1.965343</td>\n",
       "      <td>1.853095</td>\n",
       "      <td>5.586325</td>\n",
       "      <td>4.822887</td>\n",
       "      <td>1.811931</td>\n",
       "      <td>5.798482</td>\n",
       "      <td>5.142542</td>\n",
       "      <td>1.668777</td>\n",
       "      <td>8.266059</td>\n",
       "      <td>5.240774</td>\n",
       "      <td>1.719505</td>\n",
       "      <td>5.807537e+06</td>\n",
       "    </tr>\n",
       "  </tbody>\n",
       "</table>\n",
       "</div>"
      ],
      "text/plain": [
       "               lhx          lhy          lhz          rhx          rhy  \\\n",
       "count  1747.000000  1747.000000  1747.000000  1747.000000  1747.000000   \n",
       "mean      4.733099     4.110179     1.492067     5.400730     3.860213   \n",
       "std       0.706462     0.782359     0.064146     0.807955     0.870350   \n",
       "min       1.712471     1.660291     1.183290     3.653736     1.296046   \n",
       "25%       4.530557     3.698007     1.467770     4.846750     3.274578   \n",
       "50%       4.870256     4.266777     1.487985     5.199142     4.122335   \n",
       "75%       5.153918     4.737138     1.524848     5.817285     4.374306   \n",
       "max       6.212834     5.414431     1.673418     8.546903     5.453834   \n",
       "\n",
       "               rhz           hx           hy           hz           sx  \\\n",
       "count  1747.000000  1747.000000  1747.000000  1747.000000  1747.000000   \n",
       "mean      1.483939     5.084119     1.660346     1.753750     5.099306   \n",
       "std       0.070478     0.181948     0.058347     0.024135     0.126167   \n",
       "min       1.221158     4.435888     1.415457     1.664271     4.737700   \n",
       "25%       1.458293     5.010395     1.632286     1.742879     5.041478   \n",
       "50%       1.487003     5.073397     1.655894     1.757832     5.074966   \n",
       "75%       1.517133     5.167158     1.678649     1.766782     5.141455   \n",
       "max       1.722231     5.605544     1.965343     1.853095     5.586325   \n",
       "\n",
       "                sy           sz          lwx          lwy          lwz  \\\n",
       "count  1747.000000  1747.000000  1747.000000  1747.000000  1747.000000   \n",
       "mean      4.264994     1.742626     4.584839     4.110311     1.521522   \n",
       "std       0.061245     0.016544     0.622707     0.683990     0.061683   \n",
       "min       3.992892     1.698297     1.969708     1.953082     1.245345   \n",
       "25%       4.235906     1.734144     4.417056     3.816689     1.502152   \n",
       "50%       4.272721     1.740951     4.717515     4.236164     1.531247   \n",
       "75%       4.297685     1.748727     4.936841     4.602459     1.554412   \n",
       "max       4.822887     1.811931     5.798482     5.142542     1.668777   \n",
       "\n",
       "               rwx          rwy          rwz     timestamp  \n",
       "count  1747.000000  1747.000000  1747.000000  1.747000e+03  \n",
       "mean      5.538275     3.902637     1.506997  5.739172e+06  \n",
       "std       0.689032     0.786473     0.071968  2.796631e+04  \n",
       "min       3.963918     1.643037     1.262197  5.702026e+06  \n",
       "25%       5.084478     3.404305     1.478445  5.718500e+06  \n",
       "50%       5.368165     4.146416     1.521121  5.734350e+06  \n",
       "75%       5.845651     4.387562     1.544963  5.751136e+06  \n",
       "max       8.266059     5.240774     1.719505  5.807537e+06  "
      ]
     },
     "execution_count": 4,
     "metadata": {},
     "output_type": "execute_result"
    }
   ],
   "source": [
    "df.describe()"
   ]
  },
  {
   "cell_type": "code",
   "execution_count": 5,
   "metadata": {},
   "outputs": [
    {
     "data": {
      "text/plain": [
       "+            0\n",
       "lhy          0\n",
       "lhz          0\n",
       "rhx          0\n",
       "rhy          0\n",
       "rhz          0\n",
       "hx           0\n",
       "hy           0\n",
       "hz           0\n",
       "sx           0\n",
       "sy           0\n",
       "sz           0\n",
       "lwx          0\n",
       "lwy          0\n",
       "lwz          0\n",
       "rwx          0\n",
       "rwy          0\n",
       "rwz          0\n",
       "timestamp    0\n",
       "phase        0\n",
       "dtype: int64"
      ]
     },
     "execution_count": 5,
     "metadata": {},
     "output_type": "execute_result"
    }
   ],
   "source": [
    "df.isnull().sum()"
   ]
  },
  {
   "cell_type": "code",
   "execution_count": 6,
   "metadata": {},
   "outputs": [
    {
     "data": {
      "text/plain": [
       "(1747, 20)"
      ]
     },
     "execution_count": 6,
     "metadata": {},
     "output_type": "execute_result"
    }
   ],
   "source": [
    "df.shape"
   ]
  },
  {
   "cell_type": "code",
   "execution_count": 7,
   "metadata": {},
   "outputs": [
    {
     "data": {
      "text/plain": [
       "+            float64\n",
       "lhy          float64\n",
       "lhz          float64\n",
       "rhx          float64\n",
       "rhy          float64\n",
       "rhz          float64\n",
       "hx           float64\n",
       "hy           float64\n",
       "hz           float64\n",
       "sx           float64\n",
       "sy           float64\n",
       "sz           float64\n",
       "lwx          float64\n",
       "lwy          float64\n",
       "lwz          float64\n",
       "rwx          float64\n",
       "rwy          float64\n",
       "rwz          float64\n",
       "timestamp      int64\n",
       "phase         object\n",
       "dtype: object"
      ]
     },
     "execution_count": 7,
     "metadata": {},
     "output_type": "execute_result"
    }
   ],
   "source": [
    "df.dtypes"
   ]
  },
  {
   "cell_type": "code",
   "execution_count": 5,
   "metadata": {},
   "outputs": [
    {
     "name": "stdout",
     "output_type": "stream",
     "text": [
      "<class 'pandas.core.frame.DataFrame'>\n",
      "RangeIndex: 1747 entries, 0 to 1746\n",
      "Data columns (total 20 columns):\n",
      "lhx          1747 non-null float64\n",
      "lhy          1747 non-null float64\n",
      "lhz          1747 non-null float64\n",
      "rhx          1747 non-null float64\n",
      "rhy          1747 non-null float64\n",
      "rhz          1747 non-null float64\n",
      "hx           1747 non-null float64\n",
      "hy           1747 non-null float64\n",
      "hz           1747 non-null float64\n",
      "sx           1747 non-null float64\n",
      "sy           1747 non-null float64\n",
      "sz           1747 non-null float64\n",
      "lwx          1747 non-null float64\n",
      "lwy          1747 non-null float64\n",
      "lwz          1747 non-null float64\n",
      "rwx          1747 non-null float64\n",
      "rwy          1747 non-null float64\n",
      "rwz          1747 non-null float64\n",
      "timestamp    1747 non-null int64\n",
      "phase        1747 non-null object\n",
      "dtypes: float64(18), int64(1), object(1)\n",
      "memory usage: 273.0+ KB\n"
     ]
    }
   ],
   "source": [
    "df.info()"
   ]
  },
  {
   "cell_type": "code",
   "execution_count": 6,
   "metadata": {},
   "outputs": [
    {
     "data": {
      "text/plain": [
       "rwx        lhx         -0.665247\n",
       "           lwx         -0.661808\n",
       "hz         hy          -0.643988\n",
       "lhx        rhx         -0.642599\n",
       "lwx        rhx         -0.639295\n",
       "rwy        rhx         -0.519598\n",
       "rhx        rhy         -0.514604\n",
       "rwy        rwx         -0.499794\n",
       "rwx        rhy         -0.496505\n",
       "sy         sz          -0.434036\n",
       "           lhz         -0.403520\n",
       "           rwz         -0.393665\n",
       "rhz        sy          -0.365950\n",
       "sy         lwz         -0.345289\n",
       "rhx        hz          -0.330124\n",
       "rwx        hz          -0.307600\n",
       "timestamp  rhx         -0.305590\n",
       "rwx        lwy         -0.300869\n",
       "rhx        lwy         -0.293540\n",
       "timestamp  rwx         -0.278305\n",
       "rwx        lhy         -0.267560\n",
       "lhy        rhx         -0.257114\n",
       "lhx        hy          -0.246826\n",
       "hy         rwz         -0.221162\n",
       "           sz          -0.214220\n",
       "           lwx         -0.204784\n",
       "lhx        lhz         -0.199326\n",
       "sx         timestamp   -0.190507\n",
       "lhz        lwx         -0.185987\n",
       "sy         rwx         -0.184157\n",
       "                          ...   \n",
       "lwx        hz           0.280518\n",
       "lhy        rhy          0.291368\n",
       "hz         lhx          0.313527\n",
       "lhy        rwy          0.318779\n",
       "rhz        sz           0.323218\n",
       "lwy        rhy          0.326184\n",
       "           rwy          0.355629\n",
       "lhy        lwx          0.357289\n",
       "hx         rwy          0.359000\n",
       "lhx        lhy          0.376107\n",
       "rhy        hx           0.381667\n",
       "lwy        lwx          0.382410\n",
       "hy         sy           0.402491\n",
       "sz         rwz          0.405324\n",
       "lhx        lwy          0.405905\n",
       "sz         lhz          0.429927\n",
       "lwz        sz           0.442307\n",
       "hz         sz           0.465885\n",
       "rhz        lwz          0.586773\n",
       "lhz        rhz          0.629573\n",
       "           rwz          0.631792\n",
       "lwz        rwz          0.636387\n",
       "hx         sx           0.864790\n",
       "lhz        lwz          0.885914\n",
       "rhz        rwz          0.921685\n",
       "lhx        lwx          0.972619\n",
       "rwx        rhx          0.978752\n",
       "lwy        lhy          0.983357\n",
       "rwy        rhy          0.988308\n",
       "lhx        lhx          1.000000\n",
       "Length: 172, dtype: float64"
      ]
     },
     "execution_count": 6,
     "metadata": {},
     "output_type": "execute_result"
    }
   ],
   "source": [
    "df.corr().unstack().sort_values().drop_duplicates()"
   ]
  },
  {
   "cell_type": "code",
   "execution_count": 7,
   "metadata": {},
   "outputs": [],
   "source": [
    "from sklearn.preprocessing import LabelEncoder"
   ]
  },
  {
   "cell_type": "code",
   "execution_count": 8,
   "metadata": {},
   "outputs": [
    {
     "data": {
      "text/html": [
       "<div>\n",
       "<style scoped>\n",
       "    .dataframe tbody tr th:only-of-type {\n",
       "        vertical-align: middle;\n",
       "    }\n",
       "\n",
       "    .dataframe tbody tr th {\n",
       "        vertical-align: top;\n",
       "    }\n",
       "\n",
       "    .dataframe thead th {\n",
       "        text-align: right;\n",
       "    }\n",
       "</style>\n",
       "<table border=\"1\" class=\"dataframe\">\n",
       "  <thead>\n",
       "    <tr style=\"text-align: right;\">\n",
       "      <th></th>\n",
       "      <th>lhx</th>\n",
       "      <th>lhy</th>\n",
       "      <th>lhz</th>\n",
       "      <th>rhx</th>\n",
       "      <th>rhy</th>\n",
       "      <th>rhz</th>\n",
       "      <th>hx</th>\n",
       "      <th>hy</th>\n",
       "      <th>hz</th>\n",
       "      <th>sx</th>\n",
       "      <th>sy</th>\n",
       "      <th>sz</th>\n",
       "      <th>lwx</th>\n",
       "      <th>lwy</th>\n",
       "      <th>lwz</th>\n",
       "      <th>rwx</th>\n",
       "      <th>rwy</th>\n",
       "      <th>rwz</th>\n",
       "      <th>timestamp</th>\n",
       "      <th>phase</th>\n",
       "    </tr>\n",
       "  </thead>\n",
       "  <tbody>\n",
       "    <tr>\n",
       "      <th>0</th>\n",
       "      <td>5.347435</td>\n",
       "      <td>4.363681</td>\n",
       "      <td>1.501913</td>\n",
       "      <td>5.258967</td>\n",
       "      <td>4.319263</td>\n",
       "      <td>1.488703</td>\n",
       "      <td>5.037871</td>\n",
       "      <td>1.618295</td>\n",
       "      <td>1.778350</td>\n",
       "      <td>5.062803</td>\n",
       "      <td>4.229656</td>\n",
       "      <td>1.772577</td>\n",
       "      <td>4.972902</td>\n",
       "      <td>4.301065</td>\n",
       "      <td>1.564781</td>\n",
       "      <td>5.553945</td>\n",
       "      <td>4.370456</td>\n",
       "      <td>1.553521</td>\n",
       "      <td>5702026</td>\n",
       "      <td>2</td>\n",
       "    </tr>\n",
       "    <tr>\n",
       "      <th>1</th>\n",
       "      <td>4.869622</td>\n",
       "      <td>4.254210</td>\n",
       "      <td>1.556133</td>\n",
       "      <td>5.240113</td>\n",
       "      <td>4.346338</td>\n",
       "      <td>1.554309</td>\n",
       "      <td>5.037610</td>\n",
       "      <td>1.618370</td>\n",
       "      <td>1.778573</td>\n",
       "      <td>5.061430</td>\n",
       "      <td>4.228504</td>\n",
       "      <td>1.772859</td>\n",
       "      <td>4.974908</td>\n",
       "      <td>4.303656</td>\n",
       "      <td>1.565527</td>\n",
       "      <td>5.423875</td>\n",
       "      <td>4.303708</td>\n",
       "      <td>1.569942</td>\n",
       "      <td>5702058</td>\n",
       "      <td>2</td>\n",
       "    </tr>\n",
       "    <tr>\n",
       "      <th>2</th>\n",
       "      <td>5.357447</td>\n",
       "      <td>4.364039</td>\n",
       "      <td>1.500969</td>\n",
       "      <td>5.238928</td>\n",
       "      <td>4.347924</td>\n",
       "      <td>1.554150</td>\n",
       "      <td>5.037514</td>\n",
       "      <td>1.618298</td>\n",
       "      <td>1.778774</td>\n",
       "      <td>5.059245</td>\n",
       "      <td>4.228004</td>\n",
       "      <td>1.773568</td>\n",
       "      <td>4.981612</td>\n",
       "      <td>4.305363</td>\n",
       "      <td>1.563643</td>\n",
       "      <td>5.332170</td>\n",
       "      <td>4.438061</td>\n",
       "      <td>1.572841</td>\n",
       "      <td>5702089</td>\n",
       "      <td>2</td>\n",
       "    </tr>\n",
       "    <tr>\n",
       "      <th>3</th>\n",
       "      <td>4.942886</td>\n",
       "      <td>4.281878</td>\n",
       "      <td>1.546513</td>\n",
       "      <td>5.111436</td>\n",
       "      <td>4.229660</td>\n",
       "      <td>1.527091</td>\n",
       "      <td>5.037526</td>\n",
       "      <td>1.618612</td>\n",
       "      <td>1.778855</td>\n",
       "      <td>5.056475</td>\n",
       "      <td>4.226891</td>\n",
       "      <td>1.774519</td>\n",
       "      <td>4.987158</td>\n",
       "      <td>4.304063</td>\n",
       "      <td>1.565929</td>\n",
       "      <td>5.311104</td>\n",
       "      <td>4.396774</td>\n",
       "      <td>1.566368</td>\n",
       "      <td>5702120</td>\n",
       "      <td>2</td>\n",
       "    </tr>\n",
       "    <tr>\n",
       "      <th>4</th>\n",
       "      <td>5.003160</td>\n",
       "      <td>4.278530</td>\n",
       "      <td>1.542866</td>\n",
       "      <td>4.985812</td>\n",
       "      <td>4.182155</td>\n",
       "      <td>1.520330</td>\n",
       "      <td>5.037557</td>\n",
       "      <td>1.619226</td>\n",
       "      <td>1.778925</td>\n",
       "      <td>5.052367</td>\n",
       "      <td>4.225485</td>\n",
       "      <td>1.775536</td>\n",
       "      <td>4.983912</td>\n",
       "      <td>4.296833</td>\n",
       "      <td>1.569889</td>\n",
       "      <td>5.193762</td>\n",
       "      <td>4.335417</td>\n",
       "      <td>1.560144</td>\n",
       "      <td>5702167</td>\n",
       "      <td>2</td>\n",
       "    </tr>\n",
       "  </tbody>\n",
       "</table>\n",
       "</div>"
      ],
      "text/plain": [
       "        lhx       lhy       lhz       rhx       rhy       rhz        hx  \\\n",
       "0  5.347435  4.363681  1.501913  5.258967  4.319263  1.488703  5.037871   \n",
       "1  4.869622  4.254210  1.556133  5.240113  4.346338  1.554309  5.037610   \n",
       "2  5.357447  4.364039  1.500969  5.238928  4.347924  1.554150  5.037514   \n",
       "3  4.942886  4.281878  1.546513  5.111436  4.229660  1.527091  5.037526   \n",
       "4  5.003160  4.278530  1.542866  4.985812  4.182155  1.520330  5.037557   \n",
       "\n",
       "         hy        hz        sx        sy        sz       lwx       lwy  \\\n",
       "0  1.618295  1.778350  5.062803  4.229656  1.772577  4.972902  4.301065   \n",
       "1  1.618370  1.778573  5.061430  4.228504  1.772859  4.974908  4.303656   \n",
       "2  1.618298  1.778774  5.059245  4.228004  1.773568  4.981612  4.305363   \n",
       "3  1.618612  1.778855  5.056475  4.226891  1.774519  4.987158  4.304063   \n",
       "4  1.619226  1.778925  5.052367  4.225485  1.775536  4.983912  4.296833   \n",
       "\n",
       "        lwz       rwx       rwy       rwz  timestamp  phase  \n",
       "0  1.564781  5.553945  4.370456  1.553521    5702026      2  \n",
       "1  1.565527  5.423875  4.303708  1.569942    5702058      2  \n",
       "2  1.563643  5.332170  4.438061  1.572841    5702089      2  \n",
       "3  1.565929  5.311104  4.396774  1.566368    5702120      2  \n",
       "4  1.569889  5.193762  4.335417  1.560144    5702167      2  "
      ]
     },
     "execution_count": 8,
     "metadata": {},
     "output_type": "execute_result"
    }
   ],
   "source": [
    "labelencoder=LabelEncoder()\n",
    "for col in df.columns:\n",
    "    df['phase']=labelencoder.fit_transform(df['phase'])\n",
    "df.head()"
   ]
  },
  {
   "cell_type": "code",
   "execution_count": null,
   "metadata": {},
   "outputs": [],
   "source": [
    "##plt.hist(df)"
   ]
  },
  {
   "cell_type": "code",
   "execution_count": 9,
   "metadata": {},
   "outputs": [
    {
     "data": {
      "text/plain": [
       "{'whiskers': [<matplotlib.lines.Line2D at 0x2a1d5900e10>,\n",
       "  <matplotlib.lines.Line2D at 0x2a1d5900ef0>],\n",
       " 'caps': [<matplotlib.lines.Line2D at 0x2a1d59174e0>,\n",
       "  <matplotlib.lines.Line2D at 0x2a1d5917828>],\n",
       " 'boxes': [<matplotlib.lines.Line2D at 0x2a1d59009e8>],\n",
       " 'medians': [<matplotlib.lines.Line2D at 0x2a1d5917b70>],\n",
       " 'fliers': [<matplotlib.lines.Line2D at 0x2a1d5917eb8>],\n",
       " 'means': []}"
      ]
     },
     "execution_count": 9,
     "metadata": {},
     "output_type": "execute_result"
    },
    {
     "data": {
      "image/png": "[encoded data removed]",
      "text/plain": [
       "<Figure size 432x288 with 1 Axes>"
      ]
     },
     "metadata": {
      "needs_background": "light"
     },
     "output_type": "display_data"
    }
   ],
   "source": [
    "plt.boxplot(df['lhx'])"
   ]
  },
  {
   "cell_type": "code",
   "execution_count": 10,
   "metadata": {},
   "outputs": [
    {
     "name": "stdout",
     "output_type": "stream",
     "text": [
      "0.6233605000000004\n",
      "6.088958250000001\n",
      "3.5955162499999993\n"
     ]
    },
    {
     "name": "stderr",
     "output_type": "stream",
     "text": [
      "C:\\Users\\hp\\Anaconda3\\3.7\\lib\\site-packages\\ipykernel_launcher.py:10: SettingWithCopyWarning: \n",
      "A value is trying to be set on a copy of a slice from a DataFrame\n",
      "\n",
      "See the caveats in the documentation: http://pandas.pydata.org/pandas-docs/stable/indexing.html#indexing-view-versus-copy\n",
      "  # Remove the CWD from sys.path while we load stuff.\n",
      "C:\\Users\\hp\\Anaconda3\\3.7\\lib\\site-packages\\ipykernel_launcher.py:11: SettingWithCopyWarning: \n",
      "A value is trying to be set on a copy of a slice from a DataFrame\n",
      "\n",
      "See the caveats in the documentation: http://pandas.pydata.org/pandas-docs/stable/indexing.html#indexing-view-versus-copy\n",
      "  # This is added back by InteractiveShellApp.init_path()\n"
     ]
    },
    {
     "data": {
      "text/plain": [
       "{'whiskers': [<matplotlib.lines.Line2D at 0x2a1d599d5c0>,\n",
       "  <matplotlib.lines.Line2D at 0x2a1d599d908>],\n",
       " 'caps': [<matplotlib.lines.Line2D at 0x2a1d599dc50>,\n",
       "  <matplotlib.lines.Line2D at 0x2a1d599df98>],\n",
       " 'boxes': [<matplotlib.lines.Line2D at 0x2a1d599d198>],\n",
       " 'medians': [<matplotlib.lines.Line2D at 0x2a1d59a7320>],\n",
       " 'fliers': [<matplotlib.lines.Line2D at 0x2a1d59a7668>],\n",
       " 'means': []}"
      ]
     },
     "execution_count": 10,
     "metadata": {},
     "output_type": "execute_result"
    },
    {
     "data": {
      "image/png": "[encoded data removed]",
      "text/plain": [
       "<Figure size 432x288 with 1 Axes>"
      ]
     },
     "metadata": {
      "needs_background": "light"
     },
     "output_type": "display_data"
    }
   ],
   "source": [
    "a=a=df['lhx'].quantile([0.25,0.5,0.75])\n",
    "IQR=a[0.75]-a[0.25]\n",
    "print(IQR)\n",
    "IQR15=1.5*IQR\n",
    "IQR15\n",
    "upper_wishk=a[0.75]+IQR15\n",
    "lower_wishk=a[0.25]-IQR15\n",
    "print(upper_wishk)\n",
    "print(lower_wishk)\n",
    "df['lhx'][df['lhx'] > upper_wishk]=upper_wishk\n",
    "df['lhx'][df['lhx'] <lower_wishk]=lower_wishk\n",
    "plt.boxplot(df['lhx'])"
   ]
  },
  {
   "cell_type": "code",
   "execution_count": 11,
   "metadata": {},
   "outputs": [
    {
     "data": {
      "text/plain": [
       "{'whiskers': [<matplotlib.lines.Line2D at 0x2a1d59f6cc0>,\n",
       "  <matplotlib.lines.Line2D at 0x2a1d59f6da0>],\n",
       " 'caps': [<matplotlib.lines.Line2D at 0x2a1d5a00390>,\n",
       "  <matplotlib.lines.Line2D at 0x2a1d5a006d8>],\n",
       " 'boxes': [<matplotlib.lines.Line2D at 0x2a1d59f68d0>],\n",
       " 'medians': [<matplotlib.lines.Line2D at 0x2a1d5a00a20>],\n",
       " 'fliers': [<matplotlib.lines.Line2D at 0x2a1d5a00d68>],\n",
       " 'means': []}"
      ]
     },
     "execution_count": 11,
     "metadata": {},
     "output_type": "execute_result"
    },
    {
     "data": {
      "image/png": "[encoded data removed]",
      "text/plain": [
       "<Figure size 432x288 with 1 Axes>"
      ]
     },
     "metadata": {
      "needs_background": "light"
     },
     "output_type": "display_data"
    }
   ],
   "source": [
    "plt.boxplot(df['lhy'])"
   ]
  },
  {
   "cell_type": "code",
   "execution_count": 12,
   "metadata": {},
   "outputs": [
    {
     "name": "stdout",
     "output_type": "stream",
     "text": [
      "1.0391300000000006\n",
      "6.295832500000001\n",
      "2.139312499999999\n"
     ]
    },
    {
     "name": "stderr",
     "output_type": "stream",
     "text": [
      "C:\\Users\\hp\\Anaconda3\\3.7\\lib\\site-packages\\ipykernel_launcher.py:10: SettingWithCopyWarning: \n",
      "A value is trying to be set on a copy of a slice from a DataFrame\n",
      "\n",
      "See the caveats in the documentation: http://pandas.pydata.org/pandas-docs/stable/indexing.html#indexing-view-versus-copy\n",
      "  # Remove the CWD from sys.path while we load stuff.\n",
      "C:\\Users\\hp\\Anaconda3\\3.7\\lib\\site-packages\\ipykernel_launcher.py:11: SettingWithCopyWarning: \n",
      "A value is trying to be set on a copy of a slice from a DataFrame\n",
      "\n",
      "See the caveats in the documentation: http://pandas.pydata.org/pandas-docs/stable/indexing.html#indexing-view-versus-copy\n",
      "  # This is added back by InteractiveShellApp.init_path()\n"
     ]
    },
    {
     "data": {
      "text/plain": [
       "{'whiskers': [<matplotlib.lines.Line2D at 0x2a1d5a62d30>,\n",
       "  <matplotlib.lines.Line2D at 0x2a1d5a62e10>],\n",
       " 'caps': [<matplotlib.lines.Line2D at 0x2a1d5a6d400>,\n",
       "  <matplotlib.lines.Line2D at 0x2a1d5a6d748>],\n",
       " 'boxes': [<matplotlib.lines.Line2D at 0x2a1d5a62908>],\n",
       " 'medians': [<matplotlib.lines.Line2D at 0x2a1d5a6da90>],\n",
       " 'fliers': [<matplotlib.lines.Line2D at 0x2a1d5a6ddd8>],\n",
       " 'means': []}"
      ]
     },
     "execution_count": 12,
     "metadata": {},
     "output_type": "execute_result"
    },
    {
     "data": {
      "image/png": "[encoded data removed]",
      "text/plain": [
       "<Figure size 432x288 with 1 Axes>"
      ]
     },
     "metadata": {
      "needs_background": "light"
     },
     "output_type": "display_data"
    }
   ],
   "source": [
    "a=a=df['lhy'].quantile([0.25,0.5,0.75])\n",
    "IQR=a[0.75]-a[0.25]\n",
    "print(IQR)\n",
    "IQR15=1.5*IQR\n",
    "IQR15\n",
    "upper_wishk=a[0.75]+IQR15\n",
    "lower_wishk=a[0.25]-IQR15\n",
    "print(upper_wishk)\n",
    "print(lower_wishk)\n",
    "df['lhy'][df['lhy'] > upper_wishk]=upper_wishk\n",
    "df['lhy'][df['lhy'] <lower_wishk]=lower_wishk\n",
    "plt.boxplot(df['lhy'])"
   ]
  },
  {
   "cell_type": "code",
   "execution_count": 13,
   "metadata": {},
   "outputs": [
    {
     "data": {
      "text/plain": [
       "{'whiskers': [<matplotlib.lines.Line2D at 0x2a1d5abfb38>,\n",
       "  <matplotlib.lines.Line2D at 0x2a1d5abfe80>],\n",
       " 'caps': [<matplotlib.lines.Line2D at 0x2a1d5abffd0>,\n",
       "  <matplotlib.lines.Line2D at 0x2a1d5ac85c0>],\n",
       " 'boxes': [<matplotlib.lines.Line2D at 0x2a1d5abf748>],\n",
       " 'medians': [<matplotlib.lines.Line2D at 0x2a1d5ac8908>],\n",
       " 'fliers': [<matplotlib.lines.Line2D at 0x2a1d5ac8c50>],\n",
       " 'means': []}"
      ]
     },
     "execution_count": 13,
     "metadata": {},
     "output_type": "execute_result"
    },
    {
     "data": {
      "image/png": "[encoded data removed]",
      "text/plain": [
       "<Figure size 432x288 with 1 Axes>"
      ]
     },
     "metadata": {
      "needs_background": "light"
     },
     "output_type": "display_data"
    }
   ],
   "source": [
    "plt.boxplot(df['lhz'])"
   ]
  },
  {
   "cell_type": "code",
   "execution_count": 14,
   "metadata": {},
   "outputs": [
    {
     "name": "stdout",
     "output_type": "stream",
     "text": [
      "0.05707849999999981\n",
      "1.6104657499999997\n",
      "1.3821517500000005\n"
     ]
    },
    {
     "name": "stderr",
     "output_type": "stream",
     "text": [
      "C:\\Users\\hp\\Anaconda3\\3.7\\lib\\site-packages\\ipykernel_launcher.py:10: SettingWithCopyWarning: \n",
      "A value is trying to be set on a copy of a slice from a DataFrame\n",
      "\n",
      "See the caveats in the documentation: http://pandas.pydata.org/pandas-docs/stable/indexing.html#indexing-view-versus-copy\n",
      "  # Remove the CWD from sys.path while we load stuff.\n",
      "C:\\Users\\hp\\Anaconda3\\3.7\\lib\\site-packages\\ipykernel_launcher.py:11: SettingWithCopyWarning: \n",
      "A value is trying to be set on a copy of a slice from a DataFrame\n",
      "\n",
      "See the caveats in the documentation: http://pandas.pydata.org/pandas-docs/stable/indexing.html#indexing-view-versus-copy\n",
      "  # This is added back by InteractiveShellApp.init_path()\n"
     ]
    },
    {
     "data": {
      "text/plain": [
       "{'whiskers': [<matplotlib.lines.Line2D at 0x2a1d5b1e320>,\n",
       "  <matplotlib.lines.Line2D at 0x2a1d5b1e668>],\n",
       " 'caps': [<matplotlib.lines.Line2D at 0x2a1d5b1e9b0>,\n",
       "  <matplotlib.lines.Line2D at 0x2a1d5b1ecf8>],\n",
       " 'boxes': [<matplotlib.lines.Line2D at 0x2a1d5b12eb8>],\n",
       " 'medians': [<matplotlib.lines.Line2D at 0x2a1d5b1edd8>],\n",
       " 'fliers': [<matplotlib.lines.Line2D at 0x2a1d5b273c8>],\n",
       " 'means': []}"
      ]
     },
     "execution_count": 14,
     "metadata": {},
     "output_type": "execute_result"
    },
    {
     "data": {
      "image/png": "[encoded data removed]",
      "text/plain": [
       "<Figure size 432x288 with 1 Axes>"
      ]
     },
     "metadata": {
      "needs_background": "light"
     },
     "output_type": "display_data"
    }
   ],
   "source": [
    "a=a=df['lhz'].quantile([0.25,0.5,0.75])\n",
    "IQR=a[0.75]-a[0.25]\n",
    "print(IQR)\n",
    "IQR15=1.5*IQR\n",
    "IQR15\n",
    "upper_wishk=a[0.75]+IQR15\n",
    "lower_wishk=a[0.25]-IQR15\n",
    "print(upper_wishk)\n",
    "print(lower_wishk)\n",
    "df['lhz'][df['lhz'] > upper_wishk]=upper_wishk\n",
    "df['lhz'][df['lhz'] <lower_wishk]=lower_wishk\n",
    "plt.boxplot(df['lhz'])"
   ]
  },
  {
   "cell_type": "code",
   "execution_count": 15,
   "metadata": {},
   "outputs": [
    {
     "data": {
      "text/plain": [
       "{'whiskers': [<matplotlib.lines.Line2D at 0x2a1d5b65f28>,\n",
       "  <matplotlib.lines.Line2D at 0x2a1d5b70550>],\n",
       " 'caps': [<matplotlib.lines.Line2D at 0x2a1d5b70898>,\n",
       "  <matplotlib.lines.Line2D at 0x2a1d5b70be0>],\n",
       " 'boxes': [<matplotlib.lines.Line2D at 0x2a1d5b65dd8>],\n",
       " 'medians': [<matplotlib.lines.Line2D at 0x2a1d5b70f28>],\n",
       " 'fliers': [<matplotlib.lines.Line2D at 0x2a1d5b7c2b0>],\n",
       " 'means': []}"
      ]
     },
     "execution_count": 15,
     "metadata": {},
     "output_type": "execute_result"
    },
    {
     "data": {
      "image/png": "[encoded data removed]",
      "text/plain": [
       "<Figure size 432x288 with 1 Axes>"
      ]
     },
     "metadata": {
      "needs_background": "light"
     },
     "output_type": "display_data"
    }
   ],
   "source": [
    "plt.boxplot(df['rhx'])"
   ]
  },
  {
   "cell_type": "code",
   "execution_count": 16,
   "metadata": {},
   "outputs": [
    {
     "name": "stdout",
     "output_type": "stream",
     "text": [
      "0.9705349999999999\n",
      "7.2730875\n",
      "3.3909475000000002\n"
     ]
    },
    {
     "name": "stderr",
     "output_type": "stream",
     "text": [
      "C:\\Users\\hp\\Anaconda3\\3.7\\lib\\site-packages\\ipykernel_launcher.py:10: SettingWithCopyWarning: \n",
      "A value is trying to be set on a copy of a slice from a DataFrame\n",
      "\n",
      "See the caveats in the documentation: http://pandas.pydata.org/pandas-docs/stable/indexing.html#indexing-view-versus-copy\n",
      "  # Remove the CWD from sys.path while we load stuff.\n",
      "C:\\Users\\hp\\Anaconda3\\3.7\\lib\\site-packages\\ipykernel_launcher.py:11: SettingWithCopyWarning: \n",
      "A value is trying to be set on a copy of a slice from a DataFrame\n",
      "\n",
      "See the caveats in the documentation: http://pandas.pydata.org/pandas-docs/stable/indexing.html#indexing-view-versus-copy\n",
      "  # This is added back by InteractiveShellApp.init_path()\n"
     ]
    },
    {
     "data": {
      "text/plain": [
       "{'whiskers': [<matplotlib.lines.Line2D at 0x2a1d5bc3898>,\n",
       "  <matplotlib.lines.Line2D at 0x2a1d5bc3be0>],\n",
       " 'caps': [<matplotlib.lines.Line2D at 0x2a1d5bc3f28>,\n",
       "  <matplotlib.lines.Line2D at 0x2a1d5bce2b0>],\n",
       " 'boxes': [<matplotlib.lines.Line2D at 0x2a1d5bc3470>],\n",
       " 'medians': [<matplotlib.lines.Line2D at 0x2a1d5bce5f8>],\n",
       " 'fliers': [<matplotlib.lines.Line2D at 0x2a1d5bce940>],\n",
       " 'means': []}"
      ]
     },
     "execution_count": 16,
     "metadata": {},
     "output_type": "execute_result"
    },
    {
     "data": {
      "image/png": "[encoded data removed]",
      "text/plain": [
       "<Figure size 432x288 with 1 Axes>"
      ]
     },
     "metadata": {
      "needs_background": "light"
     },
     "output_type": "display_data"
    }
   ],
   "source": [
    "a=a=df['rhx'].quantile([0.25,0.5,0.75])\n",
    "IQR=a[0.75]-a[0.25]\n",
    "print(IQR)\n",
    "IQR15=1.5*IQR\n",
    "IQR15\n",
    "upper_wishk=a[0.75]+IQR15\n",
    "lower_wishk=a[0.25]-IQR15\n",
    "print(upper_wishk)\n",
    "print(lower_wishk)\n",
    "df['rhx'][df['rhx'] > upper_wishk]=upper_wishk\n",
    "df['rhx'][df['rhx'] <lower_wishk]=lower_wishk\n",
    "plt.boxplot(df['rhx'])"
   ]
  },
  {
   "cell_type": "code",
   "execution_count": 17,
   "metadata": {},
   "outputs": [
    {
     "data": {
      "text/plain": [
       "{'whiskers': [<matplotlib.lines.Line2D at 0x2a1d5c21630>,\n",
       "  <matplotlib.lines.Line2D at 0x2a1d5c219e8>],\n",
       " 'caps': [<matplotlib.lines.Line2D at 0x2a1d5c21d30>,\n",
       "  <matplotlib.lines.Line2D at 0x2a1d5c21e10>],\n",
       " 'boxes': [<matplotlib.lines.Line2D at 0x2a1d5c21240>],\n",
       " 'medians': [<matplotlib.lines.Line2D at 0x2a1d5c2c400>],\n",
       " 'fliers': [<matplotlib.lines.Line2D at 0x2a1d5c2c748>],\n",
       " 'means': []}"
      ]
     },
     "execution_count": 17,
     "metadata": {},
     "output_type": "execute_result"
    },
    {
     "data": {
      "image/png": "[encoded data removed]",
      "text/plain": [
       "<Figure size 432x288 with 1 Axes>"
      ]
     },
     "metadata": {
      "needs_background": "light"
     },
     "output_type": "display_data"
    }
   ],
   "source": [
    "plt.boxplot(df['rhy'])"
   ]
  },
  {
   "cell_type": "code",
   "execution_count": 19,
   "metadata": {},
   "outputs": [
    {
     "name": "stdout",
     "output_type": "stream",
     "text": [
      "1.0997285000000003\n",
      "6.023898750000001\n",
      "1.6249847499999999\n"
     ]
    },
    {
     "name": "stderr",
     "output_type": "stream",
     "text": [
      "C:\\Users\\hp\\Anaconda3\\3.7\\lib\\site-packages\\ipykernel_launcher.py:10: SettingWithCopyWarning: \n",
      "A value is trying to be set on a copy of a slice from a DataFrame\n",
      "\n",
      "See the caveats in the documentation: http://pandas.pydata.org/pandas-docs/stable/indexing.html#indexing-view-versus-copy\n",
      "  # Remove the CWD from sys.path while we load stuff.\n",
      "C:\\Users\\hp\\Anaconda3\\3.7\\lib\\site-packages\\ipykernel_launcher.py:11: SettingWithCopyWarning: \n",
      "A value is trying to be set on a copy of a slice from a DataFrame\n",
      "\n",
      "See the caveats in the documentation: http://pandas.pydata.org/pandas-docs/stable/indexing.html#indexing-view-versus-copy\n",
      "  # This is added back by InteractiveShellApp.init_path()\n"
     ]
    },
    {
     "data": {
      "text/plain": [
       "{'whiskers': [<matplotlib.lines.Line2D at 0x2a1d5c74908>,\n",
       "  <matplotlib.lines.Line2D at 0x2a1d5c74c50>],\n",
       " 'caps': [<matplotlib.lines.Line2D at 0x2a1d5c74f98>,\n",
       "  <matplotlib.lines.Line2D at 0x2a1d5c7f320>],\n",
       " 'boxes': [<matplotlib.lines.Line2D at 0x2a1d5c744e0>],\n",
       " 'medians': [<matplotlib.lines.Line2D at 0x2a1d5c7f668>],\n",
       " 'fliers': [<matplotlib.lines.Line2D at 0x2a1d5c7f9b0>],\n",
       " 'means': []}"
      ]
     },
     "execution_count": 19,
     "metadata": {},
     "output_type": "execute_result"
    },
    {
     "data": {
      "image/png": "[encoded data removed]",
      "text/plain": [
       "<Figure size 432x288 with 1 Axes>"
      ]
     },
     "metadata": {
      "needs_background": "light"
     },
     "output_type": "display_data"
    }
   ],
   "source": [
    "a=a=df['rhy'].quantile([0.25,0.5,0.75])\n",
    "IQR=a[0.75]-a[0.25]\n",
    "print(IQR)\n",
    "IQR15=1.5*IQR\n",
    "IQR15\n",
    "upper_wishk=a[0.75]+IQR15\n",
    "lower_wishk=a[0.25]-IQR15\n",
    "print(upper_wishk)\n",
    "print(lower_wishk)\n",
    "df['rhy'][df['rhy'] > upper_wishk]=upper_wishk\n",
    "df['rhy'][df['rhy'] <lower_wishk]=lower_wishk\n",
    "plt.boxplot(df['rhy'])"
   ]
  },
  {
   "cell_type": "code",
   "execution_count": 20,
   "metadata": {},
   "outputs": [
    {
     "data": {
      "text/plain": [
       "{'whiskers': [<matplotlib.lines.Line2D at 0x2a1d5ccfb38>,\n",
       "  <matplotlib.lines.Line2D at 0x2a1d5ccfe80>],\n",
       " 'caps': [<matplotlib.lines.Line2D at 0x2a1d5ccff60>,\n",
       "  <matplotlib.lines.Line2D at 0x2a1d5cdb5c0>],\n",
       " 'boxes': [<matplotlib.lines.Line2D at 0x2a1d5ccf748>],\n",
       " 'medians': [<matplotlib.lines.Line2D at 0x2a1d5cdb908>],\n",
       " 'fliers': [<matplotlib.lines.Line2D at 0x2a1d5cdbc50>],\n",
       " 'means': []}"
      ]
     },
     "execution_count": 20,
     "metadata": {},
     "output_type": "execute_result"
    },
    {
     "data": {
      "image/png": "[encoded data removed]",
      "text/plain": [
       "<Figure size 432x288 with 1 Axes>"
      ]
     },
     "metadata": {
      "needs_background": "light"
     },
     "output_type": "display_data"
    }
   ],
   "source": [
    "plt.boxplot(df['rhz'])"
   ]
  },
  {
   "cell_type": "code",
   "execution_count": 21,
   "metadata": {},
   "outputs": [
    {
     "name": "stdout",
     "output_type": "stream",
     "text": [
      "0.05883950000000038\n",
      "1.6053917500000008\n",
      "1.3700337499999993\n"
     ]
    },
    {
     "name": "stderr",
     "output_type": "stream",
     "text": [
      "C:\\Users\\hp\\Anaconda3\\3.7\\lib\\site-packages\\ipykernel_launcher.py:10: SettingWithCopyWarning: \n",
      "A value is trying to be set on a copy of a slice from a DataFrame\n",
      "\n",
      "See the caveats in the documentation: http://pandas.pydata.org/pandas-docs/stable/indexing.html#indexing-view-versus-copy\n",
      "  # Remove the CWD from sys.path while we load stuff.\n",
      "C:\\Users\\hp\\Anaconda3\\3.7\\lib\\site-packages\\ipykernel_launcher.py:11: SettingWithCopyWarning: \n",
      "A value is trying to be set on a copy of a slice from a DataFrame\n",
      "\n",
      "See the caveats in the documentation: http://pandas.pydata.org/pandas-docs/stable/indexing.html#indexing-view-versus-copy\n",
      "  # This is added back by InteractiveShellApp.init_path()\n"
     ]
    },
    {
     "data": {
      "text/plain": [
       "{'whiskers': [<matplotlib.lines.Line2D at 0x2a1d5d2d828>,\n",
       "  <matplotlib.lines.Line2D at 0x2a1d5d2db70>],\n",
       " 'caps': [<matplotlib.lines.Line2D at 0x2a1d5d2deb8>,\n",
       "  <matplotlib.lines.Line2D at 0x2a1d5d2df98>],\n",
       " 'boxes': [<matplotlib.lines.Line2D at 0x2a1d5d2d400>],\n",
       " 'medians': [<matplotlib.lines.Line2D at 0x2a1d5d37588>],\n",
       " 'fliers': [<matplotlib.lines.Line2D at 0x2a1d5d378d0>],\n",
       " 'means': []}"
      ]
     },
     "execution_count": 21,
     "metadata": {},
     "output_type": "execute_result"
    },
    {
     "data": {
      "image/png": "[encoded data removed]",
      "text/plain": [
       "<Figure size 432x288 with 1 Axes>"
      ]
     },
     "metadata": {
      "needs_background": "light"
     },
     "output_type": "display_data"
    }
   ],
   "source": [
    "a=a=df['rhz'].quantile([0.25,0.5,0.75])\n",
    "IQR=a[0.75]-a[0.25]\n",
    "print(IQR)\n",
    "IQR15=1.5*IQR\n",
    "IQR15\n",
    "upper_wishk=a[0.75]+IQR15\n",
    "lower_wishk=a[0.25]-IQR15\n",
    "print(upper_wishk)\n",
    "print(lower_wishk)\n",
    "df['rhz'][df['rhz'] > upper_wishk]=upper_wishk\n",
    "df['rhz'][df['rhz'] <lower_wishk]=lower_wishk\n",
    "plt.boxplot(df['rhz'])"
   ]
  },
  {
   "cell_type": "code",
   "execution_count": 22,
   "metadata": {},
   "outputs": [
    {
     "data": {
      "text/plain": [
       "{'whiskers': [<matplotlib.lines.Line2D at 0x2a1d5d80710>,\n",
       "  <matplotlib.lines.Line2D at 0x2a1d5d80a58>],\n",
       " 'caps': [<matplotlib.lines.Line2D at 0x2a1d5d80da0>,\n",
       "  <matplotlib.lines.Line2D at 0x2a1d5d80e80>],\n",
       " 'boxes': [<matplotlib.lines.Line2D at 0x2a1d5d80320>],\n",
       " 'medians': [<matplotlib.lines.Line2D at 0x2a1d5d8a470>],\n",
       " 'fliers': [<matplotlib.lines.Line2D at 0x2a1d5d8a7b8>],\n",
       " 'means': []}"
      ]
     },
     "execution_count": 22,
     "metadata": {},
     "output_type": "execute_result"
    },
    {
     "data": {
      "image/png": "[encoded data removed]",
      "text/plain": [
       "<Figure size 432x288 with 1 Axes>"
      ]
     },
     "metadata": {
      "needs_background": "light"
     },
     "output_type": "display_data"
    }
   ],
   "source": [
    "plt.boxplot(df['hx'])"
   ]
  },
  {
   "cell_type": "code",
   "execution_count": 23,
   "metadata": {},
   "outputs": [
    {
     "name": "stdout",
     "output_type": "stream",
     "text": [
      "0.15676250000000103\n",
      "5.402301750000002\n",
      "4.775251749999998\n"
     ]
    },
    {
     "name": "stderr",
     "output_type": "stream",
     "text": [
      "C:\\Users\\hp\\Anaconda3\\3.7\\lib\\site-packages\\ipykernel_launcher.py:10: SettingWithCopyWarning: \n",
      "A value is trying to be set on a copy of a slice from a DataFrame\n",
      "\n",
      "See the caveats in the documentation: http://pandas.pydata.org/pandas-docs/stable/indexing.html#indexing-view-versus-copy\n",
      "  # Remove the CWD from sys.path while we load stuff.\n",
      "C:\\Users\\hp\\Anaconda3\\3.7\\lib\\site-packages\\ipykernel_launcher.py:11: SettingWithCopyWarning: \n",
      "A value is trying to be set on a copy of a slice from a DataFrame\n",
      "\n",
      "See the caveats in the documentation: http://pandas.pydata.org/pandas-docs/stable/indexing.html#indexing-view-versus-copy\n",
      "  # This is added back by InteractiveShellApp.init_path()\n"
     ]
    },
    {
     "data": {
      "text/plain": [
       "{'whiskers': [<matplotlib.lines.Line2D at 0x2a1d5dd8898>,\n",
       "  <matplotlib.lines.Line2D at 0x2a1d5dd8be0>],\n",
       " 'caps': [<matplotlib.lines.Line2D at 0x2a1d5dd8f28>,\n",
       "  <matplotlib.lines.Line2D at 0x2a1d5de42b0>],\n",
       " 'boxes': [<matplotlib.lines.Line2D at 0x2a1d5dd8470>],\n",
       " 'medians': [<matplotlib.lines.Line2D at 0x2a1d5de45f8>],\n",
       " 'fliers': [<matplotlib.lines.Line2D at 0x2a1d5de4940>],\n",
       " 'means': []}"
      ]
     },
     "execution_count": 23,
     "metadata": {},
     "output_type": "execute_result"
    },
    {
     "data": {
      "image/png": "[encoded data removed]",
      "text/plain": [
       "<Figure size 432x288 with 1 Axes>"
      ]
     },
     "metadata": {
      "needs_background": "light"
     },
     "output_type": "display_data"
    }
   ],
   "source": [
    "a=a=df['hx'].quantile([0.25,0.5,0.75])\n",
    "IQR=a[0.75]-a[0.25]\n",
    "print(IQR)\n",
    "IQR15=1.5*IQR\n",
    "IQR15\n",
    "upper_wishk=a[0.75]+IQR15\n",
    "lower_wishk=a[0.25]-IQR15\n",
    "print(upper_wishk)\n",
    "print(lower_wishk)\n",
    "df['hx'][df['hx'] > upper_wishk]=upper_wishk\n",
    "df['hx'][df['hx'] <lower_wishk]=lower_wishk\n",
    "plt.boxplot(df['hx'])"
   ]
  },
  {
   "cell_type": "code",
   "execution_count": 24,
   "metadata": {},
   "outputs": [
    {
     "data": {
      "text/plain": [
       "{'whiskers': [<matplotlib.lines.Line2D at 0x2a1d5e2ce80>,\n",
       "  <matplotlib.lines.Line2D at 0x2a1d5e384e0>],\n",
       " 'caps': [<matplotlib.lines.Line2D at 0x2a1d5e38828>,\n",
       "  <matplotlib.lines.Line2D at 0x2a1d5e38b70>],\n",
       " 'boxes': [<matplotlib.lines.Line2D at 0x2a1d5e2cd30>],\n",
       " 'medians': [<matplotlib.lines.Line2D at 0x2a1d5e38eb8>],\n",
       " 'fliers': [<matplotlib.lines.Line2D at 0x2a1d5e38f98>],\n",
       " 'means': []}"
      ]
     },
     "execution_count": 24,
     "metadata": {},
     "output_type": "execute_result"
    },
    {
     "data": {
      "image/png": "[encoded data removed]",
      "text/plain": [
       "<Figure size 432x288 with 1 Axes>"
      ]
     },
     "metadata": {
      "needs_background": "light"
     },
     "output_type": "display_data"
    }
   ],
   "source": [
    "plt.boxplot(df['hy'])"
   ]
  },
  {
   "cell_type": "code",
   "execution_count": 25,
   "metadata": {},
   "outputs": [
    {
     "name": "stdout",
     "output_type": "stream",
     "text": [
      "0.046362500000000084\n",
      "1.7481927500000003\n",
      "1.56274275\n"
     ]
    },
    {
     "name": "stderr",
     "output_type": "stream",
     "text": [
      "C:\\Users\\hp\\Anaconda3\\3.7\\lib\\site-packages\\ipykernel_launcher.py:10: SettingWithCopyWarning: \n",
      "A value is trying to be set on a copy of a slice from a DataFrame\n",
      "\n",
      "See the caveats in the documentation: http://pandas.pydata.org/pandas-docs/stable/indexing.html#indexing-view-versus-copy\n",
      "  # Remove the CWD from sys.path while we load stuff.\n",
      "C:\\Users\\hp\\Anaconda3\\3.7\\lib\\site-packages\\ipykernel_launcher.py:11: SettingWithCopyWarning: \n",
      "A value is trying to be set on a copy of a slice from a DataFrame\n",
      "\n",
      "See the caveats in the documentation: http://pandas.pydata.org/pandas-docs/stable/indexing.html#indexing-view-versus-copy\n",
      "  # This is added back by InteractiveShellApp.init_path()\n"
     ]
    },
    {
     "data": {
      "text/plain": [
       "{'whiskers': [<matplotlib.lines.Line2D at 0x2a1d5e8add8>,\n",
       "  <matplotlib.lines.Line2D at 0x2a1d5e8aeb8>],\n",
       " 'caps': [<matplotlib.lines.Line2D at 0x2a1d5e944a8>,\n",
       "  <matplotlib.lines.Line2D at 0x2a1d5e947f0>],\n",
       " 'boxes': [<matplotlib.lines.Line2D at 0x2a1d5e8a9b0>],\n",
       " 'medians': [<matplotlib.lines.Line2D at 0x2a1d5e94b38>],\n",
       " 'fliers': [<matplotlib.lines.Line2D at 0x2a1d5e94e80>],\n",
       " 'means': []}"
      ]
     },
     "execution_count": 25,
     "metadata": {},
     "output_type": "execute_result"
    },
    {
     "data": {
      "image/png": "[encoded data removed]",
      "text/plain": [
       "<Figure size 432x288 with 1 Axes>"
      ]
     },
     "metadata": {
      "needs_background": "light"
     },
     "output_type": "display_data"
    }
   ],
   "source": [
    "a=a=df['hy'].quantile([0.25,0.5,0.75])\n",
    "IQR=a[0.75]-a[0.25]\n",
    "print(IQR)\n",
    "IQR15=1.5*IQR\n",
    "IQR15\n",
    "upper_wishk=a[0.75]+IQR15\n",
    "lower_wishk=a[0.25]-IQR15\n",
    "print(upper_wishk)\n",
    "print(lower_wishk)\n",
    "df['hy'][df['hy'] > upper_wishk]=upper_wishk\n",
    "df['hy'][df['hy'] <lower_wishk]=lower_wishk\n",
    "plt.boxplot(df['hy'])"
   ]
  },
  {
   "cell_type": "code",
   "execution_count": 26,
   "metadata": {},
   "outputs": [
    {
     "data": {
      "text/plain": [
       "{'whiskers': [<matplotlib.lines.Line2D at 0x2a1d5ee8b70>,\n",
       "  <matplotlib.lines.Line2D at 0x2a1d5ee8ef0>],\n",
       " 'caps': [<matplotlib.lines.Line2D at 0x2a1d5ee8fd0>,\n",
       "  <matplotlib.lines.Line2D at 0x2a1d5ef35c0>],\n",
       " 'boxes': [<matplotlib.lines.Line2D at 0x2a1d5ee8780>],\n",
       " 'medians': [<matplotlib.lines.Line2D at 0x2a1d5ef3908>],\n",
       " 'fliers': [<matplotlib.lines.Line2D at 0x2a1d5ef3c50>],\n",
       " 'means': []}"
      ]
     },
     "execution_count": 26,
     "metadata": {},
     "output_type": "execute_result"
    },
    {
     "data": {
      "image/png": "[encoded data removed]",
      "text/plain": [
       "<Figure size 432x288 with 1 Axes>"
      ]
     },
     "metadata": {
      "needs_background": "light"
     },
     "output_type": "display_data"
    }
   ],
   "source": [
    "plt.boxplot(df['hz'])"
   ]
  },
  {
   "cell_type": "code",
   "execution_count": 27,
   "metadata": {},
   "outputs": [
    {
     "name": "stdout",
     "output_type": "stream",
     "text": [
      "0.023903500000000077\n",
      "1.8026377500000001\n",
      "1.7070237499999998\n"
     ]
    },
    {
     "name": "stderr",
     "output_type": "stream",
     "text": [
      "C:\\Users\\hp\\Anaconda3\\3.7\\lib\\site-packages\\ipykernel_launcher.py:10: SettingWithCopyWarning: \n",
      "A value is trying to be set on a copy of a slice from a DataFrame\n",
      "\n",
      "See the caveats in the documentation: http://pandas.pydata.org/pandas-docs/stable/indexing.html#indexing-view-versus-copy\n",
      "  # Remove the CWD from sys.path while we load stuff.\n",
      "C:\\Users\\hp\\Anaconda3\\3.7\\lib\\site-packages\\ipykernel_launcher.py:11: SettingWithCopyWarning: \n",
      "A value is trying to be set on a copy of a slice from a DataFrame\n",
      "\n",
      "See the caveats in the documentation: http://pandas.pydata.org/pandas-docs/stable/indexing.html#indexing-view-versus-copy\n",
      "  # This is added back by InteractiveShellApp.init_path()\n"
     ]
    },
    {
     "data": {
      "text/plain": [
       "{'whiskers': [<matplotlib.lines.Line2D at 0x2a1d5f42f60>,\n",
       "  <matplotlib.lines.Line2D at 0x2a1d5f4f5c0>],\n",
       " 'caps': [<matplotlib.lines.Line2D at 0x2a1d5f4f908>,\n",
       "  <matplotlib.lines.Line2D at 0x2a1d5f4fc50>],\n",
       " 'boxes': [<matplotlib.lines.Line2D at 0x2a1d5f42e10>],\n",
       " 'medians': [<matplotlib.lines.Line2D at 0x2a1d5f4ff98>],\n",
       " 'fliers': [<matplotlib.lines.Line2D at 0x2a1d5f58358>],\n",
       " 'means': []}"
      ]
     },
     "execution_count": 27,
     "metadata": {},
     "output_type": "execute_result"
    },
    {
     "data": {
      "image/png": "[encoded data removed]",
      "text/plain": [
       "<Figure size 432x288 with 1 Axes>"
      ]
     },
     "metadata": {
      "needs_background": "light"
     },
     "output_type": "display_data"
    }
   ],
   "source": [
    "a=a=df['hz'].quantile([0.25,0.5,0.75])\n",
    "IQR=a[0.75]-a[0.25]\n",
    "print(IQR)\n",
    "IQR15=1.5*IQR\n",
    "IQR15\n",
    "upper_wishk=a[0.75]+IQR15\n",
    "lower_wishk=a[0.25]-IQR15\n",
    "print(upper_wishk)\n",
    "print(lower_wishk)\n",
    "df['hz'][df['hz'] > upper_wishk]=upper_wishk\n",
    "df['hz'][df['hz'] <lower_wishk]=lower_wishk\n",
    "plt.boxplot(df['hz'])"
   ]
  },
  {
   "cell_type": "code",
   "execution_count": 28,
   "metadata": {},
   "outputs": [
    {
     "data": {
      "text/plain": [
       "{'whiskers': [<matplotlib.lines.Line2D at 0x2a1d5f99e10>,\n",
       "  <matplotlib.lines.Line2D at 0x2a1d5fa5470>],\n",
       " 'caps': [<matplotlib.lines.Line2D at 0x2a1d5fa57b8>,\n",
       "  <matplotlib.lines.Line2D at 0x2a1d5fa5b00>],\n",
       " 'boxes': [<matplotlib.lines.Line2D at 0x2a1d5f99cc0>],\n",
       " 'medians': [<matplotlib.lines.Line2D at 0x2a1d5fa5e48>],\n",
       " 'fliers': [<matplotlib.lines.Line2D at 0x2a1d5fa5f28>],\n",
       " 'means': []}"
      ]
     },
     "execution_count": 28,
     "metadata": {},
     "output_type": "execute_result"
    },
    {
     "data": {
      "image/png": "[encoded data removed]",
      "text/plain": [
       "<Figure size 432x288 with 1 Axes>"
      ]
     },
     "metadata": {
      "needs_background": "light"
     },
     "output_type": "display_data"
    }
   ],
   "source": [
    "plt.boxplot(df['sx'])"
   ]
  },
  {
   "cell_type": "code",
   "execution_count": 29,
   "metadata": {},
   "outputs": [
    {
     "name": "stdout",
     "output_type": "stream",
     "text": [
      "0.09997700000000087\n",
      "5.291420500000002\n",
      "4.891512499999998\n"
     ]
    },
    {
     "name": "stderr",
     "output_type": "stream",
     "text": [
      "C:\\Users\\hp\\Anaconda3\\3.7\\lib\\site-packages\\ipykernel_launcher.py:10: SettingWithCopyWarning: \n",
      "A value is trying to be set on a copy of a slice from a DataFrame\n",
      "\n",
      "See the caveats in the documentation: http://pandas.pydata.org/pandas-docs/stable/indexing.html#indexing-view-versus-copy\n",
      "  # Remove the CWD from sys.path while we load stuff.\n",
      "C:\\Users\\hp\\Anaconda3\\3.7\\lib\\site-packages\\ipykernel_launcher.py:11: SettingWithCopyWarning: \n",
      "A value is trying to be set on a copy of a slice from a DataFrame\n",
      "\n",
      "See the caveats in the documentation: http://pandas.pydata.org/pandas-docs/stable/indexing.html#indexing-view-versus-copy\n",
      "  # This is added back by InteractiveShellApp.init_path()\n"
     ]
    },
    {
     "data": {
      "text/plain": [
       "{'whiskers': [<matplotlib.lines.Line2D at 0x2a1d5ff5898>,\n",
       "  <matplotlib.lines.Line2D at 0x2a1d5ff5be0>],\n",
       " 'caps': [<matplotlib.lines.Line2D at 0x2a1d5ff5f28>,\n",
       "  <matplotlib.lines.Line2D at 0x2a1d5fff2b0>],\n",
       " 'boxes': [<matplotlib.lines.Line2D at 0x2a1d5ff5470>],\n",
       " 'medians': [<matplotlib.lines.Line2D at 0x2a1d5fff5f8>],\n",
       " 'fliers': [<matplotlib.lines.Line2D at 0x2a1d5fff940>],\n",
       " 'means': []}"
      ]
     },
     "execution_count": 29,
     "metadata": {},
     "output_type": "execute_result"
    },
    {
     "data": {
      "image/png": "[encoded data removed]",
      "text/plain": [
       "<Figure size 432x288 with 1 Axes>"
      ]
     },
     "metadata": {
      "needs_background": "light"
     },
     "output_type": "display_data"
    }
   ],
   "source": [
    "a=a=df['sx'].quantile([0.25,0.5,0.75])\n",
    "IQR=a[0.75]-a[0.25]\n",
    "print(IQR)\n",
    "IQR15=1.5*IQR\n",
    "IQR15\n",
    "upper_wishk=a[0.75]+IQR15\n",
    "lower_wishk=a[0.25]-IQR15\n",
    "print(upper_wishk)\n",
    "print(lower_wishk)\n",
    "df['sx'][df['sx'] > upper_wishk]=upper_wishk\n",
    "df['sx'][df['sx'] <lower_wishk]=lower_wishk\n",
    "plt.boxplot(df['sx'])"
   ]
  },
  {
   "cell_type": "code",
   "execution_count": 30,
   "metadata": {},
   "outputs": [
    {
     "data": {
      "text/plain": [
       "{'whiskers': [<matplotlib.lines.Line2D at 0x2a1d6052b00>,\n",
       "  <matplotlib.lines.Line2D at 0x2a1d6052e48>],\n",
       " 'caps': [<matplotlib.lines.Line2D at 0x2a1d6052f28>,\n",
       "  <matplotlib.lines.Line2D at 0x2a1d605e518>],\n",
       " 'boxes': [<matplotlib.lines.Line2D at 0x2a1d6052710>],\n",
       " 'medians': [<matplotlib.lines.Line2D at 0x2a1d605e8d0>],\n",
       " 'fliers': [<matplotlib.lines.Line2D at 0x2a1d605ec18>],\n",
       " 'means': []}"
      ]
     },
     "execution_count": 30,
     "metadata": {},
     "output_type": "execute_result"
    },
    {
     "data": {
      "image/png": "[encoded data removed]",
      "text/plain": [
       "<Figure size 432x288 with 1 Axes>"
      ]
     },
     "metadata": {
      "needs_background": "light"
     },
     "output_type": "display_data"
    }
   ],
   "source": [
    "plt.boxplot(df['sy'])"
   ]
  },
  {
   "cell_type": "code",
   "execution_count": 31,
   "metadata": {},
   "outputs": [
    {
     "name": "stdout",
     "output_type": "stream",
     "text": [
      "0.061778999999999584\n",
      "4.390353499999999\n",
      "4.143237500000001\n"
     ]
    },
    {
     "name": "stderr",
     "output_type": "stream",
     "text": [
      "C:\\Users\\hp\\Anaconda3\\3.7\\lib\\site-packages\\ipykernel_launcher.py:10: SettingWithCopyWarning: \n",
      "A value is trying to be set on a copy of a slice from a DataFrame\n",
      "\n",
      "See the caveats in the documentation: http://pandas.pydata.org/pandas-docs/stable/indexing.html#indexing-view-versus-copy\n",
      "  # Remove the CWD from sys.path while we load stuff.\n",
      "C:\\Users\\hp\\Anaconda3\\3.7\\lib\\site-packages\\ipykernel_launcher.py:11: SettingWithCopyWarning: \n",
      "A value is trying to be set on a copy of a slice from a DataFrame\n",
      "\n",
      "See the caveats in the documentation: http://pandas.pydata.org/pandas-docs/stable/indexing.html#indexing-view-versus-copy\n",
      "  # This is added back by InteractiveShellApp.init_path()\n"
     ]
    },
    {
     "data": {
      "text/plain": [
       "{'whiskers': [<matplotlib.lines.Line2D at 0x2a1d60a4f98>,\n",
       "  <matplotlib.lines.Line2D at 0x2a1d60b15f8>],\n",
       " 'caps': [<matplotlib.lines.Line2D at 0x2a1d60b1940>,\n",
       "  <matplotlib.lines.Line2D at 0x2a1d60b1c88>],\n",
       " 'boxes': [<matplotlib.lines.Line2D at 0x2a1d60a4e48>],\n",
       " 'medians': [<matplotlib.lines.Line2D at 0x2a1d60b1fd0>],\n",
       " 'fliers': [<matplotlib.lines.Line2D at 0x2a1d60bb358>],\n",
       " 'means': []}"
      ]
     },
     "execution_count": 31,
     "metadata": {},
     "output_type": "execute_result"
    },
    {
     "data": {
      "image/png": "[encoded data removed]",
      "text/plain": [
       "<Figure size 432x288 with 1 Axes>"
      ]
     },
     "metadata": {
      "needs_background": "light"
     },
     "output_type": "display_data"
    }
   ],
   "source": [
    "a=a=df['sy'].quantile([0.25,0.5,0.75])\n",
    "IQR=a[0.75]-a[0.25]\n",
    "print(IQR)\n",
    "IQR15=1.5*IQR\n",
    "IQR15\n",
    "upper_wishk=a[0.75]+IQR15\n",
    "lower_wishk=a[0.25]-IQR15\n",
    "print(upper_wishk)\n",
    "print(lower_wishk)\n",
    "df['sy'][df['sy'] > upper_wishk]=upper_wishk\n",
    "df['sy'][df['sy'] <lower_wishk]=lower_wishk\n",
    "plt.boxplot(df['sy'])"
   ]
  },
  {
   "cell_type": "code",
   "execution_count": 32,
   "metadata": {},
   "outputs": [
    {
     "data": {
      "text/plain": [
       "{'whiskers': [<matplotlib.lines.Line2D at 0x2a1d70d56a0>,\n",
       "  <matplotlib.lines.Line2D at 0x2a1d70d5a58>],\n",
       " 'caps': [<matplotlib.lines.Line2D at 0x2a1d70d5da0>,\n",
       "  <matplotlib.lines.Line2D at 0x2a1d70d5e80>],\n",
       " 'boxes': [<matplotlib.lines.Line2D at 0x2a1d70d52b0>],\n",
       " 'medians': [<matplotlib.lines.Line2D at 0x2a1d70e0470>],\n",
       " 'fliers': [<matplotlib.lines.Line2D at 0x2a1d70e07b8>],\n",
       " 'means': []}"
      ]
     },
     "execution_count": 32,
     "metadata": {},
     "output_type": "execute_result"
    },
    {
     "data": {
      "image/png": "[encoded data removed]",
      "text/plain": [
       "<Figure size 432x288 with 1 Axes>"
      ]
     },
     "metadata": {
      "needs_background": "light"
     },
     "output_type": "display_data"
    }
   ],
   "source": [
    "plt.boxplot(df['sz'])"
   ]
  },
  {
   "cell_type": "code",
   "execution_count": 33,
   "metadata": {},
   "outputs": [
    {
     "name": "stdout",
     "output_type": "stream",
     "text": [
      "0.014582500000000165\n",
      "1.7706007500000003\n",
      "1.7122707499999996\n"
     ]
    },
    {
     "name": "stderr",
     "output_type": "stream",
     "text": [
      "C:\\Users\\hp\\Anaconda3\\3.7\\lib\\site-packages\\ipykernel_launcher.py:10: SettingWithCopyWarning: \n",
      "A value is trying to be set on a copy of a slice from a DataFrame\n",
      "\n",
      "See the caveats in the documentation: http://pandas.pydata.org/pandas-docs/stable/indexing.html#indexing-view-versus-copy\n",
      "  # Remove the CWD from sys.path while we load stuff.\n",
      "C:\\Users\\hp\\Anaconda3\\3.7\\lib\\site-packages\\ipykernel_launcher.py:11: SettingWithCopyWarning: \n",
      "A value is trying to be set on a copy of a slice from a DataFrame\n",
      "\n",
      "See the caveats in the documentation: http://pandas.pydata.org/pandas-docs/stable/indexing.html#indexing-view-versus-copy\n",
      "  # This is added back by InteractiveShellApp.init_path()\n"
     ]
    },
    {
     "data": {
      "text/plain": [
       "{'whiskers': [<matplotlib.lines.Line2D at 0x2a1d7131358>,\n",
       "  <matplotlib.lines.Line2D at 0x2a1d71316a0>],\n",
       " 'caps': [<matplotlib.lines.Line2D at 0x2a1d71319e8>,\n",
       "  <matplotlib.lines.Line2D at 0x2a1d7131d30>],\n",
       " 'boxes': [<matplotlib.lines.Line2D at 0x2a1d7125ef0>],\n",
       " 'medians': [<matplotlib.lines.Line2D at 0x2a1d7131e10>],\n",
       " 'fliers': [<matplotlib.lines.Line2D at 0x2a1d713b400>],\n",
       " 'means': []}"
      ]
     },
     "execution_count": 33,
     "metadata": {},
     "output_type": "execute_result"
    },
    {
     "data": {
      "image/png": "[encoded data removed]",
      "text/plain": [
       "<Figure size 432x288 with 1 Axes>"
      ]
     },
     "metadata": {
      "needs_background": "light"
     },
     "output_type": "display_data"
    }
   ],
   "source": [
    "a=a=df['sz'].quantile([0.25,0.5,0.75])\n",
    "IQR=a[0.75]-a[0.25]\n",
    "print(IQR)\n",
    "IQR15=1.5*IQR\n",
    "IQR15\n",
    "upper_wishk=a[0.75]+IQR15\n",
    "lower_wishk=a[0.25]-IQR15\n",
    "print(upper_wishk)\n",
    "print(lower_wishk)\n",
    "df['sz'][df['sz'] > upper_wishk]=upper_wishk\n",
    "df['sz'][df['sz'] <lower_wishk]=lower_wishk\n",
    "plt.boxplot(df['sz'])"
   ]
  },
  {
   "cell_type": "code",
   "execution_count": 34,
   "metadata": {},
   "outputs": [
    {
     "data": {
      "text/plain": [
       "{'whiskers': [<matplotlib.lines.Line2D at 0x2a1d7184c18>,\n",
       "  <matplotlib.lines.Line2D at 0x2a1d7184f60>],\n",
       " 'caps': [<matplotlib.lines.Line2D at 0x2a1d718e2e8>,\n",
       "  <matplotlib.lines.Line2D at 0x2a1d718e630>],\n",
       " 'boxes': [<matplotlib.lines.Line2D at 0x2a1d7184828>],\n",
       " 'medians': [<matplotlib.lines.Line2D at 0x2a1d718e978>],\n",
       " 'fliers': [<matplotlib.lines.Line2D at 0x2a1d718ecc0>],\n",
       " 'means': []}"
      ]
     },
     "execution_count": 34,
     "metadata": {},
     "output_type": "execute_result"
    },
    {
     "data": {
      "image/png": "[encoded data removed]",
      "text/plain": [
       "<Figure size 432x288 with 1 Axes>"
      ]
     },
     "metadata": {
      "needs_background": "light"
     },
     "output_type": "display_data"
    }
   ],
   "source": [
    "plt.boxplot(df['lwx'])"
   ]
  },
  {
   "cell_type": "code",
   "execution_count": 35,
   "metadata": {},
   "outputs": [
    {
     "name": "stdout",
     "output_type": "stream",
     "text": [
      "0.5197854999999993\n",
      "5.716519749999999\n",
      "3.6373777500000015\n"
     ]
    },
    {
     "name": "stderr",
     "output_type": "stream",
     "text": [
      "C:\\Users\\hp\\Anaconda3\\3.7\\lib\\site-packages\\ipykernel_launcher.py:10: SettingWithCopyWarning: \n",
      "A value is trying to be set on a copy of a slice from a DataFrame\n",
      "\n",
      "See the caveats in the documentation: http://pandas.pydata.org/pandas-docs/stable/indexing.html#indexing-view-versus-copy\n",
      "  # Remove the CWD from sys.path while we load stuff.\n",
      "C:\\Users\\hp\\Anaconda3\\3.7\\lib\\site-packages\\ipykernel_launcher.py:11: SettingWithCopyWarning: \n",
      "A value is trying to be set on a copy of a slice from a DataFrame\n",
      "\n",
      "See the caveats in the documentation: http://pandas.pydata.org/pandas-docs/stable/indexing.html#indexing-view-versus-copy\n",
      "  # This is added back by InteractiveShellApp.init_path()\n"
     ]
    },
    {
     "data": {
      "text/plain": [
       "{'whiskers': [<matplotlib.lines.Line2D at 0x2a1d71def98>,\n",
       "  <matplotlib.lines.Line2D at 0x2a1d71ea5f8>],\n",
       " 'caps': [<matplotlib.lines.Line2D at 0x2a1d71ea940>,\n",
       "  <matplotlib.lines.Line2D at 0x2a1d71eac88>],\n",
       " 'boxes': [<matplotlib.lines.Line2D at 0x2a1d71dee48>],\n",
       " 'medians': [<matplotlib.lines.Line2D at 0x2a1d71eafd0>],\n",
       " 'fliers': [<matplotlib.lines.Line2D at 0x2a1d71f2358>],\n",
       " 'means': []}"
      ]
     },
     "execution_count": 35,
     "metadata": {},
     "output_type": "execute_result"
    },
    {
     "data": {
      "image/png": "[encoded data removed]",
      "text/plain": [
       "<Figure size 432x288 with 1 Axes>"
      ]
     },
     "metadata": {
      "needs_background": "light"
     },
     "output_type": "display_data"
    }
   ],
   "source": [
    "a=a=df['lwx'].quantile([0.25,0.5,0.75])\n",
    "IQR=a[0.75]-a[0.25]\n",
    "print(IQR)\n",
    "IQR15=1.5*IQR\n",
    "IQR15\n",
    "upper_wishk=a[0.75]+IQR15\n",
    "lower_wishk=a[0.25]-IQR15\n",
    "print(upper_wishk)\n",
    "print(lower_wishk)\n",
    "df['lwx'][df['lwx'] > upper_wishk]=upper_wishk\n",
    "df['lwx'][df['lwx'] <lower_wishk]=lower_wishk\n",
    "plt.boxplot(df['lwx'])"
   ]
  },
  {
   "cell_type": "code",
   "execution_count": 41,
   "metadata": {},
   "outputs": [
    {
     "data": {
      "text/plain": [
       "{'whiskers': [<matplotlib.lines.Line2D at 0x2a1d73de3c8>,\n",
       "  <matplotlib.lines.Line2D at 0x2a1d73de710>],\n",
       " 'caps': [<matplotlib.lines.Line2D at 0x2a1d73deac8>,\n",
       "  <matplotlib.lines.Line2D at 0x2a1d73dee10>],\n",
       " 'boxes': [<matplotlib.lines.Line2D at 0x2a1d73d4f98>],\n",
       " 'medians': [<matplotlib.lines.Line2D at 0x2a1d73deef0>],\n",
       " 'fliers': [<matplotlib.lines.Line2D at 0x2a1d73e94e0>],\n",
       " 'means': []}"
      ]
     },
     "execution_count": 41,
     "metadata": {},
     "output_type": "execute_result"
    },
    {
     "data": {
      "image/png": "[encoded data removed]",
      "text/plain": [
       "<Figure size 432x288 with 1 Axes>"
      ]
     },
     "metadata": {
      "needs_background": "light"
     },
     "output_type": "display_data"
    }
   ],
   "source": [
    "plt.boxplot(df['lwy'])"
   ]
  },
  {
   "cell_type": "code",
   "execution_count": 42,
   "metadata": {},
   "outputs": [
    {
     "name": "stdout",
     "output_type": "stream",
     "text": [
      "0.7857699999999994\n",
      "5.781113999999999\n",
      "2.638034000000001\n"
     ]
    },
    {
     "name": "stderr",
     "output_type": "stream",
     "text": [
      "C:\\Users\\hp\\Anaconda3\\3.7\\lib\\site-packages\\ipykernel_launcher.py:10: SettingWithCopyWarning: \n",
      "A value is trying to be set on a copy of a slice from a DataFrame\n",
      "\n",
      "See the caveats in the documentation: http://pandas.pydata.org/pandas-docs/stable/indexing.html#indexing-view-versus-copy\n",
      "  # Remove the CWD from sys.path while we load stuff.\n",
      "C:\\Users\\hp\\Anaconda3\\3.7\\lib\\site-packages\\ipykernel_launcher.py:11: SettingWithCopyWarning: \n",
      "A value is trying to be set on a copy of a slice from a DataFrame\n",
      "\n",
      "See the caveats in the documentation: http://pandas.pydata.org/pandas-docs/stable/indexing.html#indexing-view-versus-copy\n",
      "  # This is added back by InteractiveShellApp.init_path()\n"
     ]
    },
    {
     "data": {
      "text/plain": [
       "{'whiskers': [<matplotlib.lines.Line2D at 0x2a1d7439550>,\n",
       "  <matplotlib.lines.Line2D at 0x2a1d7439898>],\n",
       " 'caps': [<matplotlib.lines.Line2D at 0x2a1d7439be0>,\n",
       "  <matplotlib.lines.Line2D at 0x2a1d7439f28>],\n",
       " 'boxes': [<matplotlib.lines.Line2D at 0x2a1d7439128>],\n",
       " 'medians': [<matplotlib.lines.Line2D at 0x2a1d74432b0>],\n",
       " 'fliers': [<matplotlib.lines.Line2D at 0x2a1d74435f8>],\n",
       " 'means': []}"
      ]
     },
     "execution_count": 42,
     "metadata": {},
     "output_type": "execute_result"
    },
    {
     "data": {
      "image/png": "[encoded data removed]",
      "text/plain": [
       "<Figure size 432x288 with 1 Axes>"
      ]
     },
     "metadata": {
      "needs_background": "light"
     },
     "output_type": "display_data"
    }
   ],
   "source": [
    "a=a=df['lwy'].quantile([0.25,0.5,0.75])\n",
    "IQR=a[0.75]-a[0.25]\n",
    "print(IQR)\n",
    "IQR15=1.5*IQR\n",
    "IQR15\n",
    "upper_wishk=a[0.75]+IQR15\n",
    "lower_wishk=a[0.25]-IQR15\n",
    "print(upper_wishk)\n",
    "print(lower_wishk)\n",
    "df['lwy'][df['lwy'] > upper_wishk]=upper_wishk\n",
    "df['lwy'][df['lwy'] <lower_wishk]=lower_wishk\n",
    "plt.boxplot(df['lwy'])"
   ]
  },
  {
   "cell_type": "code",
   "execution_count": 39,
   "metadata": {},
   "outputs": [
    {
     "data": {
      "text/plain": [
       "{'whiskers': [<matplotlib.lines.Line2D at 0x2a1d73376d8>,\n",
       "  <matplotlib.lines.Line2D at 0x2a1d7337a20>],\n",
       " 'caps': [<matplotlib.lines.Line2D at 0x2a1d7337dd8>,\n",
       "  <matplotlib.lines.Line2D at 0x2a1d7337eb8>],\n",
       " 'boxes': [<matplotlib.lines.Line2D at 0x2a1d73372e8>],\n",
       " 'medians': [<matplotlib.lines.Line2D at 0x2a1d73424a8>],\n",
       " 'fliers': [<matplotlib.lines.Line2D at 0x2a1d73427f0>],\n",
       " 'means': []}"
      ]
     },
     "execution_count": 39,
     "metadata": {},
     "output_type": "execute_result"
    },
    {
     "data": {
      "image/png": "[encoded data removed]",
      "text/plain": [
       "<Figure size 432x288 with 1 Axes>"
      ]
     },
     "metadata": {
      "needs_background": "light"
     },
     "output_type": "display_data"
    }
   ],
   "source": [
    "plt.boxplot(df['lwz'])"
   ]
  },
  {
   "cell_type": "code",
   "execution_count": 40,
   "metadata": {},
   "outputs": [
    {
     "name": "stdout",
     "output_type": "stream",
     "text": [
      "0.05225999999999997\n",
      "1.6328015\n",
      "1.4237615000000001\n"
     ]
    },
    {
     "name": "stderr",
     "output_type": "stream",
     "text": [
      "C:\\Users\\hp\\Anaconda3\\3.7\\lib\\site-packages\\ipykernel_launcher.py:10: SettingWithCopyWarning: \n",
      "A value is trying to be set on a copy of a slice from a DataFrame\n",
      "\n",
      "See the caveats in the documentation: http://pandas.pydata.org/pandas-docs/stable/indexing.html#indexing-view-versus-copy\n",
      "  # Remove the CWD from sys.path while we load stuff.\n",
      "C:\\Users\\hp\\Anaconda3\\3.7\\lib\\site-packages\\ipykernel_launcher.py:11: SettingWithCopyWarning: \n",
      "A value is trying to be set on a copy of a slice from a DataFrame\n",
      "\n",
      "See the caveats in the documentation: http://pandas.pydata.org/pandas-docs/stable/indexing.html#indexing-view-versus-copy\n",
      "  # This is added back by InteractiveShellApp.init_path()\n"
     ]
    },
    {
     "data": {
      "text/plain": [
       "{'whiskers': [<matplotlib.lines.Line2D at 0x2a1d73899b0>,\n",
       "  <matplotlib.lines.Line2D at 0x2a1d7389cf8>],\n",
       " 'caps': [<matplotlib.lines.Line2D at 0x2a1d7389dd8>,\n",
       "  <matplotlib.lines.Line2D at 0x2a1d73963c8>],\n",
       " 'boxes': [<matplotlib.lines.Line2D at 0x2a1d7389588>],\n",
       " 'medians': [<matplotlib.lines.Line2D at 0x2a1d7396710>],\n",
       " 'fliers': [<matplotlib.lines.Line2D at 0x2a1d7396a58>],\n",
       " 'means': []}"
      ]
     },
     "execution_count": 40,
     "metadata": {},
     "output_type": "execute_result"
    },
    {
     "data": {
      "image/png": "[encoded data removed]",
      "text/plain": [
       "<Figure size 432x288 with 1 Axes>"
      ]
     },
     "metadata": {
      "needs_background": "light"
     },
     "output_type": "display_data"
    }
   ],
   "source": [
    "a=a=df['lwz'].quantile([0.25,0.5,0.75])\n",
    "IQR=a[0.75]-a[0.25]\n",
    "print(IQR)\n",
    "IQR15=1.5*IQR\n",
    "IQR15\n",
    "upper_wishk=a[0.75]+IQR15\n",
    "lower_wishk=a[0.25]-IQR15\n",
    "print(upper_wishk)\n",
    "print(lower_wishk)\n",
    "df['lwz'][df['lwz'] > upper_wishk]=upper_wishk\n",
    "df['lwz'][df['lwz'] <lower_wishk]=lower_wishk\n",
    "plt.boxplot(df['lwz'])"
   ]
  },
  {
   "cell_type": "code",
   "execution_count": 43,
   "metadata": {},
   "outputs": [
    {
     "data": {
      "text/plain": [
       "{'whiskers': [<matplotlib.lines.Line2D at 0x2a1d7491438>,\n",
       "  <matplotlib.lines.Line2D at 0x2a1d74917b8>],\n",
       " 'caps': [<matplotlib.lines.Line2D at 0x2a1d7491b00>,\n",
       "  <matplotlib.lines.Line2D at 0x2a1d7491e48>],\n",
       " 'boxes': [<matplotlib.lines.Line2D at 0x2a1d7491048>],\n",
       " 'medians': [<matplotlib.lines.Line2D at 0x2a1d7491f28>],\n",
       " 'fliers': [<matplotlib.lines.Line2D at 0x2a1d7499518>],\n",
       " 'means': []}"
      ]
     },
     "execution_count": 43,
     "metadata": {},
     "output_type": "execute_result"
    },
    {
     "data": {
      "image/png": "[encoded data removed]",
      "text/plain": [
       "<Figure size 432x288 with 1 Axes>"
      ]
     },
     "metadata": {
      "needs_background": "light"
     },
     "output_type": "display_data"
    }
   ],
   "source": [
    "plt.boxplot(df['rwx'])"
   ]
  },
  {
   "cell_type": "code",
   "execution_count": 44,
   "metadata": {},
   "outputs": [
    {
     "name": "stdout",
     "output_type": "stream",
     "text": [
      "0.7611729999999994\n",
      "6.987410499999999\n",
      "3.9427185000000016\n"
     ]
    },
    {
     "name": "stderr",
     "output_type": "stream",
     "text": [
      "C:\\Users\\hp\\Anaconda3\\3.7\\lib\\site-packages\\ipykernel_launcher.py:10: SettingWithCopyWarning: \n",
      "A value is trying to be set on a copy of a slice from a DataFrame\n",
      "\n",
      "See the caveats in the documentation: http://pandas.pydata.org/pandas-docs/stable/indexing.html#indexing-view-versus-copy\n",
      "  # Remove the CWD from sys.path while we load stuff.\n",
      "C:\\Users\\hp\\Anaconda3\\3.7\\lib\\site-packages\\ipykernel_launcher.py:11: SettingWithCopyWarning: \n",
      "A value is trying to be set on a copy of a slice from a DataFrame\n",
      "\n",
      "See the caveats in the documentation: http://pandas.pydata.org/pandas-docs/stable/indexing.html#indexing-view-versus-copy\n",
      "  # This is added back by InteractiveShellApp.init_path()\n"
     ]
    },
    {
     "data": {
      "text/plain": [
       "{'whiskers': [<matplotlib.lines.Line2D at 0x2a1d74e0a90>,\n",
       "  <matplotlib.lines.Line2D at 0x2a1d74e0dd8>],\n",
       " 'caps': [<matplotlib.lines.Line2D at 0x2a1d74e0eb8>,\n",
       "  <matplotlib.lines.Line2D at 0x2a1d74ec4a8>],\n",
       " 'boxes': [<matplotlib.lines.Line2D at 0x2a1d74e0668>],\n",
       " 'medians': [<matplotlib.lines.Line2D at 0x2a1d74ec7f0>],\n",
       " 'fliers': [<matplotlib.lines.Line2D at 0x2a1d74ecb38>],\n",
       " 'means': []}"
      ]
     },
     "execution_count": 44,
     "metadata": {},
     "output_type": "execute_result"
    },
    {
     "data": {
      "image/png": "[encoded data removed]",
      "text/plain": [
       "<Figure size 432x288 with 1 Axes>"
      ]
     },
     "metadata": {
      "needs_background": "light"
     },
     "output_type": "display_data"
    }
   ],
   "source": [
    "a=a=df['rwx'].quantile([0.25,0.5,0.75])\n",
    "IQR=a[0.75]-a[0.25]\n",
    "print(IQR)\n",
    "IQR15=1.5*IQR\n",
    "IQR15\n",
    "upper_wishk=a[0.75]+IQR15\n",
    "lower_wishk=a[0.25]-IQR15\n",
    "print(upper_wishk)\n",
    "print(lower_wishk)\n",
    "df['rwx'][df['rwx'] > upper_wishk]=upper_wishk\n",
    "df['rwx'][df['rwx'] <lower_wishk]=lower_wishk\n",
    "plt.boxplot(df['rwx'])"
   ]
  },
  {
   "cell_type": "code",
   "execution_count": 45,
   "metadata": {},
   "outputs": [
    {
     "data": {
      "text/plain": [
       "{'whiskers': [<matplotlib.lines.Line2D at 0x2a1d7541358>,\n",
       "  <matplotlib.lines.Line2D at 0x2a1d75416a0>],\n",
       " 'caps': [<matplotlib.lines.Line2D at 0x2a1d7541a20>,\n",
       "  <matplotlib.lines.Line2D at 0x2a1d7541d68>],\n",
       " 'boxes': [<matplotlib.lines.Line2D at 0x2a1d7535f28>],\n",
       " 'medians': [<matplotlib.lines.Line2D at 0x2a1d7541e48>],\n",
       " 'fliers': [<matplotlib.lines.Line2D at 0x2a1d754a438>],\n",
       " 'means': []}"
      ]
     },
     "execution_count": 45,
     "metadata": {},
     "output_type": "execute_result"
    },
    {
     "data": {
      "image/png": "[encoded data removed]",
      "text/plain": [
       "<Figure size 432x288 with 1 Axes>"
      ]
     },
     "metadata": {
      "needs_background": "light"
     },
     "output_type": "display_data"
    }
   ],
   "source": [
    "plt.boxplot(df['rwy'])"
   ]
  },
  {
   "cell_type": "code",
   "execution_count": 46,
   "metadata": {},
   "outputs": [
    {
     "name": "stdout",
     "output_type": "stream",
     "text": [
      "0.9832569999999996\n",
      "5.862447999999999\n",
      "1.9294200000000006\n"
     ]
    },
    {
     "name": "stderr",
     "output_type": "stream",
     "text": [
      "C:\\Users\\hp\\Anaconda3\\3.7\\lib\\site-packages\\ipykernel_launcher.py:10: SettingWithCopyWarning: \n",
      "A value is trying to be set on a copy of a slice from a DataFrame\n",
      "\n",
      "See the caveats in the documentation: http://pandas.pydata.org/pandas-docs/stable/indexing.html#indexing-view-versus-copy\n",
      "  # Remove the CWD from sys.path while we load stuff.\n",
      "C:\\Users\\hp\\Anaconda3\\3.7\\lib\\site-packages\\ipykernel_launcher.py:11: SettingWithCopyWarning: \n",
      "A value is trying to be set on a copy of a slice from a DataFrame\n",
      "\n",
      "See the caveats in the documentation: http://pandas.pydata.org/pandas-docs/stable/indexing.html#indexing-view-versus-copy\n",
      "  # This is added back by InteractiveShellApp.init_path()\n"
     ]
    },
    {
     "data": {
      "text/plain": [
       "{'whiskers': [<matplotlib.lines.Line2D at 0x2a1d759c9e8>,\n",
       "  <matplotlib.lines.Line2D at 0x2a1d759cd30>],\n",
       " 'caps': [<matplotlib.lines.Line2D at 0x2a1d759ce10>,\n",
       "  <matplotlib.lines.Line2D at 0x2a1d75a7400>],\n",
       " 'boxes': [<matplotlib.lines.Line2D at 0x2a1d759c5c0>],\n",
       " 'medians': [<matplotlib.lines.Line2D at 0x2a1d75a7748>],\n",
       " 'fliers': [<matplotlib.lines.Line2D at 0x2a1d75a7a90>],\n",
       " 'means': []}"
      ]
     },
     "execution_count": 46,
     "metadata": {},
     "output_type": "execute_result"
    },
    {
     "data": {
      "image/png": "[encoded data removed]",
      "text/plain": [
       "<Figure size 432x288 with 1 Axes>"
      ]
     },
     "metadata": {
      "needs_background": "light"
     },
     "output_type": "display_data"
    }
   ],
   "source": [
    "a=a=df['rwy'].quantile([0.25,0.5,0.75])\n",
    "IQR=a[0.75]-a[0.25]\n",
    "print(IQR)\n",
    "IQR15=1.5*IQR\n",
    "IQR15\n",
    "upper_wishk=a[0.75]+IQR15\n",
    "lower_wishk=a[0.25]-IQR15\n",
    "print(upper_wishk)\n",
    "print(lower_wishk)\n",
    "df['rwy'][df['rwy'] > upper_wishk]=upper_wishk\n",
    "df['rwy'][df['rwy'] <lower_wishk]=lower_wishk\n",
    "plt.boxplot(df['rwy'])"
   ]
  },
  {
   "cell_type": "code",
   "execution_count": 47,
   "metadata": {},
   "outputs": [
    {
     "data": {
      "text/plain": [
       "{'whiskers': [<matplotlib.lines.Line2D at 0x2a1d75eefd0>,\n",
       "  <matplotlib.lines.Line2D at 0x2a1d75fb5f8>],\n",
       " 'caps': [<matplotlib.lines.Line2D at 0x2a1d75fb940>,\n",
       "  <matplotlib.lines.Line2D at 0x2a1d75fbc88>],\n",
       " 'boxes': [<matplotlib.lines.Line2D at 0x2a1d75eee80>],\n",
       " 'medians': [<matplotlib.lines.Line2D at 0x2a1d75fbfd0>],\n",
       " 'fliers': [<matplotlib.lines.Line2D at 0x2a1d7603358>],\n",
       " 'means': []}"
      ]
     },
     "execution_count": 47,
     "metadata": {},
     "output_type": "execute_result"
    },
    {
     "data": {
      "image/png": "[encoded data removed]",
      "text/plain": [
       "<Figure size 432x288 with 1 Axes>"
      ]
     },
     "metadata": {
      "needs_background": "light"
     },
     "output_type": "display_data"
    }
   ],
   "source": [
    "plt.boxplot(df['rwz'])"
   ]
  },
  {
   "cell_type": "code",
   "execution_count": 48,
   "metadata": {},
   "outputs": [
    {
     "name": "stdout",
     "output_type": "stream",
     "text": [
      "0.06651800000000008\n",
      "1.6447405000000002\n",
      "1.3786684999999999\n"
     ]
    },
    {
     "name": "stderr",
     "output_type": "stream",
     "text": [
      "C:\\Users\\hp\\Anaconda3\\3.7\\lib\\site-packages\\ipykernel_launcher.py:10: SettingWithCopyWarning: \n",
      "A value is trying to be set on a copy of a slice from a DataFrame\n",
      "\n",
      "See the caveats in the documentation: http://pandas.pydata.org/pandas-docs/stable/indexing.html#indexing-view-versus-copy\n",
      "  # Remove the CWD from sys.path while we load stuff.\n",
      "C:\\Users\\hp\\Anaconda3\\3.7\\lib\\site-packages\\ipykernel_launcher.py:11: SettingWithCopyWarning: \n",
      "A value is trying to be set on a copy of a slice from a DataFrame\n",
      "\n",
      "See the caveats in the documentation: http://pandas.pydata.org/pandas-docs/stable/indexing.html#indexing-view-versus-copy\n",
      "  # This is added back by InteractiveShellApp.init_path()\n"
     ]
    },
    {
     "data": {
      "text/plain": [
       "{'whiskers': [<matplotlib.lines.Line2D at 0x2a1d764aa90>,\n",
       "  <matplotlib.lines.Line2D at 0x2a1d764add8>],\n",
       " 'caps': [<matplotlib.lines.Line2D at 0x2a1d764aeb8>,\n",
       "  <matplotlib.lines.Line2D at 0x2a1d76574a8>],\n",
       " 'boxes': [<matplotlib.lines.Line2D at 0x2a1d764a668>],\n",
       " 'medians': [<matplotlib.lines.Line2D at 0x2a1d76577f0>],\n",
       " 'fliers': [<matplotlib.lines.Line2D at 0x2a1d7657b38>],\n",
       " 'means': []}"
      ]
     },
     "execution_count": 48,
     "metadata": {},
     "output_type": "execute_result"
    },
    {
     "data": {
      "image/png": "[encoded data removed]",
      "text/plain": [
       "<Figure size 432x288 with 1 Axes>"
      ]
     },
     "metadata": {
      "needs_background": "light"
     },
     "output_type": "display_data"
    }
   ],
   "source": [
    "a=a=df['rwz'].quantile([0.25,0.5,0.75])\n",
    "IQR=a[0.75]-a[0.25]\n",
    "print(IQR)\n",
    "IQR15=1.5*IQR\n",
    "IQR15\n",
    "upper_wishk=a[0.75]+IQR15\n",
    "lower_wishk=a[0.25]-IQR15\n",
    "print(upper_wishk)\n",
    "print(lower_wishk)\n",
    "df['rwz'][df['rwz'] > upper_wishk]=upper_wishk\n",
    "df['rwz'][df['rwz'] <lower_wishk]=lower_wishk\n",
    "plt.boxplot(df['rwz'])"
   ]
  },
  {
   "cell_type": "code",
   "execution_count": 49,
   "metadata": {},
   "outputs": [
    {
     "data": {
      "text/plain": [
       "{'whiskers': [<matplotlib.lines.Line2D at 0x2a1d7a40be0>,\n",
       "  <matplotlib.lines.Line2D at 0x2a1d7a40898>],\n",
       " 'caps': [<matplotlib.lines.Line2D at 0x2a1d7a404e0>,\n",
       "  <matplotlib.lines.Line2D at 0x2a1d7a40198>],\n",
       " 'boxes': [<matplotlib.lines.Line2D at 0x2a1d7a40fd0>],\n",
       " 'medians': [<matplotlib.lines.Line2D at 0x2a1d7a400b8>],\n",
       " 'fliers': [<matplotlib.lines.Line2D at 0x2a1d7a3eb38>],\n",
       " 'means': []}"
      ]
     },
     "execution_count": 49,
     "metadata": {},
     "output_type": "execute_result"
    },
    {
     "data": {
      "image/png": "[encoded data removed]",
      "text/plain": [
       "<Figure size 432x288 with 1 Axes>"
      ]
     },
     "metadata": {
      "needs_background": "light"
     },
     "output_type": "display_data"
    }
   ],
   "source": [
    "plt.boxplot(df['timestamp'])"
   ]
  },
  {
   "cell_type": "code",
   "execution_count": 50,
   "metadata": {},
   "outputs": [
    {
     "name": "stdout",
     "output_type": "stream",
     "text": [
      "32635.5\n",
      "5800088.75\n",
      "5669546.75\n"
     ]
    },
    {
     "name": "stderr",
     "output_type": "stream",
     "text": [
      "C:\\Users\\hp\\Anaconda3\\3.7\\lib\\site-packages\\ipykernel_launcher.py:10: SettingWithCopyWarning: \n",
      "A value is trying to be set on a copy of a slice from a DataFrame\n",
      "\n",
      "See the caveats in the documentation: http://pandas.pydata.org/pandas-docs/stable/indexing.html#indexing-view-versus-copy\n",
      "  # Remove the CWD from sys.path while we load stuff.\n"
     ]
    },
    {
     "data": {
      "text/plain": [
       "{'whiskers': [<matplotlib.lines.Line2D at 0x2a1d79b3cf8>,\n",
       "  <matplotlib.lines.Line2D at 0x2a1d79b59b0>],\n",
       " 'caps': [<matplotlib.lines.Line2D at 0x2a1d79b5518>,\n",
       "  <matplotlib.lines.Line2D at 0x2a1d79b5ba8>],\n",
       " 'boxes': [<matplotlib.lines.Line2D at 0x2a1d79b3a58>],\n",
       " 'medians': [<matplotlib.lines.Line2D at 0x2a1d79b5d68>],\n",
       " 'fliers': [<matplotlib.lines.Line2D at 0x2a1d79b6f28>],\n",
       " 'means': []}"
      ]
     },
     "execution_count": 50,
     "metadata": {},
     "output_type": "execute_result"
    },
    {
     "data": {
      "image/png": "[encoded data removed]",
      "text/plain": [
       "<Figure size 432x288 with 1 Axes>"
      ]
     },
     "metadata": {
      "needs_background": "light"
     },
     "output_type": "display_data"
    }
   ],
   "source": [
    "a=a=df['timestamp'].quantile([0.25,0.5,0.75])\n",
    "IQR=a[0.75]-a[0.25]\n",
    "print(IQR)\n",
    "IQR15=1.5*IQR\n",
    "IQR15\n",
    "upper_wishk=a[0.75]+IQR15\n",
    "lower_wishk=a[0.25]-IQR15\n",
    "print(upper_wishk)\n",
    "print(lower_wishk)\n",
    "df['timestamp'][df['timestamp'] > upper_wishk]=upper_wishk\n",
    "df['timestamp'][df['timestamp'] <lower_wishk]=lower_wishk\n",
    "plt.boxplot(df['timestamp'])"
   ]
  },
  {
   "cell_type": "code",
   "execution_count": 51,
   "metadata": {},
   "outputs": [],
   "source": [
    "y=df.phase"
   ]
  },
  {
   "cell_type": "code",
   "execution_count": 52,
   "metadata": {},
   "outputs": [
    {
     "data": {
      "text/plain": [
       "(1747,)"
      ]
     },
     "execution_count": 52,
     "metadata": {},
     "output_type": "execute_result"
    }
   ],
   "source": [
    "y.shape"
   ]
  },
  {
   "cell_type": "code",
   "execution_count": 53,
   "metadata": {},
   "outputs": [],
   "source": [
    "x=df.drop(['phase'],axis=1)"
   ]
  },
  {
   "cell_type": "code",
   "execution_count": 54,
   "metadata": {},
   "outputs": [
    {
     "data": {
      "text/plain": [
       "(1747, 19)"
      ]
     },
     "execution_count": 54,
     "metadata": {},
     "output_type": "execute_result"
    }
   ],
   "source": [
    "x.shape"
   ]
  },
  {
   "cell_type": "code",
   "execution_count": 55,
   "metadata": {},
   "outputs": [
    {
     "data": {
      "text/plain": [
       "array([[ 0.99768739,  0.3234826 ,  0.14648445, ...,  0.59685373,\n",
       "         0.71560876, -1.36145799],\n",
       "       [ 0.15832069,  0.18143253,  1.19389851, ...,  0.51121762,\n",
       "         0.98366511, -1.36027152],\n",
       "       [ 1.01527531,  0.32394714,  0.1282484 , ...,  0.68358934,\n",
       "         1.03098837, -1.35912213],\n",
       "       ...,\n",
       "       [ 0.38203973, -0.35444439,  1.62449349, ...,  0.3502785 ,\n",
       "         1.17530882,  2.27442517],\n",
       "       [ 0.38757329, -0.35416022,  1.6146607 , ...,  0.33564872,\n",
       "         1.14279142,  2.27442517],\n",
       "       [ 0.40123151, -0.35365286,  1.58929636, ...,  0.33126223,\n",
       "         1.25170513,  2.27442517]])"
      ]
     },
     "execution_count": 55,
     "metadata": {},
     "output_type": "execute_result"
    }
   ],
   "source": [
    "from sklearn.preprocessing import StandardScaler\n",
    "sc=StandardScaler()\n",
    "x=sc.fit_transform(x)\n",
    "x"
   ]
  },
  {
   "cell_type": "code",
   "execution_count": 56,
   "metadata": {},
   "outputs": [],
   "source": [
    "from sklearn.model_selection import train_test_split"
   ]
  },
  {
   "cell_type": "code",
   "execution_count": 57,
   "metadata": {},
   "outputs": [],
   "source": [
    "x_train,x_test,y_train,y_test=train_test_split(x,y,test_size=0.30,random_state=1234)"
   ]
  },
  {
   "cell_type": "code",
   "execution_count": 86,
   "metadata": {},
   "outputs": [],
   "source": [
    "from sklearn.linear_model import LogisticRegression"
   ]
  },
  {
   "cell_type": "code",
   "execution_count": 87,
   "metadata": {},
   "outputs": [],
   "source": [
    "lr=LogisticRegression()"
   ]
  },
  {
   "cell_type": "code",
   "execution_count": 88,
   "metadata": {},
   "outputs": [
    {
     "name": "stderr",
     "output_type": "stream",
     "text": [
      "C:\\Users\\hp\\Anaconda3\\3.7\\lib\\site-packages\\sklearn\\linear_model\\logistic.py:433: FutureWarning: Default solver will be changed to 'lbfgs' in 0.22. Specify a solver to silence this warning.\n",
      "  FutureWarning)\n",
      "C:\\Users\\hp\\Anaconda3\\3.7\\lib\\site-packages\\sklearn\\linear_model\\logistic.py:460: FutureWarning: Default multi_class will be changed to 'auto' in 0.22. Specify the multi_class option to silence this warning.\n",
      "  \"this warning.\", FutureWarning)\n"
     ]
    },
    {
     "data": {
      "text/plain": [
       "LogisticRegression(C=1.0, class_weight=None, dual=False, fit_intercept=True,\n",
       "          intercept_scaling=1, max_iter=100, multi_class='warn',\n",
       "          n_jobs=None, penalty='l2', random_state=None, solver='warn',\n",
       "          tol=0.0001, verbose=0, warm_start=False)"
      ]
     },
     "execution_count": 88,
     "metadata": {},
     "output_type": "execute_result"
    }
   ],
   "source": [
    "lr.fit(x_train,y_train)"
   ]
  },
  {
   "cell_type": "code",
   "execution_count": 89,
   "metadata": {},
   "outputs": [],
   "source": [
    "lr_pred=lr.predict(x_train)"
   ]
  },
  {
   "cell_type": "code",
   "execution_count": 90,
   "metadata": {},
   "outputs": [],
   "source": [
    "from sklearn.metrics import confusion_matrix,classification_report"
   ]
  },
  {
   "cell_type": "code",
   "execution_count": 91,
   "metadata": {},
   "outputs": [
    {
     "data": {
      "text/plain": [
       "0.7716084716657127"
      ]
     },
     "execution_count": 91,
     "metadata": {},
     "output_type": "execute_result"
    }
   ],
   "source": [
    "lr.score(x,y)"
   ]
  },
  {
   "cell_type": "code",
   "execution_count": 92,
   "metadata": {},
   "outputs": [
    {
     "name": "stdout",
     "output_type": "stream",
     "text": [
      "[[  7   0   5   0  16]\n",
      " [  0   2  46   4  62]\n",
      " [  0   2 490   1   1]\n",
      " [  2   0  47  25  57]\n",
      " [  2   6  13  10 424]]\n"
     ]
    }
   ],
   "source": [
    "print(confusion_matrix(y_train,lr_pred))"
   ]
  },
  {
   "cell_type": "code",
   "execution_count": 93,
   "metadata": {},
   "outputs": [
    {
     "name": "stdout",
     "output_type": "stream",
     "text": [
      "              precision    recall  f1-score   support\n",
      "\n",
      "           0       0.64      0.25      0.36        28\n",
      "           1       0.20      0.02      0.03       114\n",
      "           2       0.82      0.99      0.89       494\n",
      "           3       0.62      0.19      0.29       131\n",
      "           4       0.76      0.93      0.84       455\n",
      "\n",
      "   micro avg       0.78      0.78      0.78      1222\n",
      "   macro avg       0.61      0.48      0.48      1222\n",
      "weighted avg       0.71      0.78      0.72      1222\n",
      "\n"
     ]
    }
   ],
   "source": [
    "print(classification_report(y_train,lr_pred))"
   ]
  },
  {
   "cell_type": "code",
   "execution_count": 94,
   "metadata": {},
   "outputs": [],
   "source": [
    "lr_test_pred=lr.predict(x_test)"
   ]
  },
  {
   "cell_type": "code",
   "execution_count": 96,
   "metadata": {},
   "outputs": [
    {
     "name": "stdout",
     "output_type": "stream",
     "text": [
      "[[  1   0   3   0   7]\n",
      " [  1   3  17   5  23]\n",
      " [  0   0 204   0   0]\n",
      " [  2   0  21  10  27]\n",
      " [  2   6   7   4 182]]\n"
     ]
    }
   ],
   "source": [
    "print(confusion_matrix(y_test,lr_test_pred))"
   ]
  },
  {
   "cell_type": "code",
   "execution_count": 97,
   "metadata": {},
   "outputs": [
    {
     "name": "stdout",
     "output_type": "stream",
     "text": [
      "              precision    recall  f1-score   support\n",
      "\n",
      "           0       0.17      0.09      0.12        11\n",
      "           1       0.33      0.06      0.10        49\n",
      "           2       0.81      1.00      0.89       204\n",
      "           3       0.53      0.17      0.25        60\n",
      "           4       0.76      0.91      0.83       201\n",
      "\n",
      "   micro avg       0.76      0.76      0.76       525\n",
      "   macro avg       0.52      0.44      0.44       525\n",
      "weighted avg       0.70      0.76      0.71       525\n",
      "\n"
     ]
    }
   ],
   "source": [
    "print(classification_report(y_test,lr_test_pred))"
   ]
  },
  {
   "cell_type": "code",
   "execution_count": 98,
   "metadata": {},
   "outputs": [
    {
     "data": {
      "text/plain": [
       "0.7757774140752864"
      ]
     },
     "execution_count": 98,
     "metadata": {},
     "output_type": "execute_result"
    }
   ],
   "source": [
    "lr.score(x_train,y_train)"
   ]
  },
  {
   "cell_type": "code",
   "execution_count": 99,
   "metadata": {},
   "outputs": [
    {
     "data": {
      "text/plain": [
       "0.7619047619047619"
      ]
     },
     "execution_count": 99,
     "metadata": {},
     "output_type": "execute_result"
    }
   ],
   "source": [
    "lr.score(x_test,y_test)"
   ]
  },
  {
   "cell_type": "code",
   "execution_count": 71,
   "metadata": {},
   "outputs": [],
   "source": [
    "### x1,x4,x16 p values are high so delete the columns"
   ]
  },
  {
   "cell_type": "code",
   "execution_count": 74,
   "metadata": {},
   "outputs": [],
   "source": [
    "df=df.drop(['lhx','rhx','rwx'],axis=1)"
   ]
  },
  {
   "cell_type": "code",
   "execution_count": 75,
   "metadata": {},
   "outputs": [
    {
     "data": {
      "text/html": [
       "<div>\n",
       "<style scoped>\n",
       "    .dataframe tbody tr th:only-of-type {\n",
       "        vertical-align: middle;\n",
       "    }\n",
       "\n",
       "    .dataframe tbody tr th {\n",
       "        vertical-align: top;\n",
       "    }\n",
       "\n",
       "    .dataframe thead th {\n",
       "        text-align: right;\n",
       "    }\n",
       "</style>\n",
       "<table border=\"1\" class=\"dataframe\">\n",
       "  <thead>\n",
       "    <tr style=\"text-align: right;\">\n",
       "      <th></th>\n",
       "      <th>lhy</th>\n",
       "      <th>lhz</th>\n",
       "      <th>rhy</th>\n",
       "      <th>rhz</th>\n",
       "      <th>hx</th>\n",
       "      <th>hy</th>\n",
       "      <th>hz</th>\n",
       "      <th>sx</th>\n",
       "      <th>sy</th>\n",
       "      <th>sz</th>\n",
       "      <th>lwx</th>\n",
       "      <th>lwy</th>\n",
       "      <th>lwz</th>\n",
       "      <th>rwy</th>\n",
       "      <th>rwz</th>\n",
       "      <th>timestamp</th>\n",
       "      <th>phase</th>\n",
       "    </tr>\n",
       "  </thead>\n",
       "  <tbody>\n",
       "    <tr>\n",
       "      <th>0</th>\n",
       "      <td>4.363681</td>\n",
       "      <td>1.501913</td>\n",
       "      <td>4.319263</td>\n",
       "      <td>1.488703</td>\n",
       "      <td>5.037871</td>\n",
       "      <td>1.618295</td>\n",
       "      <td>1.778350</td>\n",
       "      <td>5.062803</td>\n",
       "      <td>4.229656</td>\n",
       "      <td>1.770601</td>\n",
       "      <td>4.972902</td>\n",
       "      <td>4.301065</td>\n",
       "      <td>1.564781</td>\n",
       "      <td>4.370456</td>\n",
       "      <td>1.553521</td>\n",
       "      <td>5702026.0</td>\n",
       "      <td>2</td>\n",
       "    </tr>\n",
       "    <tr>\n",
       "      <th>1</th>\n",
       "      <td>4.254210</td>\n",
       "      <td>1.556133</td>\n",
       "      <td>4.346338</td>\n",
       "      <td>1.554309</td>\n",
       "      <td>5.037610</td>\n",
       "      <td>1.618370</td>\n",
       "      <td>1.778573</td>\n",
       "      <td>5.061430</td>\n",
       "      <td>4.228504</td>\n",
       "      <td>1.770601</td>\n",
       "      <td>4.974908</td>\n",
       "      <td>4.303656</td>\n",
       "      <td>1.565527</td>\n",
       "      <td>4.303708</td>\n",
       "      <td>1.569942</td>\n",
       "      <td>5702058.0</td>\n",
       "      <td>2</td>\n",
       "    </tr>\n",
       "    <tr>\n",
       "      <th>2</th>\n",
       "      <td>4.364039</td>\n",
       "      <td>1.500969</td>\n",
       "      <td>4.347924</td>\n",
       "      <td>1.554150</td>\n",
       "      <td>5.037514</td>\n",
       "      <td>1.618298</td>\n",
       "      <td>1.778774</td>\n",
       "      <td>5.059245</td>\n",
       "      <td>4.228004</td>\n",
       "      <td>1.770601</td>\n",
       "      <td>4.981612</td>\n",
       "      <td>4.305363</td>\n",
       "      <td>1.563643</td>\n",
       "      <td>4.438061</td>\n",
       "      <td>1.572841</td>\n",
       "      <td>5702089.0</td>\n",
       "      <td>2</td>\n",
       "    </tr>\n",
       "    <tr>\n",
       "      <th>3</th>\n",
       "      <td>4.281878</td>\n",
       "      <td>1.546513</td>\n",
       "      <td>4.229660</td>\n",
       "      <td>1.527091</td>\n",
       "      <td>5.037526</td>\n",
       "      <td>1.618612</td>\n",
       "      <td>1.778855</td>\n",
       "      <td>5.056475</td>\n",
       "      <td>4.226891</td>\n",
       "      <td>1.770601</td>\n",
       "      <td>4.987158</td>\n",
       "      <td>4.304063</td>\n",
       "      <td>1.565929</td>\n",
       "      <td>4.396774</td>\n",
       "      <td>1.566368</td>\n",
       "      <td>5702120.0</td>\n",
       "      <td>2</td>\n",
       "    </tr>\n",
       "    <tr>\n",
       "      <th>4</th>\n",
       "      <td>4.278530</td>\n",
       "      <td>1.542866</td>\n",
       "      <td>4.182155</td>\n",
       "      <td>1.520330</td>\n",
       "      <td>5.037557</td>\n",
       "      <td>1.619226</td>\n",
       "      <td>1.778925</td>\n",
       "      <td>5.052367</td>\n",
       "      <td>4.225485</td>\n",
       "      <td>1.770601</td>\n",
       "      <td>4.983912</td>\n",
       "      <td>4.296833</td>\n",
       "      <td>1.569889</td>\n",
       "      <td>4.335417</td>\n",
       "      <td>1.560144</td>\n",
       "      <td>5702167.0</td>\n",
       "      <td>2</td>\n",
       "    </tr>\n",
       "  </tbody>\n",
       "</table>\n",
       "</div>"
      ],
      "text/plain": [
       "        lhy       lhz       rhy       rhz        hx        hy        hz  \\\n",
       "0  4.363681  1.501913  4.319263  1.488703  5.037871  1.618295  1.778350   \n",
       "1  4.254210  1.556133  4.346338  1.554309  5.037610  1.618370  1.778573   \n",
       "2  4.364039  1.500969  4.347924  1.554150  5.037514  1.618298  1.778774   \n",
       "3  4.281878  1.546513  4.229660  1.527091  5.037526  1.618612  1.778855   \n",
       "4  4.278530  1.542866  4.182155  1.520330  5.037557  1.619226  1.778925   \n",
       "\n",
       "         sx        sy        sz       lwx       lwy       lwz       rwy  \\\n",
       "0  5.062803  4.229656  1.770601  4.972902  4.301065  1.564781  4.370456   \n",
       "1  5.061430  4.228504  1.770601  4.974908  4.303656  1.565527  4.303708   \n",
       "2  5.059245  4.228004  1.770601  4.981612  4.305363  1.563643  4.438061   \n",
       "3  5.056475  4.226891  1.770601  4.987158  4.304063  1.565929  4.396774   \n",
       "4  5.052367  4.225485  1.770601  4.983912  4.296833  1.569889  4.335417   \n",
       "\n",
       "        rwz  timestamp  phase  \n",
       "0  1.553521  5702026.0      2  \n",
       "1  1.569942  5702058.0      2  \n",
       "2  1.572841  5702089.0      2  \n",
       "3  1.566368  5702120.0      2  \n",
       "4  1.560144  5702167.0      2  "
      ]
     },
     "execution_count": 75,
     "metadata": {},
     "output_type": "execute_result"
    }
   ],
   "source": [
    "df.head()"
   ]
  },
  {
   "cell_type": "code",
   "execution_count": 77,
   "metadata": {},
   "outputs": [
    {
     "data": {
      "text/plain": [
       "(1747, 17)"
      ]
     },
     "execution_count": 77,
     "metadata": {},
     "output_type": "execute_result"
    }
   ],
   "source": [
    "df.shape"
   ]
  },
  {
   "cell_type": "code",
   "execution_count": 78,
   "metadata": {},
   "outputs": [],
   "source": [
    "y1=df['phase']"
   ]
  },
  {
   "cell_type": "code",
   "execution_count": 80,
   "metadata": {},
   "outputs": [],
   "source": [
    "x1=df.drop(['phase'],axis=1)"
   ]
  },
  {
   "cell_type": "code",
   "execution_count": 81,
   "metadata": {},
   "outputs": [],
   "source": [
    "from sklearn.model_selection import train_test_split"
   ]
  },
  {
   "cell_type": "code",
   "execution_count": 82,
   "metadata": {},
   "outputs": [],
   "source": [
    "x1_train,x1_test,y1_train,y1_test=train_test_split(x1,y1,test_size=0.30,random_state=1234)"
   ]
  },
  {
   "cell_type": "code",
   "execution_count": 83,
   "metadata": {},
   "outputs": [],
   "source": [
    "lr1=LinearRegression()"
   ]
  },
  {
   "cell_type": "code",
   "execution_count": 84,
   "metadata": {},
   "outputs": [
    {
     "data": {
      "text/plain": [
       "LinearRegression(copy_X=True, fit_intercept=True, n_jobs=None,\n",
       "         normalize=False)"
      ]
     },
     "execution_count": 84,
     "metadata": {},
     "output_type": "execute_result"
    }
   ],
   "source": [
    "lr1.fit(x1_train,y1_train)"
   ]
  },
  {
   "cell_type": "code",
   "execution_count": 85,
   "metadata": {},
   "outputs": [],
   "source": [
    "lr1_pred=lr1.predict(x1_train)"
   ]
  },
  {
   "cell_type": "code",
   "execution_count": 113,
   "metadata": {},
   "outputs": [],
   "source": [
    "from sklearn.ensemble import RandomForestClassifier"
   ]
  },
  {
   "cell_type": "code",
   "execution_count": 114,
   "metadata": {},
   "outputs": [],
   "source": [
    "rf=RandomForestClassifier()"
   ]
  },
  {
   "cell_type": "code",
   "execution_count": 115,
   "metadata": {},
   "outputs": [
    {
     "name": "stderr",
     "output_type": "stream",
     "text": [
      "C:\\Users\\hp\\Anaconda3\\3.7\\lib\\site-packages\\sklearn\\ensemble\\forest.py:246: FutureWarning: The default value of n_estimators will change from 10 in version 0.20 to 100 in 0.22.\n",
      "  \"10 in version 0.20 to 100 in 0.22.\", FutureWarning)\n"
     ]
    },
    {
     "data": {
      "text/plain": [
       "RandomForestClassifier(bootstrap=True, class_weight=None, criterion='gini',\n",
       "            max_depth=None, max_features='auto', max_leaf_nodes=None,\n",
       "            min_impurity_decrease=0.0, min_impurity_split=None,\n",
       "            min_samples_leaf=1, min_samples_split=2,\n",
       "            min_weight_fraction_leaf=0.0, n_estimators=10, n_jobs=None,\n",
       "            oob_score=False, random_state=None, verbose=0,\n",
       "            warm_start=False)"
      ]
     },
     "execution_count": 115,
     "metadata": {},
     "output_type": "execute_result"
    }
   ],
   "source": [
    "rf.fit(x1_train, y1_train)"
   ]
  },
  {
   "cell_type": "code",
   "execution_count": 121,
   "metadata": {},
   "outputs": [],
   "source": [
    "y1_pred_rf=rf.predict(x1_train)"
   ]
  },
  {
   "cell_type": "code",
   "execution_count": 122,
   "metadata": {},
   "outputs": [
    {
     "data": {
      "text/plain": [
       "0.8854337152209493"
      ]
     },
     "execution_count": 122,
     "metadata": {},
     "output_type": "execute_result"
    }
   ],
   "source": [
    "rf.score(x1_train,y1_train)"
   ]
  },
  {
   "cell_type": "code",
   "execution_count": 117,
   "metadata": {},
   "outputs": [
    {
     "data": {
      "text/plain": [
       "RandomForestClassifier(bootstrap=True, class_weight=None, criterion='gini',\n",
       "            max_depth=None, max_features='auto', max_leaf_nodes=None,\n",
       "            min_impurity_decrease=0.0, min_impurity_split=None,\n",
       "            min_samples_leaf=1, min_samples_split=2,\n",
       "            min_weight_fraction_leaf=0.0, n_estimators=10, n_jobs=None,\n",
       "            oob_score=False, random_state=None, verbose=0,\n",
       "            warm_start=False)"
      ]
     },
     "execution_count": 117,
     "metadata": {},
     "output_type": "execute_result"
    }
   ],
   "source": [
    "rf.fit(x1_test,y1_test)"
   ]
  },
  {
   "cell_type": "code",
   "execution_count": 118,
   "metadata": {},
   "outputs": [],
   "source": [
    "y1_pred_rf_test=rf.predict(x1_test)"
   ]
  },
  {
   "cell_type": "code",
   "execution_count": 120,
   "metadata": {},
   "outputs": [
    {
     "data": {
      "text/plain": [
       "0.9942857142857143"
      ]
     },
     "execution_count": 120,
     "metadata": {},
     "output_type": "execute_result"
    }
   ],
   "source": [
    "rf.score(x1_test,y1_test)"
   ]
  },
  {
   "cell_type": "code",
   "execution_count": null,
   "metadata": {},
   "outputs": [],
   "source": []
  }
 ],
 "metadata": {
  "kernelspec": {
   "display_name": "Python 3",
   "language": "python",
   "name": "python3"
  },
  "language_info": {
   "codemirror_mode": {
    "name": "ipython",
    "version": 3
   },
   "file_extension": ".py",
   "mimetype": "text/x-python",
   "name": "python",
   "nbconvert_exporter": "python",
   "pygments_lexer": "ipython3",
   "version": "3.7.3"
  }
 },
 "nbformat": 4,
 "nbformat_minor": 2
}
