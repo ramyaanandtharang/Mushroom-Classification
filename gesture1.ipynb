{
 "cells": [
  {
   "cell_type": "code",
   "execution_count": 1,
   "metadata": {},
   "outputs": [],
   "source": [
    "import pandas as pd\n",
    "import numpy as np\n",
    "import sklearn\n",
    "import matplotlib.pyplot as plt"
   ]
  },
  {
   "cell_type": "code",
   "execution_count": 2,
   "metadata": {},
   "outputs": [],
   "source": [
    "df1=pd.read_csv('C:/Users/hp/Downloads/gesture_phase_dataset/a1_raw.csv')\n",
    "df2=pd.read_csv('C:/Users/hp/Downloads/gesture_phase_dataset/a2_raw.csv')\n",
    "df3=pd.read_csv('C:/Users/hp/Downloads/gesture_phase_dataset/a3_raw.csv')\n",
    "df4=pd.read_csv('C:/Users/hp/Downloads/gesture_phase_dataset/b1_raw.csv')\n",
    "df5=pd.read_csv('C:/Users/hp/Downloads/gesture_phase_dataset/b3_raw.csv')\n",
    "df6=pd.read_csv('C:/Users/hp/Downloads/gesture_phase_dataset/c1_raw.csv')\n",
    "df7=pd.read_csv('C:/Users/hp/Downloads/gesture_phase_dataset/c3_raw.csv')"
   ]
  },
  {
   "cell_type": "code",
   "execution_count": 3,
   "metadata": {},
   "outputs": [],
   "source": [
    "df=pd.concat([df1,df2,df3,df4,df5,df6,df7])"
   ]
  },
  {
   "cell_type": "code",
   "execution_count": 4,
   "metadata": {
    "scrolled": true
   },
   "outputs": [
    {
     "data": {
      "text/html": [
       "<div>\n",
       "<style scoped>\n",
       "    .dataframe tbody tr th:only-of-type {\n",
       "        vertical-align: middle;\n",
       "    }\n",
       "\n",
       "    .dataframe tbody tr th {\n",
       "        vertical-align: top;\n",
       "    }\n",
       "\n",
       "    .dataframe thead th {\n",
       "        text-align: right;\n",
       "    }\n",
       "</style>\n",
       "<table border=\"1\" class=\"dataframe\">\n",
       "  <thead>\n",
       "    <tr style=\"text-align: right;\">\n",
       "      <th></th>\n",
       "      <th>lhx</th>\n",
       "      <th>lhy</th>\n",
       "      <th>lhz</th>\n",
       "      <th>rhx</th>\n",
       "      <th>rhy</th>\n",
       "      <th>rhz</th>\n",
       "      <th>hx</th>\n",
       "      <th>hy</th>\n",
       "      <th>hz</th>\n",
       "      <th>sx</th>\n",
       "      <th>sy</th>\n",
       "      <th>sz</th>\n",
       "      <th>lwx</th>\n",
       "      <th>lwy</th>\n",
       "      <th>lwz</th>\n",
       "      <th>rwx</th>\n",
       "      <th>rwy</th>\n",
       "      <th>rwz</th>\n",
       "      <th>timestamp</th>\n",
       "      <th>phase</th>\n",
       "    </tr>\n",
       "  </thead>\n",
       "  <tbody>\n",
       "    <tr>\n",
       "      <th>0</th>\n",
       "      <td>5.347435</td>\n",
       "      <td>4.363681</td>\n",
       "      <td>1.501913</td>\n",
       "      <td>5.258967</td>\n",
       "      <td>4.319263</td>\n",
       "      <td>1.488703</td>\n",
       "      <td>5.037871</td>\n",
       "      <td>1.618295</td>\n",
       "      <td>1.778350</td>\n",
       "      <td>5.062803</td>\n",
       "      <td>4.229656</td>\n",
       "      <td>1.772577</td>\n",
       "      <td>4.972902</td>\n",
       "      <td>4.301065</td>\n",
       "      <td>1.564781</td>\n",
       "      <td>5.553945</td>\n",
       "      <td>4.370456</td>\n",
       "      <td>1.553521</td>\n",
       "      <td>5702026</td>\n",
       "      <td>Rest</td>\n",
       "    </tr>\n",
       "    <tr>\n",
       "      <th>1</th>\n",
       "      <td>4.869622</td>\n",
       "      <td>4.254210</td>\n",
       "      <td>1.556133</td>\n",
       "      <td>5.240113</td>\n",
       "      <td>4.346338</td>\n",
       "      <td>1.554309</td>\n",
       "      <td>5.037610</td>\n",
       "      <td>1.618370</td>\n",
       "      <td>1.778573</td>\n",
       "      <td>5.061430</td>\n",
       "      <td>4.228504</td>\n",
       "      <td>1.772859</td>\n",
       "      <td>4.974908</td>\n",
       "      <td>4.303656</td>\n",
       "      <td>1.565527</td>\n",
       "      <td>5.423875</td>\n",
       "      <td>4.303708</td>\n",
       "      <td>1.569942</td>\n",
       "      <td>5702058</td>\n",
       "      <td>Rest</td>\n",
       "    </tr>\n",
       "    <tr>\n",
       "      <th>2</th>\n",
       "      <td>5.357447</td>\n",
       "      <td>4.364039</td>\n",
       "      <td>1.500969</td>\n",
       "      <td>5.238928</td>\n",
       "      <td>4.347924</td>\n",
       "      <td>1.554150</td>\n",
       "      <td>5.037514</td>\n",
       "      <td>1.618298</td>\n",
       "      <td>1.778774</td>\n",
       "      <td>5.059245</td>\n",
       "      <td>4.228004</td>\n",
       "      <td>1.773568</td>\n",
       "      <td>4.981612</td>\n",
       "      <td>4.305363</td>\n",
       "      <td>1.563643</td>\n",
       "      <td>5.332170</td>\n",
       "      <td>4.438061</td>\n",
       "      <td>1.572841</td>\n",
       "      <td>5702089</td>\n",
       "      <td>Rest</td>\n",
       "    </tr>\n",
       "    <tr>\n",
       "      <th>3</th>\n",
       "      <td>4.942886</td>\n",
       "      <td>4.281878</td>\n",
       "      <td>1.546513</td>\n",
       "      <td>5.111436</td>\n",
       "      <td>4.229660</td>\n",
       "      <td>1.527091</td>\n",
       "      <td>5.037526</td>\n",
       "      <td>1.618612</td>\n",
       "      <td>1.778855</td>\n",
       "      <td>5.056475</td>\n",
       "      <td>4.226891</td>\n",
       "      <td>1.774519</td>\n",
       "      <td>4.987158</td>\n",
       "      <td>4.304063</td>\n",
       "      <td>1.565929</td>\n",
       "      <td>5.311104</td>\n",
       "      <td>4.396774</td>\n",
       "      <td>1.566368</td>\n",
       "      <td>5702120</td>\n",
       "      <td>Rest</td>\n",
       "    </tr>\n",
       "    <tr>\n",
       "      <th>4</th>\n",
       "      <td>5.003160</td>\n",
       "      <td>4.278530</td>\n",
       "      <td>1.542866</td>\n",
       "      <td>4.985812</td>\n",
       "      <td>4.182155</td>\n",
       "      <td>1.520330</td>\n",
       "      <td>5.037557</td>\n",
       "      <td>1.619226</td>\n",
       "      <td>1.778925</td>\n",
       "      <td>5.052367</td>\n",
       "      <td>4.225485</td>\n",
       "      <td>1.775536</td>\n",
       "      <td>4.983912</td>\n",
       "      <td>4.296833</td>\n",
       "      <td>1.569889</td>\n",
       "      <td>5.193762</td>\n",
       "      <td>4.335417</td>\n",
       "      <td>1.560144</td>\n",
       "      <td>5702167</td>\n",
       "      <td>Rest</td>\n",
       "    </tr>\n",
       "  </tbody>\n",
       "</table>\n",
       "</div>"
      ],
      "text/plain": [
       "        lhx       lhy       lhz       rhx       rhy       rhz        hx  \\\n",
       "0  5.347435  4.363681  1.501913  5.258967  4.319263  1.488703  5.037871   \n",
       "1  4.869622  4.254210  1.556133  5.240113  4.346338  1.554309  5.037610   \n",
       "2  5.357447  4.364039  1.500969  5.238928  4.347924  1.554150  5.037514   \n",
       "3  4.942886  4.281878  1.546513  5.111436  4.229660  1.527091  5.037526   \n",
       "4  5.003160  4.278530  1.542866  4.985812  4.182155  1.520330  5.037557   \n",
       "\n",
       "         hy        hz        sx        sy        sz       lwx       lwy  \\\n",
       "0  1.618295  1.778350  5.062803  4.229656  1.772577  4.972902  4.301065   \n",
       "1  1.618370  1.778573  5.061430  4.228504  1.772859  4.974908  4.303656   \n",
       "2  1.618298  1.778774  5.059245  4.228004  1.773568  4.981612  4.305363   \n",
       "3  1.618612  1.778855  5.056475  4.226891  1.774519  4.987158  4.304063   \n",
       "4  1.619226  1.778925  5.052367  4.225485  1.775536  4.983912  4.296833   \n",
       "\n",
       "        lwz       rwx       rwy       rwz  timestamp phase  \n",
       "0  1.564781  5.553945  4.370456  1.553521    5702026  Rest  \n",
       "1  1.565527  5.423875  4.303708  1.569942    5702058  Rest  \n",
       "2  1.563643  5.332170  4.438061  1.572841    5702089  Rest  \n",
       "3  1.565929  5.311104  4.396774  1.566368    5702120  Rest  \n",
       "4  1.569889  5.193762  4.335417  1.560144    5702167  Rest  "
      ]
     },
     "execution_count": 4,
     "metadata": {},
     "output_type": "execute_result"
    }
   ],
   "source": [
    "df.head()"
   ]
  },
  {
   "cell_type": "code",
   "execution_count": 5,
   "metadata": {},
   "outputs": [
    {
     "data": {
      "text/html": [
       "<div>\n",
       "<style scoped>\n",
       "    .dataframe tbody tr th:only-of-type {\n",
       "        vertical-align: middle;\n",
       "    }\n",
       "\n",
       "    .dataframe tbody tr th {\n",
       "        vertical-align: top;\n",
       "    }\n",
       "\n",
       "    .dataframe thead th {\n",
       "        text-align: right;\n",
       "    }\n",
       "</style>\n",
       "<table border=\"1\" class=\"dataframe\">\n",
       "  <thead>\n",
       "    <tr style=\"text-align: right;\">\n",
       "      <th></th>\n",
       "      <th>lhx</th>\n",
       "      <th>lhy</th>\n",
       "      <th>lhz</th>\n",
       "      <th>rhx</th>\n",
       "      <th>rhy</th>\n",
       "      <th>rhz</th>\n",
       "      <th>hx</th>\n",
       "      <th>hy</th>\n",
       "      <th>hz</th>\n",
       "      <th>sx</th>\n",
       "      <th>sy</th>\n",
       "      <th>sz</th>\n",
       "      <th>lwx</th>\n",
       "      <th>lwy</th>\n",
       "      <th>lwz</th>\n",
       "      <th>rwx</th>\n",
       "      <th>rwy</th>\n",
       "      <th>rwz</th>\n",
       "      <th>timestamp</th>\n",
       "    </tr>\n",
       "  </thead>\n",
       "  <tbody>\n",
       "    <tr>\n",
       "      <th>count</th>\n",
       "      <td>9901.000000</td>\n",
       "      <td>9901.000000</td>\n",
       "      <td>9901.000000</td>\n",
       "      <td>9901.000000</td>\n",
       "      <td>9901.000000</td>\n",
       "      <td>9901.000000</td>\n",
       "      <td>9901.000000</td>\n",
       "      <td>9901.000000</td>\n",
       "      <td>9901.000000</td>\n",
       "      <td>9901.000000</td>\n",
       "      <td>9901.000000</td>\n",
       "      <td>9901.000000</td>\n",
       "      <td>9901.000000</td>\n",
       "      <td>9901.000000</td>\n",
       "      <td>9901.000000</td>\n",
       "      <td>9901.000000</td>\n",
       "      <td>9901.000000</td>\n",
       "      <td>9901.000000</td>\n",
       "      <td>9.901000e+03</td>\n",
       "    </tr>\n",
       "    <tr>\n",
       "      <th>mean</th>\n",
       "      <td>3.754303</td>\n",
       "      <td>4.421089</td>\n",
       "      <td>1.901408</td>\n",
       "      <td>4.770458</td>\n",
       "      <td>4.032507</td>\n",
       "      <td>1.890965</td>\n",
       "      <td>4.222623</td>\n",
       "      <td>1.949789</td>\n",
       "      <td>2.113115</td>\n",
       "      <td>4.223010</td>\n",
       "      <td>4.155878</td>\n",
       "      <td>2.124643</td>\n",
       "      <td>3.643537</td>\n",
       "      <td>4.338087</td>\n",
       "      <td>1.935364</td>\n",
       "      <td>4.845752</td>\n",
       "      <td>4.009825</td>\n",
       "      <td>1.929095</td>\n",
       "      <td>4.335367e+06</td>\n",
       "    </tr>\n",
       "    <tr>\n",
       "      <th>std</th>\n",
       "      <td>1.362442</td>\n",
       "      <td>0.819386</td>\n",
       "      <td>0.337190</td>\n",
       "      <td>1.048024</td>\n",
       "      <td>1.127062</td>\n",
       "      <td>0.347428</td>\n",
       "      <td>1.132056</td>\n",
       "      <td>1.176233</td>\n",
       "      <td>0.309389</td>\n",
       "      <td>1.146435</td>\n",
       "      <td>0.447823</td>\n",
       "      <td>0.321529</td>\n",
       "      <td>1.320560</td>\n",
       "      <td>0.712268</td>\n",
       "      <td>0.334942</td>\n",
       "      <td>1.033417</td>\n",
       "      <td>1.005279</td>\n",
       "      <td>0.350841</td>\n",
       "      <td>1.226816e+06</td>\n",
       "    </tr>\n",
       "    <tr>\n",
       "      <th>min</th>\n",
       "      <td>0.000000</td>\n",
       "      <td>0.843307</td>\n",
       "      <td>1.183290</td>\n",
       "      <td>1.882058</td>\n",
       "      <td>0.279121</td>\n",
       "      <td>1.161676</td>\n",
       "      <td>2.105279</td>\n",
       "      <td>0.780237</td>\n",
       "      <td>1.544137</td>\n",
       "      <td>2.320001</td>\n",
       "      <td>3.250836</td>\n",
       "      <td>1.695533</td>\n",
       "      <td>0.030870</td>\n",
       "      <td>1.157265</td>\n",
       "      <td>1.245345</td>\n",
       "      <td>2.178931</td>\n",
       "      <td>0.498273</td>\n",
       "      <td>1.206841</td>\n",
       "      <td>2.207398e+06</td>\n",
       "    </tr>\n",
       "    <tr>\n",
       "      <th>25%</th>\n",
       "      <td>2.433796</td>\n",
       "      <td>3.879449</td>\n",
       "      <td>1.538927</td>\n",
       "      <td>4.114968</td>\n",
       "      <td>3.450184</td>\n",
       "      <td>1.527411</td>\n",
       "      <td>2.846626</td>\n",
       "      <td>1.313644</td>\n",
       "      <td>1.770920</td>\n",
       "      <td>2.638296</td>\n",
       "      <td>4.056818</td>\n",
       "      <td>1.754667</td>\n",
       "      <td>2.233403</td>\n",
       "      <td>3.828411</td>\n",
       "      <td>1.566978</td>\n",
       "      <td>4.078192</td>\n",
       "      <td>3.516531</td>\n",
       "      <td>1.558461</td>\n",
       "      <td>2.805312e+06</td>\n",
       "    </tr>\n",
       "    <tr>\n",
       "      <th>50%</th>\n",
       "      <td>4.206545</td>\n",
       "      <td>4.581208</td>\n",
       "      <td>1.914491</td>\n",
       "      <td>4.858975</td>\n",
       "      <td>4.203057</td>\n",
       "      <td>1.883379</td>\n",
       "      <td>4.692340</td>\n",
       "      <td>1.656074</td>\n",
       "      <td>2.122395</td>\n",
       "      <td>4.689303</td>\n",
       "      <td>4.177350</td>\n",
       "      <td>2.131447</td>\n",
       "      <td>4.090131</td>\n",
       "      <td>4.466922</td>\n",
       "      <td>1.956686</td>\n",
       "      <td>4.988732</td>\n",
       "      <td>4.163852</td>\n",
       "      <td>1.935547</td>\n",
       "      <td>4.314953e+06</td>\n",
       "    </tr>\n",
       "    <tr>\n",
       "      <th>75%</th>\n",
       "      <td>4.672442</td>\n",
       "      <td>5.114254</td>\n",
       "      <td>2.195445</td>\n",
       "      <td>5.367706</td>\n",
       "      <td>4.959624</td>\n",
       "      <td>2.181464</td>\n",
       "      <td>5.021044</td>\n",
       "      <td>1.854884</td>\n",
       "      <td>2.394920</td>\n",
       "      <td>5.047429</td>\n",
       "      <td>4.281710</td>\n",
       "      <td>2.419701</td>\n",
       "      <td>4.600684</td>\n",
       "      <td>4.990810</td>\n",
       "      <td>2.232318</td>\n",
       "      <td>5.509112</td>\n",
       "      <td>4.894589</td>\n",
       "      <td>2.228143</td>\n",
       "      <td>5.408332e+06</td>\n",
       "    </tr>\n",
       "    <tr>\n",
       "      <th>max</th>\n",
       "      <td>6.429354</td>\n",
       "      <td>6.045581</td>\n",
       "      <td>2.952856</td>\n",
       "      <td>8.546903</td>\n",
       "      <td>6.197751</td>\n",
       "      <td>2.831482</td>\n",
       "      <td>6.308431</td>\n",
       "      <td>4.730422</td>\n",
       "      <td>2.748528</td>\n",
       "      <td>6.006933</td>\n",
       "      <td>4.984532</td>\n",
       "      <td>2.755043</td>\n",
       "      <td>6.083546</td>\n",
       "      <td>5.677821</td>\n",
       "      <td>2.943367</td>\n",
       "      <td>8.266059</td>\n",
       "      <td>5.817567</td>\n",
       "      <td>2.790349</td>\n",
       "      <td>5.807537e+06</td>\n",
       "    </tr>\n",
       "  </tbody>\n",
       "</table>\n",
       "</div>"
      ],
      "text/plain": [
       "               lhx          lhy          lhz          rhx          rhy  \\\n",
       "count  9901.000000  9901.000000  9901.000000  9901.000000  9901.000000   \n",
       "mean      3.754303     4.421089     1.901408     4.770458     4.032507   \n",
       "std       1.362442     0.819386     0.337190     1.048024     1.127062   \n",
       "min       0.000000     0.843307     1.183290     1.882058     0.279121   \n",
       "25%       2.433796     3.879449     1.538927     4.114968     3.450184   \n",
       "50%       4.206545     4.581208     1.914491     4.858975     4.203057   \n",
       "75%       4.672442     5.114254     2.195445     5.367706     4.959624   \n",
       "max       6.429354     6.045581     2.952856     8.546903     6.197751   \n",
       "\n",
       "               rhz           hx           hy           hz           sx  \\\n",
       "count  9901.000000  9901.000000  9901.000000  9901.000000  9901.000000   \n",
       "mean      1.890965     4.222623     1.949789     2.113115     4.223010   \n",
       "std       0.347428     1.132056     1.176233     0.309389     1.146435   \n",
       "min       1.161676     2.105279     0.780237     1.544137     2.320001   \n",
       "25%       1.527411     2.846626     1.313644     1.770920     2.638296   \n",
       "50%       1.883379     4.692340     1.656074     2.122395     4.689303   \n",
       "75%       2.181464     5.021044     1.854884     2.394920     5.047429   \n",
       "max       2.831482     6.308431     4.730422     2.748528     6.006933   \n",
       "\n",
       "                sy           sz          lwx          lwy          lwz  \\\n",
       "count  9901.000000  9901.000000  9901.000000  9901.000000  9901.000000   \n",
       "mean      4.155878     2.124643     3.643537     4.338087     1.935364   \n",
       "std       0.447823     0.321529     1.320560     0.712268     0.334942   \n",
       "min       3.250836     1.695533     0.030870     1.157265     1.245345   \n",
       "25%       4.056818     1.754667     2.233403     3.828411     1.566978   \n",
       "50%       4.177350     2.131447     4.090131     4.466922     1.956686   \n",
       "75%       4.281710     2.419701     4.600684     4.990810     2.232318   \n",
       "max       4.984532     2.755043     6.083546     5.677821     2.943367   \n",
       "\n",
       "               rwx          rwy          rwz     timestamp  \n",
       "count  9901.000000  9901.000000  9901.000000  9.901000e+03  \n",
       "mean      4.845752     4.009825     1.929095  4.335367e+06  \n",
       "std       1.033417     1.005279     0.350841  1.226816e+06  \n",
       "min       2.178931     0.498273     1.206841  2.207398e+06  \n",
       "25%       4.078192     3.516531     1.558461  2.805312e+06  \n",
       "50%       4.988732     4.163852     1.935547  4.314953e+06  \n",
       "75%       5.509112     4.894589     2.228143  5.408332e+06  \n",
       "max       8.266059     5.817567     2.790349  5.807537e+06  "
      ]
     },
     "execution_count": 5,
     "metadata": {},
     "output_type": "execute_result"
    }
   ],
   "source": [
    "df.describe()"
   ]
  },
  {
   "cell_type": "code",
   "execution_count": 6,
   "metadata": {},
   "outputs": [
    {
     "data": {
      "text/plain": [
       "lhx          0\n",
       "lhy          0\n",
       "lhz          0\n",
       "rhx          0\n",
       "rhy          0\n",
       "rhz          0\n",
       "hx           0\n",
       "hy           0\n",
       "hz           0\n",
       "sx           0\n",
       "sy           0\n",
       "sz           0\n",
       "lwx          0\n",
       "lwy          0\n",
       "lwz          0\n",
       "rwx          0\n",
       "rwy          0\n",
       "rwz          0\n",
       "timestamp    0\n",
       "phase        0\n",
       "dtype: int64"
      ]
     },
     "execution_count": 6,
     "metadata": {},
     "output_type": "execute_result"
    }
   ],
   "source": [
    "df.isnull().sum()"
   ]
  },
  {
   "cell_type": "code",
   "execution_count": 7,
   "metadata": {},
   "outputs": [
    {
     "data": {
      "text/plain": [
       "(9901, 20)"
      ]
     },
     "execution_count": 7,
     "metadata": {},
     "output_type": "execute_result"
    }
   ],
   "source": [
    "df.shape"
   ]
  },
  {
   "cell_type": "code",
   "execution_count": 8,
   "metadata": {},
   "outputs": [
    {
     "data": {
      "text/plain": [
       "lhx          float64\n",
       "lhy          float64\n",
       "lhz          float64\n",
       "rhx          float64\n",
       "rhy          float64\n",
       "rhz          float64\n",
       "hx           float64\n",
       "hy           float64\n",
       "hz           float64\n",
       "sx           float64\n",
       "sy           float64\n",
       "sz           float64\n",
       "lwx          float64\n",
       "lwy          float64\n",
       "lwz          float64\n",
       "rwx          float64\n",
       "rwy          float64\n",
       "rwz          float64\n",
       "timestamp      int64\n",
       "phase         object\n",
       "dtype: object"
      ]
     },
     "execution_count": 8,
     "metadata": {},
     "output_type": "execute_result"
    }
   ],
   "source": [
    "df.dtypes"
   ]
  },
  {
   "cell_type": "code",
   "execution_count": 9,
   "metadata": {},
   "outputs": [
    {
     "name": "stdout",
     "output_type": "stream",
     "text": [
      "<class 'pandas.core.frame.DataFrame'>\n",
      "Int64Index: 9901 entries, 0 to 1447\n",
      "Data columns (total 20 columns):\n",
      "lhx          9901 non-null float64\n",
      "lhy          9901 non-null float64\n",
      "lhz          9901 non-null float64\n",
      "rhx          9901 non-null float64\n",
      "rhy          9901 non-null float64\n",
      "rhz          9901 non-null float64\n",
      "hx           9901 non-null float64\n",
      "hy           9901 non-null float64\n",
      "hz           9901 non-null float64\n",
      "sx           9901 non-null float64\n",
      "sy           9901 non-null float64\n",
      "sz           9901 non-null float64\n",
      "lwx          9901 non-null float64\n",
      "lwy          9901 non-null float64\n",
      "lwz          9901 non-null float64\n",
      "rwx          9901 non-null float64\n",
      "rwy          9901 non-null float64\n",
      "rwz          9901 non-null float64\n",
      "timestamp    9901 non-null int64\n",
      "phase        9901 non-null object\n",
      "dtypes: float64(18), int64(1), object(1)\n",
      "memory usage: 1.6+ MB\n"
     ]
    }
   ],
   "source": [
    "df.info()"
   ]
  },
  {
   "cell_type": "code",
   "execution_count": 10,
   "metadata": {},
   "outputs": [
    {
     "data": {
      "text/plain": [
       "timestamp  hz          -0.865652\n",
       "sz         timestamp   -0.865112\n",
       "rwz        timestamp   -0.828412\n",
       "timestamp  rhz         -0.826154\n",
       "           lwz         -0.821142\n",
       "           lhz         -0.819011\n",
       "sz         rwx         -0.625021\n",
       "rwx        rwz         -0.612666\n",
       "hz         rwx         -0.610835\n",
       "sx         rwz         -0.602544\n",
       "rwx        rhz         -0.600388\n",
       "rwz        hx          -0.594203\n",
       "rhz        sx          -0.592087\n",
       "lwz        rwx         -0.591428\n",
       "sx         sz          -0.584851\n",
       "rhz        hx          -0.584454\n",
       "rwx        lhz         -0.583326\n",
       "sz         hx          -0.580043\n",
       "timestamp  hy          -0.575078\n",
       "lhz        sx          -0.570828\n",
       "lwz        sx          -0.570531\n",
       "hx         lwz         -0.566721\n",
       "           lhz         -0.566570\n",
       "rhx        sz          -0.560869\n",
       "hz         sx          -0.557509\n",
       "hx         hz          -0.554332\n",
       "rhx        hz          -0.550251\n",
       "rwz        rhx         -0.549182\n",
       "rhx        rhz         -0.536170\n",
       "lwz        rhx         -0.528080\n",
       "                          ...   \n",
       "sx         rhx          0.799769\n",
       "rhx        hx           0.810034\n",
       "rwx        sx           0.859874\n",
       "hx         rwx          0.866576\n",
       "hy         sy           0.880806\n",
       "lhx        hx           0.897961\n",
       "sx         lhx          0.912621\n",
       "hx         lwx          0.919702\n",
       "lwx        sx           0.932003\n",
       "lhz        rhz          0.935600\n",
       "lwz        rhz          0.938091\n",
       "lhz        rwz          0.941790\n",
       "rhz        hz           0.945881\n",
       "rwz        lwz          0.946291\n",
       "sz         rhz          0.951834\n",
       "hz         lhz          0.952654\n",
       "           rwz          0.955239\n",
       "lwz        hz           0.960595\n",
       "rwz        sz           0.962003\n",
       "lhz        sz           0.964082\n",
       "lwz        sz           0.971334\n",
       "rwx        rhx          0.984018\n",
       "lhy        lwy          0.985005\n",
       "rhy        rwy          0.990805\n",
       "lwx        lhx          0.993830\n",
       "sz         hz           0.994199\n",
       "hx         sx           0.994689\n",
       "rhz        rwz          0.995561\n",
       "lhz        lwz          0.996866\n",
       "lhx        lhx          1.000000\n",
       "Length: 172, dtype: float64"
      ]
     },
     "execution_count": 10,
     "metadata": {},
     "output_type": "execute_result"
    }
   ],
   "source": [
    "df.corr().unstack().sort_values().drop_duplicates()"
   ]
  },
  {
   "cell_type": "code",
   "execution_count": 11,
   "metadata": {},
   "outputs": [],
   "source": [
    "from sklearn.preprocessing import LabelEncoder"
   ]
  },
  {
   "cell_type": "code",
   "execution_count": 12,
   "metadata": {},
   "outputs": [
    {
     "data": {
      "text/html": [
       "<div>\n",
       "<style scoped>\n",
       "    .dataframe tbody tr th:only-of-type {\n",
       "        vertical-align: middle;\n",
       "    }\n",
       "\n",
       "    .dataframe tbody tr th {\n",
       "        vertical-align: top;\n",
       "    }\n",
       "\n",
       "    .dataframe thead th {\n",
       "        text-align: right;\n",
       "    }\n",
       "</style>\n",
       "<table border=\"1\" class=\"dataframe\">\n",
       "  <thead>\n",
       "    <tr style=\"text-align: right;\">\n",
       "      <th></th>\n",
       "      <th>lhx</th>\n",
       "      <th>lhy</th>\n",
       "      <th>lhz</th>\n",
       "      <th>rhx</th>\n",
       "      <th>rhy</th>\n",
       "      <th>rhz</th>\n",
       "      <th>hx</th>\n",
       "      <th>hy</th>\n",
       "      <th>hz</th>\n",
       "      <th>sx</th>\n",
       "      <th>sy</th>\n",
       "      <th>sz</th>\n",
       "      <th>lwx</th>\n",
       "      <th>lwy</th>\n",
       "      <th>lwz</th>\n",
       "      <th>rwx</th>\n",
       "      <th>rwy</th>\n",
       "      <th>rwz</th>\n",
       "      <th>timestamp</th>\n",
       "      <th>phase</th>\n",
       "    </tr>\n",
       "  </thead>\n",
       "  <tbody>\n",
       "    <tr>\n",
       "      <th>0</th>\n",
       "      <td>5.347435</td>\n",
       "      <td>4.363681</td>\n",
       "      <td>1.501913</td>\n",
       "      <td>5.258967</td>\n",
       "      <td>4.319263</td>\n",
       "      <td>1.488703</td>\n",
       "      <td>5.037871</td>\n",
       "      <td>1.618295</td>\n",
       "      <td>1.778350</td>\n",
       "      <td>5.062803</td>\n",
       "      <td>4.229656</td>\n",
       "      <td>1.772577</td>\n",
       "      <td>4.972902</td>\n",
       "      <td>4.301065</td>\n",
       "      <td>1.564781</td>\n",
       "      <td>5.553945</td>\n",
       "      <td>4.370456</td>\n",
       "      <td>1.553521</td>\n",
       "      <td>5702026</td>\n",
       "      <td>3</td>\n",
       "    </tr>\n",
       "    <tr>\n",
       "      <th>1</th>\n",
       "      <td>4.869622</td>\n",
       "      <td>4.254210</td>\n",
       "      <td>1.556133</td>\n",
       "      <td>5.240113</td>\n",
       "      <td>4.346338</td>\n",
       "      <td>1.554309</td>\n",
       "      <td>5.037610</td>\n",
       "      <td>1.618370</td>\n",
       "      <td>1.778573</td>\n",
       "      <td>5.061430</td>\n",
       "      <td>4.228504</td>\n",
       "      <td>1.772859</td>\n",
       "      <td>4.974908</td>\n",
       "      <td>4.303656</td>\n",
       "      <td>1.565527</td>\n",
       "      <td>5.423875</td>\n",
       "      <td>4.303708</td>\n",
       "      <td>1.569942</td>\n",
       "      <td>5702058</td>\n",
       "      <td>3</td>\n",
       "    </tr>\n",
       "    <tr>\n",
       "      <th>2</th>\n",
       "      <td>5.357447</td>\n",
       "      <td>4.364039</td>\n",
       "      <td>1.500969</td>\n",
       "      <td>5.238928</td>\n",
       "      <td>4.347924</td>\n",
       "      <td>1.554150</td>\n",
       "      <td>5.037514</td>\n",
       "      <td>1.618298</td>\n",
       "      <td>1.778774</td>\n",
       "      <td>5.059245</td>\n",
       "      <td>4.228004</td>\n",
       "      <td>1.773568</td>\n",
       "      <td>4.981612</td>\n",
       "      <td>4.305363</td>\n",
       "      <td>1.563643</td>\n",
       "      <td>5.332170</td>\n",
       "      <td>4.438061</td>\n",
       "      <td>1.572841</td>\n",
       "      <td>5702089</td>\n",
       "      <td>3</td>\n",
       "    </tr>\n",
       "    <tr>\n",
       "      <th>3</th>\n",
       "      <td>4.942886</td>\n",
       "      <td>4.281878</td>\n",
       "      <td>1.546513</td>\n",
       "      <td>5.111436</td>\n",
       "      <td>4.229660</td>\n",
       "      <td>1.527091</td>\n",
       "      <td>5.037526</td>\n",
       "      <td>1.618612</td>\n",
       "      <td>1.778855</td>\n",
       "      <td>5.056475</td>\n",
       "      <td>4.226891</td>\n",
       "      <td>1.774519</td>\n",
       "      <td>4.987158</td>\n",
       "      <td>4.304063</td>\n",
       "      <td>1.565929</td>\n",
       "      <td>5.311104</td>\n",
       "      <td>4.396774</td>\n",
       "      <td>1.566368</td>\n",
       "      <td>5702120</td>\n",
       "      <td>3</td>\n",
       "    </tr>\n",
       "    <tr>\n",
       "      <th>4</th>\n",
       "      <td>5.003160</td>\n",
       "      <td>4.278530</td>\n",
       "      <td>1.542866</td>\n",
       "      <td>4.985812</td>\n",
       "      <td>4.182155</td>\n",
       "      <td>1.520330</td>\n",
       "      <td>5.037557</td>\n",
       "      <td>1.619226</td>\n",
       "      <td>1.778925</td>\n",
       "      <td>5.052367</td>\n",
       "      <td>4.225485</td>\n",
       "      <td>1.775536</td>\n",
       "      <td>4.983912</td>\n",
       "      <td>4.296833</td>\n",
       "      <td>1.569889</td>\n",
       "      <td>5.193762</td>\n",
       "      <td>4.335417</td>\n",
       "      <td>1.560144</td>\n",
       "      <td>5702167</td>\n",
       "      <td>3</td>\n",
       "    </tr>\n",
       "  </tbody>\n",
       "</table>\n",
       "</div>"
      ],
      "text/plain": [
       "        lhx       lhy       lhz       rhx       rhy       rhz        hx  \\\n",
       "0  5.347435  4.363681  1.501913  5.258967  4.319263  1.488703  5.037871   \n",
       "1  4.869622  4.254210  1.556133  5.240113  4.346338  1.554309  5.037610   \n",
       "2  5.357447  4.364039  1.500969  5.238928  4.347924  1.554150  5.037514   \n",
       "3  4.942886  4.281878  1.546513  5.111436  4.229660  1.527091  5.037526   \n",
       "4  5.003160  4.278530  1.542866  4.985812  4.182155  1.520330  5.037557   \n",
       "\n",
       "         hy        hz        sx        sy        sz       lwx       lwy  \\\n",
       "0  1.618295  1.778350  5.062803  4.229656  1.772577  4.972902  4.301065   \n",
       "1  1.618370  1.778573  5.061430  4.228504  1.772859  4.974908  4.303656   \n",
       "2  1.618298  1.778774  5.059245  4.228004  1.773568  4.981612  4.305363   \n",
       "3  1.618612  1.778855  5.056475  4.226891  1.774519  4.987158  4.304063   \n",
       "4  1.619226  1.778925  5.052367  4.225485  1.775536  4.983912  4.296833   \n",
       "\n",
       "        lwz       rwx       rwy       rwz  timestamp  phase  \n",
       "0  1.564781  5.553945  4.370456  1.553521    5702026      3  \n",
       "1  1.565527  5.423875  4.303708  1.569942    5702058      3  \n",
       "2  1.563643  5.332170  4.438061  1.572841    5702089      3  \n",
       "3  1.565929  5.311104  4.396774  1.566368    5702120      3  \n",
       "4  1.569889  5.193762  4.335417  1.560144    5702167      3  "
      ]
     },
     "execution_count": 12,
     "metadata": {},
     "output_type": "execute_result"
    }
   ],
   "source": [
    "labelencoder=LabelEncoder()\n",
    "for col in df.columns:\n",
    "    df['phase']=labelencoder.fit_transform(df['phase'])\n",
    "df.head()"
   ]
  },
  {
   "cell_type": "code",
   "execution_count": null,
   "metadata": {},
   "outputs": [],
   "source": [
    "##plt.hist(df)"
   ]
  },
  {
   "cell_type": "code",
   "execution_count": 13,
   "metadata": {},
   "outputs": [
    {
     "data": {
      "text/plain": [
       "{'whiskers': [<matplotlib.lines.Line2D at 0x27ff7782400>,\n",
       "  <matplotlib.lines.Line2D at 0x27ff7782748>],\n",
       " 'caps': [<matplotlib.lines.Line2D at 0x27ff7782a90>,\n",
       "  <matplotlib.lines.Line2D at 0x27ff7782dd8>],\n",
       " 'boxes': [<matplotlib.lines.Line2D at 0x27ff7773fd0>],\n",
       " 'medians': [<matplotlib.lines.Line2D at 0x27ff7782eb8>],\n",
       " 'fliers': [<matplotlib.lines.Line2D at 0x27ff77934a8>],\n",
       " 'means': []}"
      ]
     },
     "execution_count": 13,
     "metadata": {},
     "output_type": "execute_result"
    },
    {
     "data": {
      "image/png": "[encoded data removed]",
      "text/plain": [
       "<Figure size 432x288 with 1 Axes>"
      ]
     },
     "metadata": {
      "needs_background": "light"
     },
     "output_type": "display_data"
    }
   ],
   "source": [
    "plt.boxplot(df['lhx'])"
   ]
  },
  {
   "cell_type": "code",
   "execution_count": 10,
   "metadata": {},
   "outputs": [
    {
     "name": "stdout",
     "output_type": "stream",
     "text": [
      "0.6233605000000004\n",
      "6.088958250000001\n",
      "3.5955162499999993\n"
     ]
    },
    {
     "name": "stderr",
     "output_type": "stream",
     "text": [
      "C:\\Users\\hp\\Anaconda3\\3.7\\lib\\site-packages\\ipykernel_launcher.py:10: SettingWithCopyWarning: \n",
      "A value is trying to be set on a copy of a slice from a DataFrame\n",
      "\n",
      "See the caveats in the documentation: http://pandas.pydata.org/pandas-docs/stable/indexing.html#indexing-view-versus-copy\n",
      "  # Remove the CWD from sys.path while we load stuff.\n",
      "C:\\Users\\hp\\Anaconda3\\3.7\\lib\\site-packages\\ipykernel_launcher.py:11: SettingWithCopyWarning: \n",
      "A value is trying to be set on a copy of a slice from a DataFrame\n",
      "\n",
      "See the caveats in the documentation: http://pandas.pydata.org/pandas-docs/stable/indexing.html#indexing-view-versus-copy\n",
      "  # This is added back by InteractiveShellApp.init_path()\n"
     ]
    },
    {
     "data": {
      "text/plain": [
       "{'whiskers': [<matplotlib.lines.Line2D at 0x2a1d599d5c0>,\n",
       "  <matplotlib.lines.Line2D at 0x2a1d599d908>],\n",
       " 'caps': [<matplotlib.lines.Line2D at 0x2a1d599dc50>,\n",
       "  <matplotlib.lines.Line2D at 0x2a1d599df98>],\n",
       " 'boxes': [<matplotlib.lines.Line2D at 0x2a1d599d198>],\n",
       " 'medians': [<matplotlib.lines.Line2D at 0x2a1d59a7320>],\n",
       " 'fliers': [<matplotlib.lines.Line2D at 0x2a1d59a7668>],\n",
       " 'means': []}"
      ]
     },
     "execution_count": 10,
     "metadata": {},
     "output_type": "execute_result"
    },
    {
     "data": {
      "image/png": "[encoded data removed]",
      "text/plain": [
       "<Figure size 432x288 with 1 Axes>"
      ]
     },
     "metadata": {
      "needs_background": "light"
     },
     "output_type": "display_data"
    }
   ],
   "source": [
    "a=a=df['lhx'].quantile([0.25,0.5,0.75])\n",
    "IQR=a[0.75]-a[0.25]\n",
    "print(IQR)\n",
    "IQR15=1.5*IQR\n",
    "IQR15\n",
    "upper_wishk=a[0.75]+IQR15\n",
    "lower_wishk=a[0.25]-IQR15\n",
    "print(upper_wishk)\n",
    "print(lower_wishk)\n",
    "df['lhx'][df['lhx'] > upper_wishk]=upper_wishk\n",
    "df['lhx'][df['lhx'] <lower_wishk]=lower_wishk\n",
    "plt.boxplot(df['lhx'])"
   ]
  },
  {
   "cell_type": "code",
   "execution_count": 14,
   "metadata": {},
   "outputs": [
    {
     "data": {
      "text/plain": [
       "{'whiskers': [<matplotlib.lines.Line2D at 0x27ff7806f28>,\n",
       "  <matplotlib.lines.Line2D at 0x27ff78132b0>],\n",
       " 'caps': [<matplotlib.lines.Line2D at 0x27ff78135f8>,\n",
       "  <matplotlib.lines.Line2D at 0x27ff7813940>],\n",
       " 'boxes': [<matplotlib.lines.Line2D at 0x27ff7806b38>],\n",
       " 'medians': [<matplotlib.lines.Line2D at 0x27ff7813cc0>],\n",
       " 'fliers': [<matplotlib.lines.Line2D at 0x27ff7813da0>],\n",
       " 'means': []}"
      ]
     },
     "execution_count": 14,
     "metadata": {},
     "output_type": "execute_result"
    },
    {
     "data": {
      "image/png": "[encoded data removed]",
      "text/plain": [
       "<Figure size 432x288 with 1 Axes>"
      ]
     },
     "metadata": {
      "needs_background": "light"
     },
     "output_type": "display_data"
    }
   ],
   "source": [
    "plt.boxplot(df['lhy'])"
   ]
  },
  {
   "cell_type": "code",
   "execution_count": 15,
   "metadata": {},
   "outputs": [
    {
     "name": "stdout",
     "output_type": "stream",
     "text": [
      "1.2348050000000002\n",
      "6.9664615\n",
      "2.0272414999999997\n"
     ]
    },
    {
     "name": "stderr",
     "output_type": "stream",
     "text": [
      "C:\\Users\\hp\\Anaconda3\\3.7\\lib\\site-packages\\ipykernel_launcher.py:10: SettingWithCopyWarning: \n",
      "A value is trying to be set on a copy of a slice from a DataFrame\n",
      "\n",
      "See the caveats in the documentation: http://pandas.pydata.org/pandas-docs/stable/indexing.html#indexing-view-versus-copy\n",
      "  # Remove the CWD from sys.path while we load stuff.\n",
      "C:\\Users\\hp\\Anaconda3\\3.7\\lib\\site-packages\\ipykernel_launcher.py:11: SettingWithCopyWarning: \n",
      "A value is trying to be set on a copy of a slice from a DataFrame\n",
      "\n",
      "See the caveats in the documentation: http://pandas.pydata.org/pandas-docs/stable/indexing.html#indexing-view-versus-copy\n",
      "  # This is added back by InteractiveShellApp.init_path()\n"
     ]
    },
    {
     "data": {
      "text/plain": [
       "{'whiskers': [<matplotlib.lines.Line2D at 0x27ff786deb8>,\n",
       "  <matplotlib.lines.Line2D at 0x27ff786df98>],\n",
       " 'caps': [<matplotlib.lines.Line2D at 0x27ff7879588>,\n",
       "  <matplotlib.lines.Line2D at 0x27ff78798d0>],\n",
       " 'boxes': [<matplotlib.lines.Line2D at 0x27ff786dac8>],\n",
       " 'medians': [<matplotlib.lines.Line2D at 0x27ff7879c18>],\n",
       " 'fliers': [<matplotlib.lines.Line2D at 0x27ff7879f60>],\n",
       " 'means': []}"
      ]
     },
     "execution_count": 15,
     "metadata": {},
     "output_type": "execute_result"
    },
    {
     "data": {
      "image/png": "[encoded data removed]",
      "text/plain": [
       "<Figure size 432x288 with 1 Axes>"
      ]
     },
     "metadata": {
      "needs_background": "light"
     },
     "output_type": "display_data"
    }
   ],
   "source": [
    "a=a=df['lhy'].quantile([0.25,0.5,0.75])\n",
    "IQR=a[0.75]-a[0.25]\n",
    "print(IQR)\n",
    "IQR15=1.5*IQR\n",
    "IQR15\n",
    "upper_wishk=a[0.75]+IQR15\n",
    "lower_wishk=a[0.25]-IQR15\n",
    "print(upper_wishk)\n",
    "print(lower_wishk)\n",
    "df['lhy'][df['lhy'] > upper_wishk]=upper_wishk\n",
    "df['lhy'][df['lhy'] <lower_wishk]=lower_wishk\n",
    "plt.boxplot(df['lhy'])"
   ]
  },
  {
   "cell_type": "code",
   "execution_count": 16,
   "metadata": {},
   "outputs": [
    {
     "data": {
      "text/plain": [
       "{'whiskers': [<matplotlib.lines.Line2D at 0x27ff78dc518>,\n",
       "  <matplotlib.lines.Line2D at 0x27ff78dc860>],\n",
       " 'caps': [<matplotlib.lines.Line2D at 0x27ff78dcba8>,\n",
       "  <matplotlib.lines.Line2D at 0x27ff78dcef0>],\n",
       " 'boxes': [<matplotlib.lines.Line2D at 0x27ff78dc128>],\n",
       " 'medians': [<matplotlib.lines.Line2D at 0x27ff78dcfd0>],\n",
       " 'fliers': [<matplotlib.lines.Line2D at 0x27ff78e65c0>],\n",
       " 'means': []}"
      ]
     },
     "execution_count": 16,
     "metadata": {},
     "output_type": "execute_result"
    },
    {
     "data": {
      "image/png": "[encoded data removed]",
      "text/plain": [
       "<Figure size 432x288 with 1 Axes>"
      ]
     },
     "metadata": {
      "needs_background": "light"
     },
     "output_type": "display_data"
    }
   ],
   "source": [
    "plt.boxplot(df['lhz'])"
   ]
  },
  {
   "cell_type": "code",
   "execution_count": 17,
   "metadata": {},
   "outputs": [
    {
     "name": "stdout",
     "output_type": "stream",
     "text": [
      "0.6565179999999999\n",
      "3.1802219999999997\n",
      "0.55415\n"
     ]
    },
    {
     "name": "stderr",
     "output_type": "stream",
     "text": [
      "C:\\Users\\hp\\Anaconda3\\3.7\\lib\\site-packages\\ipykernel_launcher.py:10: SettingWithCopyWarning: \n",
      "A value is trying to be set on a copy of a slice from a DataFrame\n",
      "\n",
      "See the caveats in the documentation: http://pandas.pydata.org/pandas-docs/stable/indexing.html#indexing-view-versus-copy\n",
      "  # Remove the CWD from sys.path while we load stuff.\n",
      "C:\\Users\\hp\\Anaconda3\\3.7\\lib\\site-packages\\ipykernel_launcher.py:11: SettingWithCopyWarning: \n",
      "A value is trying to be set on a copy of a slice from a DataFrame\n",
      "\n",
      "See the caveats in the documentation: http://pandas.pydata.org/pandas-docs/stable/indexing.html#indexing-view-versus-copy\n",
      "  # This is added back by InteractiveShellApp.init_path()\n"
     ]
    },
    {
     "data": {
      "text/plain": [
       "{'whiskers': [<matplotlib.lines.Line2D at 0x27ff7936c88>,\n",
       "  <matplotlib.lines.Line2D at 0x27ff7936fd0>],\n",
       " 'caps': [<matplotlib.lines.Line2D at 0x27ff793f358>,\n",
       "  <matplotlib.lines.Line2D at 0x27ff793f6a0>],\n",
       " 'boxes': [<matplotlib.lines.Line2D at 0x27ff7936898>],\n",
       " 'medians': [<matplotlib.lines.Line2D at 0x27ff793f9e8>],\n",
       " 'fliers': [<matplotlib.lines.Line2D at 0x27ff793fd30>],\n",
       " 'means': []}"
      ]
     },
     "execution_count": 17,
     "metadata": {},
     "output_type": "execute_result"
    },
    {
     "data": {
      "image/png": "[encoded data removed]",
      "text/plain": [
       "<Figure size 432x288 with 1 Axes>"
      ]
     },
     "metadata": {
      "needs_background": "light"
     },
     "output_type": "display_data"
    }
   ],
   "source": [
    "a=a=df['lhz'].quantile([0.25,0.5,0.75])\n",
    "IQR=a[0.75]-a[0.25]\n",
    "print(IQR)\n",
    "IQR15=1.5*IQR\n",
    "IQR15\n",
    "upper_wishk=a[0.75]+IQR15\n",
    "lower_wishk=a[0.25]-IQR15\n",
    "print(upper_wishk)\n",
    "print(lower_wishk)\n",
    "df['lhz'][df['lhz'] > upper_wishk]=upper_wishk\n",
    "df['lhz'][df['lhz'] <lower_wishk]=lower_wishk\n",
    "plt.boxplot(df['lhz'])"
   ]
  },
  {
   "cell_type": "code",
   "execution_count": 18,
   "metadata": {},
   "outputs": [
    {
     "data": {
      "text/plain": [
       "{'whiskers': [<matplotlib.lines.Line2D at 0x27ff7990940>,\n",
       "  <matplotlib.lines.Line2D at 0x27ff7990c88>],\n",
       " 'caps': [<matplotlib.lines.Line2D at 0x27ff7990d68>,\n",
       "  <matplotlib.lines.Line2D at 0x27ff799e400>],\n",
       " 'boxes': [<matplotlib.lines.Line2D at 0x27ff7990550>],\n",
       " 'medians': [<matplotlib.lines.Line2D at 0x27ff799e748>],\n",
       " 'fliers': [<matplotlib.lines.Line2D at 0x27ff799ea90>],\n",
       " 'means': []}"
      ]
     },
     "execution_count": 18,
     "metadata": {},
     "output_type": "execute_result"
    },
    {
     "data": {
      "image/png": "[encoded data removed]",
      "text/plain": [
       "<Figure size 432x288 with 1 Axes>"
      ]
     },
     "metadata": {
      "needs_background": "light"
     },
     "output_type": "display_data"
    }
   ],
   "source": [
    "plt.boxplot(df['rhx'])"
   ]
  },
  {
   "cell_type": "code",
   "execution_count": 19,
   "metadata": {},
   "outputs": [
    {
     "name": "stdout",
     "output_type": "stream",
     "text": [
      "1.252738\n",
      "7.2468129999999995\n",
      "2.2358610000000003\n"
     ]
    },
    {
     "name": "stderr",
     "output_type": "stream",
     "text": [
      "C:\\Users\\hp\\Anaconda3\\3.7\\lib\\site-packages\\ipykernel_launcher.py:10: SettingWithCopyWarning: \n",
      "A value is trying to be set on a copy of a slice from a DataFrame\n",
      "\n",
      "See the caveats in the documentation: http://pandas.pydata.org/pandas-docs/stable/indexing.html#indexing-view-versus-copy\n",
      "  # Remove the CWD from sys.path while we load stuff.\n",
      "C:\\Users\\hp\\Anaconda3\\3.7\\lib\\site-packages\\ipykernel_launcher.py:11: SettingWithCopyWarning: \n",
      "A value is trying to be set on a copy of a slice from a DataFrame\n",
      "\n",
      "See the caveats in the documentation: http://pandas.pydata.org/pandas-docs/stable/indexing.html#indexing-view-versus-copy\n",
      "  # This is added back by InteractiveShellApp.init_path()\n"
     ]
    },
    {
     "data": {
      "text/plain": [
       "{'whiskers': [<matplotlib.lines.Line2D at 0x27ff79ee9b0>,\n",
       "  <matplotlib.lines.Line2D at 0x27ff79eecf8>],\n",
       " 'caps': [<matplotlib.lines.Line2D at 0x27ff79eedd8>,\n",
       "  <matplotlib.lines.Line2D at 0x27ff79f93c8>],\n",
       " 'boxes': [<matplotlib.lines.Line2D at 0x27ff79ee5c0>],\n",
       " 'medians': [<matplotlib.lines.Line2D at 0x27ff79f9710>],\n",
       " 'fliers': [<matplotlib.lines.Line2D at 0x27ff79f9a58>],\n",
       " 'means': []}"
      ]
     },
     "execution_count": 19,
     "metadata": {},
     "output_type": "execute_result"
    },
    {
     "data": {
      "image/png": "[encoded data removed]",
      "text/plain": [
       "<Figure size 432x288 with 1 Axes>"
      ]
     },
     "metadata": {
      "needs_background": "light"
     },
     "output_type": "display_data"
    }
   ],
   "source": [
    "a=a=df['rhx'].quantile([0.25,0.5,0.75])\n",
    "IQR=a[0.75]-a[0.25]\n",
    "print(IQR)\n",
    "IQR15=1.5*IQR\n",
    "IQR15\n",
    "upper_wishk=a[0.75]+IQR15\n",
    "lower_wishk=a[0.25]-IQR15\n",
    "print(upper_wishk)\n",
    "print(lower_wishk)\n",
    "df['rhx'][df['rhx'] > upper_wishk]=upper_wishk\n",
    "df['rhx'][df['rhx'] <lower_wishk]=lower_wishk\n",
    "plt.boxplot(df['rhx'])"
   ]
  },
  {
   "cell_type": "code",
   "execution_count": 20,
   "metadata": {},
   "outputs": [
    {
     "data": {
      "text/plain": [
       "{'whiskers': [<matplotlib.lines.Line2D at 0x27ff7a44b00>,\n",
       "  <matplotlib.lines.Line2D at 0x27ff7a44e48>],\n",
       " 'caps': [<matplotlib.lines.Line2D at 0x27ff7a44f28>,\n",
       "  <matplotlib.lines.Line2D at 0x27ff7a4f518>],\n",
       " 'boxes': [<matplotlib.lines.Line2D at 0x27ff7a44710>],\n",
       " 'medians': [<matplotlib.lines.Line2D at 0x27ff7a4f860>],\n",
       " 'fliers': [<matplotlib.lines.Line2D at 0x27ff7a4fba8>],\n",
       " 'means': []}"
      ]
     },
     "execution_count": 20,
     "metadata": {},
     "output_type": "execute_result"
    },
    {
     "data": {
      "image/png": "[encoded data removed]",
      "text/plain": [
       "<Figure size 432x288 with 1 Axes>"
      ]
     },
     "metadata": {
      "needs_background": "light"
     },
     "output_type": "display_data"
    }
   ],
   "source": [
    "plt.boxplot(df['rhy'])"
   ]
  },
  {
   "cell_type": "code",
   "execution_count": 21,
   "metadata": {},
   "outputs": [
    {
     "name": "stdout",
     "output_type": "stream",
     "text": [
      "1.5094400000000001\n",
      "7.223784\n",
      "1.1860239999999993\n"
     ]
    },
    {
     "name": "stderr",
     "output_type": "stream",
     "text": [
      "C:\\Users\\hp\\Anaconda3\\3.7\\lib\\site-packages\\ipykernel_launcher.py:10: SettingWithCopyWarning: \n",
      "A value is trying to be set on a copy of a slice from a DataFrame\n",
      "\n",
      "See the caveats in the documentation: http://pandas.pydata.org/pandas-docs/stable/indexing.html#indexing-view-versus-copy\n",
      "  # Remove the CWD from sys.path while we load stuff.\n",
      "C:\\Users\\hp\\Anaconda3\\3.7\\lib\\site-packages\\ipykernel_launcher.py:11: SettingWithCopyWarning: \n",
      "A value is trying to be set on a copy of a slice from a DataFrame\n",
      "\n",
      "See the caveats in the documentation: http://pandas.pydata.org/pandas-docs/stable/indexing.html#indexing-view-versus-copy\n",
      "  # This is added back by InteractiveShellApp.init_path()\n"
     ]
    },
    {
     "data": {
      "text/plain": [
       "{'whiskers': [<matplotlib.lines.Line2D at 0x27ff7aa0b38>,\n",
       "  <matplotlib.lines.Line2D at 0x27ff7aa0e80>],\n",
       " 'caps': [<matplotlib.lines.Line2D at 0x27ff7aa0f60>,\n",
       "  <matplotlib.lines.Line2D at 0x27ff7aa9550>],\n",
       " 'boxes': [<matplotlib.lines.Line2D at 0x27ff7aa0748>],\n",
       " 'medians': [<matplotlib.lines.Line2D at 0x27ff7aa9898>],\n",
       " 'fliers': [<matplotlib.lines.Line2D at 0x27ff7aa9be0>],\n",
       " 'means': []}"
      ]
     },
     "execution_count": 21,
     "metadata": {},
     "output_type": "execute_result"
    },
    {
     "data": {
      "image/png": "[encoded data removed]",
      "text/plain": [
       "<Figure size 432x288 with 1 Axes>"
      ]
     },
     "metadata": {
      "needs_background": "light"
     },
     "output_type": "display_data"
    }
   ],
   "source": [
    "a=a=df['rhy'].quantile([0.25,0.5,0.75])\n",
    "IQR=a[0.75]-a[0.25]\n",
    "print(IQR)\n",
    "IQR15=1.5*IQR\n",
    "IQR15\n",
    "upper_wishk=a[0.75]+IQR15\n",
    "lower_wishk=a[0.25]-IQR15\n",
    "print(upper_wishk)\n",
    "print(lower_wishk)\n",
    "df['rhy'][df['rhy'] > upper_wishk]=upper_wishk\n",
    "df['rhy'][df['rhy'] <lower_wishk]=lower_wishk\n",
    "plt.boxplot(df['rhy'])"
   ]
  },
  {
   "cell_type": "code",
   "execution_count": 22,
   "metadata": {},
   "outputs": [
    {
     "data": {
      "text/plain": [
       "{'whiskers': [<matplotlib.lines.Line2D at 0x27ff7af4cc0>,\n",
       "  <matplotlib.lines.Line2D at 0x27ff7af4da0>],\n",
       " 'caps': [<matplotlib.lines.Line2D at 0x27ff7b00390>,\n",
       "  <matplotlib.lines.Line2D at 0x27ff7b006d8>],\n",
       " 'boxes': [<matplotlib.lines.Line2D at 0x27ff7af48d0>],\n",
       " 'medians': [<matplotlib.lines.Line2D at 0x27ff7b00a20>],\n",
       " 'fliers': [<matplotlib.lines.Line2D at 0x27ff7b00d68>],\n",
       " 'means': []}"
      ]
     },
     "execution_count": 22,
     "metadata": {},
     "output_type": "execute_result"
    },
    {
     "data": {
      "image/png": "[encoded data removed]",
      "text/plain": [
       "<Figure size 432x288 with 1 Axes>"
      ]
     },
     "metadata": {
      "needs_background": "light"
     },
     "output_type": "display_data"
    }
   ],
   "source": [
    "plt.boxplot(df['rhz'])"
   ]
  },
  {
   "cell_type": "code",
   "execution_count": 23,
   "metadata": {},
   "outputs": [
    {
     "name": "stdout",
     "output_type": "stream",
     "text": [
      "0.654053\n",
      "3.1625435\n",
      "0.5463315000000001\n"
     ]
    },
    {
     "name": "stderr",
     "output_type": "stream",
     "text": [
      "C:\\Users\\hp\\Anaconda3\\3.7\\lib\\site-packages\\ipykernel_launcher.py:10: SettingWithCopyWarning: \n",
      "A value is trying to be set on a copy of a slice from a DataFrame\n",
      "\n",
      "See the caveats in the documentation: http://pandas.pydata.org/pandas-docs/stable/indexing.html#indexing-view-versus-copy\n",
      "  # Remove the CWD from sys.path while we load stuff.\n",
      "C:\\Users\\hp\\Anaconda3\\3.7\\lib\\site-packages\\ipykernel_launcher.py:11: SettingWithCopyWarning: \n",
      "A value is trying to be set on a copy of a slice from a DataFrame\n",
      "\n",
      "See the caveats in the documentation: http://pandas.pydata.org/pandas-docs/stable/indexing.html#indexing-view-versus-copy\n",
      "  # This is added back by InteractiveShellApp.init_path()\n"
     ]
    },
    {
     "data": {
      "text/plain": [
       "{'whiskers': [<matplotlib.lines.Line2D at 0x27ff7b51ef0>,\n",
       "  <matplotlib.lines.Line2D at 0x27ff7b51fd0>],\n",
       " 'caps': [<matplotlib.lines.Line2D at 0x27ff7b595c0>,\n",
       "  <matplotlib.lines.Line2D at 0x27ff7b59908>],\n",
       " 'boxes': [<matplotlib.lines.Line2D at 0x27ff7b51b00>],\n",
       " 'medians': [<matplotlib.lines.Line2D at 0x27ff7b59c50>],\n",
       " 'fliers': [<matplotlib.lines.Line2D at 0x27ff7b59f98>],\n",
       " 'means': []}"
      ]
     },
     "execution_count": 23,
     "metadata": {},
     "output_type": "execute_result"
    },
    {
     "data": {
      "image/png": "[encoded data removed]",
      "text/plain": [
       "<Figure size 432x288 with 1 Axes>"
      ]
     },
     "metadata": {
      "needs_background": "light"
     },
     "output_type": "display_data"
    }
   ],
   "source": [
    "a=a=df['rhz'].quantile([0.25,0.5,0.75])\n",
    "IQR=a[0.75]-a[0.25]\n",
    "print(IQR)\n",
    "IQR15=1.5*IQR\n",
    "IQR15\n",
    "upper_wishk=a[0.75]+IQR15\n",
    "lower_wishk=a[0.25]-IQR15\n",
    "print(upper_wishk)\n",
    "print(lower_wishk)\n",
    "df['rhz'][df['rhz'] > upper_wishk]=upper_wishk\n",
    "df['rhz'][df['rhz'] <lower_wishk]=lower_wishk\n",
    "plt.boxplot(df['rhz'])"
   ]
  },
  {
   "cell_type": "code",
   "execution_count": 24,
   "metadata": {},
   "outputs": [
    {
     "data": {
      "text/plain": [
       "{'whiskers': [<matplotlib.lines.Line2D at 0x27ff7bad748>,\n",
       "  <matplotlib.lines.Line2D at 0x27ff7bada90>],\n",
       " 'caps': [<matplotlib.lines.Line2D at 0x27ff7badb70>,\n",
       "  <matplotlib.lines.Line2D at 0x27ff7badef0>],\n",
       " 'boxes': [<matplotlib.lines.Line2D at 0x27ff7bad358>],\n",
       " 'medians': [<matplotlib.lines.Line2D at 0x27ff7bb74e0>],\n",
       " 'fliers': [<matplotlib.lines.Line2D at 0x27ff7bb7828>],\n",
       " 'means': []}"
      ]
     },
     "execution_count": 24,
     "metadata": {},
     "output_type": "execute_result"
    },
    {
     "data": {
      "image/png": "[encoded data removed]",
      "text/plain": [
       "<Figure size 432x288 with 1 Axes>"
      ]
     },
     "metadata": {
      "needs_background": "light"
     },
     "output_type": "display_data"
    }
   ],
   "source": [
    "plt.boxplot(df['hx'])"
   ]
  },
  {
   "cell_type": "code",
   "execution_count": 25,
   "metadata": {},
   "outputs": [
    {
     "name": "stdout",
     "output_type": "stream",
     "text": [
      "2.174418\n",
      "8.282671\n",
      "-0.4150010000000006\n"
     ]
    },
    {
     "name": "stderr",
     "output_type": "stream",
     "text": [
      "C:\\Users\\hp\\Anaconda3\\3.7\\lib\\site-packages\\ipykernel_launcher.py:10: SettingWithCopyWarning: \n",
      "A value is trying to be set on a copy of a slice from a DataFrame\n",
      "\n",
      "See the caveats in the documentation: http://pandas.pydata.org/pandas-docs/stable/indexing.html#indexing-view-versus-copy\n",
      "  # Remove the CWD from sys.path while we load stuff.\n",
      "C:\\Users\\hp\\Anaconda3\\3.7\\lib\\site-packages\\ipykernel_launcher.py:11: SettingWithCopyWarning: \n",
      "A value is trying to be set on a copy of a slice from a DataFrame\n",
      "\n",
      "See the caveats in the documentation: http://pandas.pydata.org/pandas-docs/stable/indexing.html#indexing-view-versus-copy\n",
      "  # This is added back by InteractiveShellApp.init_path()\n"
     ]
    },
    {
     "data": {
      "text/plain": [
       "{'whiskers': [<matplotlib.lines.Line2D at 0x27ff7c02dd8>,\n",
       "  <matplotlib.lines.Line2D at 0x27ff7c02eb8>],\n",
       " 'caps': [<matplotlib.lines.Line2D at 0x27ff7c0c4a8>,\n",
       "  <matplotlib.lines.Line2D at 0x27ff7c0c7f0>],\n",
       " 'boxes': [<matplotlib.lines.Line2D at 0x27ff7c029e8>],\n",
       " 'medians': [<matplotlib.lines.Line2D at 0x27ff7c0cb38>],\n",
       " 'fliers': [<matplotlib.lines.Line2D at 0x27ff7c0ce80>],\n",
       " 'means': []}"
      ]
     },
     "execution_count": 25,
     "metadata": {},
     "output_type": "execute_result"
    },
    {
     "data": {
      "image/png": "[encoded data removed]",
      "text/plain": [
       "<Figure size 432x288 with 1 Axes>"
      ]
     },
     "metadata": {
      "needs_background": "light"
     },
     "output_type": "display_data"
    }
   ],
   "source": [
    "a=a=df['hx'].quantile([0.25,0.5,0.75])\n",
    "IQR=a[0.75]-a[0.25]\n",
    "print(IQR)\n",
    "IQR15=1.5*IQR\n",
    "IQR15\n",
    "upper_wishk=a[0.75]+IQR15\n",
    "lower_wishk=a[0.25]-IQR15\n",
    "print(upper_wishk)\n",
    "print(lower_wishk)\n",
    "df['hx'][df['hx'] > upper_wishk]=upper_wishk\n",
    "df['hx'][df['hx'] <lower_wishk]=lower_wishk\n",
    "plt.boxplot(df['hx'])"
   ]
  },
  {
   "cell_type": "code",
   "execution_count": 26,
   "metadata": {},
   "outputs": [
    {
     "data": {
      "text/plain": [
       "{'whiskers': [<matplotlib.lines.Line2D at 0x27ff7c54ac8>,\n",
       "  <matplotlib.lines.Line2D at 0x27ff7c54e10>],\n",
       " 'caps': [<matplotlib.lines.Line2D at 0x27ff7c54ef0>,\n",
       "  <matplotlib.lines.Line2D at 0x27ff7c604e0>],\n",
       " 'boxes': [<matplotlib.lines.Line2D at 0x27ff7c546d8>],\n",
       " 'medians': [<matplotlib.lines.Line2D at 0x27ff7c60828>],\n",
       " 'fliers': [<matplotlib.lines.Line2D at 0x27ff7c60b70>],\n",
       " 'means': []}"
      ]
     },
     "execution_count": 26,
     "metadata": {},
     "output_type": "execute_result"
    },
    {
     "data": {
      "image/png": "[encoded data removed]",
      "text/plain": [
       "<Figure size 432x288 with 1 Axes>"
      ]
     },
     "metadata": {
      "needs_background": "light"
     },
     "output_type": "display_data"
    }
   ],
   "source": [
    "plt.boxplot(df['hy'])"
   ]
  },
  {
   "cell_type": "code",
   "execution_count": 27,
   "metadata": {},
   "outputs": [
    {
     "name": "stdout",
     "output_type": "stream",
     "text": [
      "0.5412399999999999\n",
      "2.666744\n",
      "0.5017840000000001\n"
     ]
    },
    {
     "name": "stderr",
     "output_type": "stream",
     "text": [
      "C:\\Users\\hp\\Anaconda3\\3.7\\lib\\site-packages\\ipykernel_launcher.py:10: SettingWithCopyWarning: \n",
      "A value is trying to be set on a copy of a slice from a DataFrame\n",
      "\n",
      "See the caveats in the documentation: http://pandas.pydata.org/pandas-docs/stable/indexing.html#indexing-view-versus-copy\n",
      "  # Remove the CWD from sys.path while we load stuff.\n",
      "C:\\Users\\hp\\Anaconda3\\3.7\\lib\\site-packages\\ipykernel_launcher.py:11: SettingWithCopyWarning: \n",
      "A value is trying to be set on a copy of a slice from a DataFrame\n",
      "\n",
      "See the caveats in the documentation: http://pandas.pydata.org/pandas-docs/stable/indexing.html#indexing-view-versus-copy\n",
      "  # This is added back by InteractiveShellApp.init_path()\n"
     ]
    },
    {
     "data": {
      "text/plain": [
       "{'whiskers': [<matplotlib.lines.Line2D at 0x27ff7cb4f28>,\n",
       "  <matplotlib.lines.Line2D at 0x27ff7cbc550>],\n",
       " 'caps': [<matplotlib.lines.Line2D at 0x27ff7cbc898>,\n",
       "  <matplotlib.lines.Line2D at 0x27ff7cbcbe0>],\n",
       " 'boxes': [<matplotlib.lines.Line2D at 0x27ff7cb4dd8>],\n",
       " 'medians': [<matplotlib.lines.Line2D at 0x27ff7cbcf28>],\n",
       " 'fliers': [<matplotlib.lines.Line2D at 0x27ff7cc62b0>],\n",
       " 'means': []}"
      ]
     },
     "execution_count": 27,
     "metadata": {},
     "output_type": "execute_result"
    },
    {
     "data": {
      "image/png": "[encoded data removed]",
      "text/plain": [
       "<Figure size 432x288 with 1 Axes>"
      ]
     },
     "metadata": {
      "needs_background": "light"
     },
     "output_type": "display_data"
    }
   ],
   "source": [
    "a=a=df['hy'].quantile([0.25,0.5,0.75])\n",
    "IQR=a[0.75]-a[0.25]\n",
    "print(IQR)\n",
    "IQR15=1.5*IQR\n",
    "IQR15\n",
    "upper_wishk=a[0.75]+IQR15\n",
    "lower_wishk=a[0.25]-IQR15\n",
    "print(upper_wishk)\n",
    "print(lower_wishk)\n",
    "df['hy'][df['hy'] > upper_wishk]=upper_wishk\n",
    "df['hy'][df['hy'] <lower_wishk]=lower_wishk\n",
    "plt.boxplot(df['hy'])"
   ]
  },
  {
   "cell_type": "code",
   "execution_count": 28,
   "metadata": {},
   "outputs": [
    {
     "data": {
      "text/plain": [
       "{'whiskers': [<matplotlib.lines.Line2D at 0x27ff7c54668>,\n",
       "  <matplotlib.lines.Line2D at 0x27ff7d18748>],\n",
       " 'caps': [<matplotlib.lines.Line2D at 0x27ff7d18a90>,\n",
       "  <matplotlib.lines.Line2D at 0x27ff7d18dd8>],\n",
       " 'boxes': [<matplotlib.lines.Line2D at 0x27ff7d0ffd0>],\n",
       " 'medians': [<matplotlib.lines.Line2D at 0x27ff7d18eb8>],\n",
       " 'fliers': [<matplotlib.lines.Line2D at 0x27ff7d204a8>],\n",
       " 'means': []}"
      ]
     },
     "execution_count": 28,
     "metadata": {},
     "output_type": "execute_result"
    },
    {
     "data": {
      "image/png": "[encoded data removed]",
      "text/plain": [
       "<Figure size 432x288 with 1 Axes>"
      ]
     },
     "metadata": {
      "needs_background": "light"
     },
     "output_type": "display_data"
    }
   ],
   "source": [
    "plt.boxplot(df['hz'])"
   ]
  },
  {
   "cell_type": "code",
   "execution_count": 29,
   "metadata": {},
   "outputs": [
    {
     "name": "stdout",
     "output_type": "stream",
     "text": [
      "0.6239999999999999\n",
      "3.33092\n",
      "0.8349200000000002\n"
     ]
    },
    {
     "name": "stderr",
     "output_type": "stream",
     "text": [
      "C:\\Users\\hp\\Anaconda3\\3.7\\lib\\site-packages\\ipykernel_launcher.py:10: SettingWithCopyWarning: \n",
      "A value is trying to be set on a copy of a slice from a DataFrame\n",
      "\n",
      "See the caveats in the documentation: http://pandas.pydata.org/pandas-docs/stable/indexing.html#indexing-view-versus-copy\n",
      "  # Remove the CWD from sys.path while we load stuff.\n",
      "C:\\Users\\hp\\Anaconda3\\3.7\\lib\\site-packages\\ipykernel_launcher.py:11: SettingWithCopyWarning: \n",
      "A value is trying to be set on a copy of a slice from a DataFrame\n",
      "\n",
      "See the caveats in the documentation: http://pandas.pydata.org/pandas-docs/stable/indexing.html#indexing-view-versus-copy\n",
      "  # This is added back by InteractiveShellApp.init_path()\n"
     ]
    },
    {
     "data": {
      "text/plain": [
       "{'whiskers': [<matplotlib.lines.Line2D at 0x27ff7d75668>,\n",
       "  <matplotlib.lines.Line2D at 0x27ff7d759b0>],\n",
       " 'caps': [<matplotlib.lines.Line2D at 0x27ff7d75cf8>,\n",
       "  <matplotlib.lines.Line2D at 0x27ff7d75dd8>],\n",
       " 'boxes': [<matplotlib.lines.Line2D at 0x27ff7d75278>],\n",
       " 'medians': [<matplotlib.lines.Line2D at 0x27ff7d7e3c8>],\n",
       " 'fliers': [<matplotlib.lines.Line2D at 0x27ff7d7e710>],\n",
       " 'means': []}"
      ]
     },
     "execution_count": 29,
     "metadata": {},
     "output_type": "execute_result"
    },
    {
     "data": {
      "image/png": "[encoded data removed]",
      "text/plain": [
       "<Figure size 432x288 with 1 Axes>"
      ]
     },
     "metadata": {
      "needs_background": "light"
     },
     "output_type": "display_data"
    }
   ],
   "source": [
    "a=a=df['hz'].quantile([0.25,0.5,0.75])\n",
    "IQR=a[0.75]-a[0.25]\n",
    "print(IQR)\n",
    "IQR15=1.5*IQR\n",
    "IQR15\n",
    "upper_wishk=a[0.75]+IQR15\n",
    "lower_wishk=a[0.25]-IQR15\n",
    "print(upper_wishk)\n",
    "print(lower_wishk)\n",
    "df['hz'][df['hz'] > upper_wishk]=upper_wishk\n",
    "df['hz'][df['hz'] <lower_wishk]=lower_wishk\n",
    "plt.boxplot(df['hz'])"
   ]
  },
  {
   "cell_type": "code",
   "execution_count": 30,
   "metadata": {},
   "outputs": [
    {
     "data": {
      "text/plain": [
       "{'whiskers': [<matplotlib.lines.Line2D at 0x27ff8d96e10>,\n",
       "  <matplotlib.lines.Line2D at 0x27ff8d96ef0>],\n",
       " 'caps': [<matplotlib.lines.Line2D at 0x27ff8da2588>,\n",
       "  <matplotlib.lines.Line2D at 0x27ff8da28d0>],\n",
       " 'boxes': [<matplotlib.lines.Line2D at 0x27ff8d96a20>],\n",
       " 'medians': [<matplotlib.lines.Line2D at 0x27ff8da2cc0>],\n",
       " 'fliers': [<matplotlib.lines.Line2D at 0x27ff8da2da0>],\n",
       " 'means': []}"
      ]
     },
     "execution_count": 30,
     "metadata": {},
     "output_type": "execute_result"
    },
    {
     "data": {
      "image/png": "[encoded data removed]",
      "text/plain": [
       "<Figure size 432x288 with 1 Axes>"
      ]
     },
     "metadata": {
      "needs_background": "light"
     },
     "output_type": "display_data"
    }
   ],
   "source": [
    "plt.boxplot(df['sx'])"
   ]
  },
  {
   "cell_type": "code",
   "execution_count": 31,
   "metadata": {},
   "outputs": [
    {
     "name": "stdout",
     "output_type": "stream",
     "text": [
      "2.409133\n",
      "8.6611285\n",
      "-0.9754035000000001\n"
     ]
    },
    {
     "name": "stderr",
     "output_type": "stream",
     "text": [
      "C:\\Users\\hp\\Anaconda3\\3.7\\lib\\site-packages\\ipykernel_launcher.py:10: SettingWithCopyWarning: \n",
      "A value is trying to be set on a copy of a slice from a DataFrame\n",
      "\n",
      "See the caveats in the documentation: http://pandas.pydata.org/pandas-docs/stable/indexing.html#indexing-view-versus-copy\n",
      "  # Remove the CWD from sys.path while we load stuff.\n",
      "C:\\Users\\hp\\Anaconda3\\3.7\\lib\\site-packages\\ipykernel_launcher.py:11: SettingWithCopyWarning: \n",
      "A value is trying to be set on a copy of a slice from a DataFrame\n",
      "\n",
      "See the caveats in the documentation: http://pandas.pydata.org/pandas-docs/stable/indexing.html#indexing-view-versus-copy\n",
      "  # This is added back by InteractiveShellApp.init_path()\n"
     ]
    },
    {
     "data": {
      "text/plain": [
       "{'whiskers': [<matplotlib.lines.Line2D at 0x27ff8dff550>,\n",
       "  <matplotlib.lines.Line2D at 0x27ff8dff898>],\n",
       " 'caps': [<matplotlib.lines.Line2D at 0x27ff8dffbe0>,\n",
       "  <matplotlib.lines.Line2D at 0x27ff8dfff28>],\n",
       " 'boxes': [<matplotlib.lines.Line2D at 0x27ff8dff160>],\n",
       " 'medians': [<matplotlib.lines.Line2D at 0x27ff8e0a2b0>],\n",
       " 'fliers': [<matplotlib.lines.Line2D at 0x27ff8e0a5f8>],\n",
       " 'means': []}"
      ]
     },
     "execution_count": 31,
     "metadata": {},
     "output_type": "execute_result"
    },
    {
     "data": {
      "image/png": "[encoded data removed]",
      "text/plain": [
       "<Figure size 432x288 with 1 Axes>"
      ]
     },
     "metadata": {
      "needs_background": "light"
     },
     "output_type": "display_data"
    }
   ],
   "source": [
    "a=a=df['sx'].quantile([0.25,0.5,0.75])\n",
    "IQR=a[0.75]-a[0.25]\n",
    "print(IQR)\n",
    "IQR15=1.5*IQR\n",
    "IQR15\n",
    "upper_wishk=a[0.75]+IQR15\n",
    "lower_wishk=a[0.25]-IQR15\n",
    "print(upper_wishk)\n",
    "print(lower_wishk)\n",
    "df['sx'][df['sx'] > upper_wishk]=upper_wishk\n",
    "df['sx'][df['sx'] <lower_wishk]=lower_wishk\n",
    "plt.boxplot(df['sx'])"
   ]
  },
  {
   "cell_type": "code",
   "execution_count": 32,
   "metadata": {},
   "outputs": [
    {
     "data": {
      "text/plain": [
       "{'whiskers': [<matplotlib.lines.Line2D at 0x27ff8e5a2e8>,\n",
       "  <matplotlib.lines.Line2D at 0x27ff8e5a630>],\n",
       " 'caps': [<matplotlib.lines.Line2D at 0x27ff8e5a978>,\n",
       "  <matplotlib.lines.Line2D at 0x27ff8e5acc0>],\n",
       " 'boxes': [<matplotlib.lines.Line2D at 0x27ff8e52eb8>],\n",
       " 'medians': [<matplotlib.lines.Line2D at 0x27ff8e5ada0>],\n",
       " 'fliers': [<matplotlib.lines.Line2D at 0x27ff8e65390>],\n",
       " 'means': []}"
      ]
     },
     "execution_count": 32,
     "metadata": {},
     "output_type": "execute_result"
    },
    {
     "data": {
      "image/png": "[encoded data removed]",
      "text/plain": [
       "<Figure size 432x288 with 1 Axes>"
      ]
     },
     "metadata": {
      "needs_background": "light"
     },
     "output_type": "display_data"
    }
   ],
   "source": [
    "plt.boxplot(df['sy'])"
   ]
  },
  {
   "cell_type": "code",
   "execution_count": 33,
   "metadata": {},
   "outputs": [
    {
     "name": "stdout",
     "output_type": "stream",
     "text": [
      "0.22489199999999965\n",
      "4.619047999999999\n",
      "3.7194800000000003\n"
     ]
    },
    {
     "name": "stderr",
     "output_type": "stream",
     "text": [
      "C:\\Users\\hp\\Anaconda3\\3.7\\lib\\site-packages\\ipykernel_launcher.py:10: SettingWithCopyWarning: \n",
      "A value is trying to be set on a copy of a slice from a DataFrame\n",
      "\n",
      "See the caveats in the documentation: http://pandas.pydata.org/pandas-docs/stable/indexing.html#indexing-view-versus-copy\n",
      "  # Remove the CWD from sys.path while we load stuff.\n",
      "C:\\Users\\hp\\Anaconda3\\3.7\\lib\\site-packages\\ipykernel_launcher.py:11: SettingWithCopyWarning: \n",
      "A value is trying to be set on a copy of a slice from a DataFrame\n",
      "\n",
      "See the caveats in the documentation: http://pandas.pydata.org/pandas-docs/stable/indexing.html#indexing-view-versus-copy\n",
      "  # This is added back by InteractiveShellApp.init_path()\n"
     ]
    },
    {
     "data": {
      "text/plain": [
       "{'whiskers': [<matplotlib.lines.Line2D at 0x27ff8eb7978>,\n",
       "  <matplotlib.lines.Line2D at 0x27ff8eb7cc0>],\n",
       " 'caps': [<matplotlib.lines.Line2D at 0x27ff8eb7da0>,\n",
       "  <matplotlib.lines.Line2D at 0x27ff8ec1390>],\n",
       " 'boxes': [<matplotlib.lines.Line2D at 0x27ff8eb7588>],\n",
       " 'medians': [<matplotlib.lines.Line2D at 0x27ff8ec16d8>],\n",
       " 'fliers': [<matplotlib.lines.Line2D at 0x27ff8ec1a20>],\n",
       " 'means': []}"
      ]
     },
     "execution_count": 33,
     "metadata": {},
     "output_type": "execute_result"
    },
    {
     "data": {
      "image/png": "[encoded data removed]",
      "text/plain": [
       "<Figure size 432x288 with 1 Axes>"
      ]
     },
     "metadata": {
      "needs_background": "light"
     },
     "output_type": "display_data"
    }
   ],
   "source": [
    "a=a=df['sy'].quantile([0.25,0.5,0.75])\n",
    "IQR=a[0.75]-a[0.25]\n",
    "print(IQR)\n",
    "IQR15=1.5*IQR\n",
    "IQR15\n",
    "upper_wishk=a[0.75]+IQR15\n",
    "lower_wishk=a[0.25]-IQR15\n",
    "print(upper_wishk)\n",
    "print(lower_wishk)\n",
    "df['sy'][df['sy'] > upper_wishk]=upper_wishk\n",
    "df['sy'][df['sy'] <lower_wishk]=lower_wishk\n",
    "plt.boxplot(df['sy'])"
   ]
  },
  {
   "cell_type": "code",
   "execution_count": 34,
   "metadata": {},
   "outputs": [
    {
     "data": {
      "text/plain": [
       "{'whiskers': [<matplotlib.lines.Line2D at 0x27ff8f0c7b8>,\n",
       "  <matplotlib.lines.Line2D at 0x27ff8f0cb00>],\n",
       " 'caps': [<matplotlib.lines.Line2D at 0x27ff8f0ce48>,\n",
       "  <matplotlib.lines.Line2D at 0x27ff8f0cf28>],\n",
       " 'boxes': [<matplotlib.lines.Line2D at 0x27ff8f0c3c8>],\n",
       " 'medians': [<matplotlib.lines.Line2D at 0x27ff8f15518>],\n",
       " 'fliers': [<matplotlib.lines.Line2D at 0x27ff8f15860>],\n",
       " 'means': []}"
      ]
     },
     "execution_count": 34,
     "metadata": {},
     "output_type": "execute_result"
    },
    {
     "data": {
      "image/png": "[encoded data removed]",
      "text/plain": [
       "<Figure size 432x288 with 1 Axes>"
      ]
     },
     "metadata": {
      "needs_background": "light"
     },
     "output_type": "display_data"
    }
   ],
   "source": [
    "plt.boxplot(df['sz'])"
   ]
  },
  {
   "cell_type": "code",
   "execution_count": 35,
   "metadata": {},
   "outputs": [
    {
     "name": "stdout",
     "output_type": "stream",
     "text": [
      "0.6650340000000001\n",
      "3.417252\n",
      "0.7571159999999996\n"
     ]
    },
    {
     "name": "stderr",
     "output_type": "stream",
     "text": [
      "C:\\Users\\hp\\Anaconda3\\3.7\\lib\\site-packages\\ipykernel_launcher.py:10: SettingWithCopyWarning: \n",
      "A value is trying to be set on a copy of a slice from a DataFrame\n",
      "\n",
      "See the caveats in the documentation: http://pandas.pydata.org/pandas-docs/stable/indexing.html#indexing-view-versus-copy\n",
      "  # Remove the CWD from sys.path while we load stuff.\n",
      "C:\\Users\\hp\\Anaconda3\\3.7\\lib\\site-packages\\ipykernel_launcher.py:11: SettingWithCopyWarning: \n",
      "A value is trying to be set on a copy of a slice from a DataFrame\n",
      "\n",
      "See the caveats in the documentation: http://pandas.pydata.org/pandas-docs/stable/indexing.html#indexing-view-versus-copy\n",
      "  # This is added back by InteractiveShellApp.init_path()\n"
     ]
    },
    {
     "data": {
      "text/plain": [
       "{'whiskers': [<matplotlib.lines.Line2D at 0x27ff8f67518>,\n",
       "  <matplotlib.lines.Line2D at 0x27ff8f67860>],\n",
       " 'caps': [<matplotlib.lines.Line2D at 0x27ff8f67ba8>,\n",
       "  <matplotlib.lines.Line2D at 0x27ff8f67ef0>],\n",
       " 'boxes': [<matplotlib.lines.Line2D at 0x27ff8f67128>],\n",
       " 'medians': [<matplotlib.lines.Line2D at 0x27ff8f67fd0>],\n",
       " 'fliers': [<matplotlib.lines.Line2D at 0x27ff8f715c0>],\n",
       " 'means': []}"
      ]
     },
     "execution_count": 35,
     "metadata": {},
     "output_type": "execute_result"
    },
    {
     "data": {
      "image/png": "[encoded data removed]",
      "text/plain": [
       "<Figure size 432x288 with 1 Axes>"
      ]
     },
     "metadata": {
      "needs_background": "light"
     },
     "output_type": "display_data"
    }
   ],
   "source": [
    "a=a=df['sz'].quantile([0.25,0.5,0.75])\n",
    "IQR=a[0.75]-a[0.25]\n",
    "print(IQR)\n",
    "IQR15=1.5*IQR\n",
    "IQR15\n",
    "upper_wishk=a[0.75]+IQR15\n",
    "lower_wishk=a[0.25]-IQR15\n",
    "print(upper_wishk)\n",
    "print(lower_wishk)\n",
    "df['sz'][df['sz'] > upper_wishk]=upper_wishk\n",
    "df['sz'][df['sz'] <lower_wishk]=lower_wishk\n",
    "plt.boxplot(df['sz'])"
   ]
  },
  {
   "cell_type": "code",
   "execution_count": 36,
   "metadata": {},
   "outputs": [
    {
     "data": {
      "text/plain": [
       "{'whiskers': [<matplotlib.lines.Line2D at 0x27ff8fb9828>,\n",
       "  <matplotlib.lines.Line2D at 0x27ff8fb9b70>],\n",
       " 'caps': [<matplotlib.lines.Line2D at 0x27ff8fb9eb8>,\n",
       "  <matplotlib.lines.Line2D at 0x27ff8fb9f98>],\n",
       " 'boxes': [<matplotlib.lines.Line2D at 0x27ff8fb9438>],\n",
       " 'medians': [<matplotlib.lines.Line2D at 0x27ff8fc4588>],\n",
       " 'fliers': [<matplotlib.lines.Line2D at 0x27ff8fc48d0>],\n",
       " 'means': []}"
      ]
     },
     "execution_count": 36,
     "metadata": {},
     "output_type": "execute_result"
    },
    {
     "data": {
      "image/png": "[encoded data removed]",
      "text/plain": [
       "<Figure size 432x288 with 1 Axes>"
      ]
     },
     "metadata": {
      "needs_background": "light"
     },
     "output_type": "display_data"
    }
   ],
   "source": [
    "plt.boxplot(df['lwx'])"
   ]
  },
  {
   "cell_type": "code",
   "execution_count": 37,
   "metadata": {},
   "outputs": [
    {
     "name": "stdout",
     "output_type": "stream",
     "text": [
      "2.3672809999999993\n",
      "8.151605499999999\n",
      "-1.317518499999999\n"
     ]
    },
    {
     "name": "stderr",
     "output_type": "stream",
     "text": [
      "C:\\Users\\hp\\Anaconda3\\3.7\\lib\\site-packages\\ipykernel_launcher.py:10: SettingWithCopyWarning: \n",
      "A value is trying to be set on a copy of a slice from a DataFrame\n",
      "\n",
      "See the caveats in the documentation: http://pandas.pydata.org/pandas-docs/stable/indexing.html#indexing-view-versus-copy\n",
      "  # Remove the CWD from sys.path while we load stuff.\n",
      "C:\\Users\\hp\\Anaconda3\\3.7\\lib\\site-packages\\ipykernel_launcher.py:11: SettingWithCopyWarning: \n",
      "A value is trying to be set on a copy of a slice from a DataFrame\n",
      "\n",
      "See the caveats in the documentation: http://pandas.pydata.org/pandas-docs/stable/indexing.html#indexing-view-versus-copy\n",
      "  # This is added back by InteractiveShellApp.init_path()\n"
     ]
    },
    {
     "data": {
      "text/plain": [
       "{'whiskers': [<matplotlib.lines.Line2D at 0x27ff9014898>,\n",
       "  <matplotlib.lines.Line2D at 0x27ff9014be0>],\n",
       " 'caps': [<matplotlib.lines.Line2D at 0x27ff9014f28>,\n",
       "  <matplotlib.lines.Line2D at 0x27ff901d2b0>],\n",
       " 'boxes': [<matplotlib.lines.Line2D at 0x27ff90144a8>],\n",
       " 'medians': [<matplotlib.lines.Line2D at 0x27ff901d5f8>],\n",
       " 'fliers': [<matplotlib.lines.Line2D at 0x27ff901d940>],\n",
       " 'means': []}"
      ]
     },
     "execution_count": 37,
     "metadata": {},
     "output_type": "execute_result"
    },
    {
     "data": {
      "image/png": "[encoded data removed]",
      "text/plain": [
       "<Figure size 432x288 with 1 Axes>"
      ]
     },
     "metadata": {
      "needs_background": "light"
     },
     "output_type": "display_data"
    }
   ],
   "source": [
    "a=a=df['lwx'].quantile([0.25,0.5,0.75])\n",
    "IQR=a[0.75]-a[0.25]\n",
    "print(IQR)\n",
    "IQR15=1.5*IQR\n",
    "IQR15\n",
    "upper_wishk=a[0.75]+IQR15\n",
    "lower_wishk=a[0.25]-IQR15\n",
    "print(upper_wishk)\n",
    "print(lower_wishk)\n",
    "df['lwx'][df['lwx'] > upper_wishk]=upper_wishk\n",
    "df['lwx'][df['lwx'] <lower_wishk]=lower_wishk\n",
    "plt.boxplot(df['lwx'])"
   ]
  },
  {
   "cell_type": "code",
   "execution_count": 38,
   "metadata": {},
   "outputs": [
    {
     "data": {
      "text/plain": [
       "{'whiskers': [<matplotlib.lines.Line2D at 0x27ff9068eb8>,\n",
       "  <matplotlib.lines.Line2D at 0x27ff9068f98>],\n",
       " 'caps': [<matplotlib.lines.Line2D at 0x27ff90725c0>,\n",
       "  <matplotlib.lines.Line2D at 0x27ff9072908>],\n",
       " 'boxes': [<matplotlib.lines.Line2D at 0x27ff9068ac8>],\n",
       " 'medians': [<matplotlib.lines.Line2D at 0x27ff9072c50>],\n",
       " 'fliers': [<matplotlib.lines.Line2D at 0x27ff9072f98>],\n",
       " 'means': []}"
      ]
     },
     "execution_count": 38,
     "metadata": {},
     "output_type": "execute_result"
    },
    {
     "data": {
      "image/png": "[encoded data removed]",
      "text/plain": [
       "<Figure size 432x288 with 1 Axes>"
      ]
     },
     "metadata": {
      "needs_background": "light"
     },
     "output_type": "display_data"
    }
   ],
   "source": [
    "plt.boxplot(df['lwy'])"
   ]
  },
  {
   "cell_type": "code",
   "execution_count": 39,
   "metadata": {},
   "outputs": [
    {
     "name": "stdout",
     "output_type": "stream",
     "text": [
      "1.1623989999999997\n",
      "6.734408499999999\n",
      "2.0848125000000004\n"
     ]
    },
    {
     "name": "stderr",
     "output_type": "stream",
     "text": [
      "C:\\Users\\hp\\Anaconda3\\3.7\\lib\\site-packages\\ipykernel_launcher.py:10: SettingWithCopyWarning: \n",
      "A value is trying to be set on a copy of a slice from a DataFrame\n",
      "\n",
      "See the caveats in the documentation: http://pandas.pydata.org/pandas-docs/stable/indexing.html#indexing-view-versus-copy\n",
      "  # Remove the CWD from sys.path while we load stuff.\n",
      "C:\\Users\\hp\\Anaconda3\\3.7\\lib\\site-packages\\ipykernel_launcher.py:11: SettingWithCopyWarning: \n",
      "A value is trying to be set on a copy of a slice from a DataFrame\n",
      "\n",
      "See the caveats in the documentation: http://pandas.pydata.org/pandas-docs/stable/indexing.html#indexing-view-versus-copy\n",
      "  # This is added back by InteractiveShellApp.init_path()\n"
     ]
    },
    {
     "data": {
      "text/plain": [
       "{'whiskers': [<matplotlib.lines.Line2D at 0x27ff90c65c0>,\n",
       "  <matplotlib.lines.Line2D at 0x27ff90c6908>],\n",
       " 'caps': [<matplotlib.lines.Line2D at 0x27ff90c6c50>,\n",
       "  <matplotlib.lines.Line2D at 0x27ff90c6f98>],\n",
       " 'boxes': [<matplotlib.lines.Line2D at 0x27ff90c61d0>],\n",
       " 'medians': [<matplotlib.lines.Line2D at 0x27ff90d0320>],\n",
       " 'fliers': [<matplotlib.lines.Line2D at 0x27ff90d0668>],\n",
       " 'means': []}"
      ]
     },
     "execution_count": 39,
     "metadata": {},
     "output_type": "execute_result"
    },
    {
     "data": {
      "image/png": "[encoded data removed]",
      "text/plain": [
       "<Figure size 432x288 with 1 Axes>"
      ]
     },
     "metadata": {
      "needs_background": "light"
     },
     "output_type": "display_data"
    }
   ],
   "source": [
    "a=a=df['lwy'].quantile([0.25,0.5,0.75])\n",
    "IQR=a[0.75]-a[0.25]\n",
    "print(IQR)\n",
    "IQR15=1.5*IQR\n",
    "IQR15\n",
    "upper_wishk=a[0.75]+IQR15\n",
    "lower_wishk=a[0.25]-IQR15\n",
    "print(upper_wishk)\n",
    "print(lower_wishk)\n",
    "df['lwy'][df['lwy'] > upper_wishk]=upper_wishk\n",
    "df['lwy'][df['lwy'] <lower_wishk]=lower_wishk\n",
    "plt.boxplot(df['lwy'])"
   ]
  },
  {
   "cell_type": "code",
   "execution_count": 40,
   "metadata": {},
   "outputs": [
    {
     "data": {
      "text/plain": [
       "{'whiskers': [<matplotlib.lines.Line2D at 0x27ff9119f98>,\n",
       "  <matplotlib.lines.Line2D at 0x27ff91225c0>],\n",
       " 'caps': [<matplotlib.lines.Line2D at 0x27ff91229b0>,\n",
       "  <matplotlib.lines.Line2D at 0x27ff9122cc0>],\n",
       " 'boxes': [<matplotlib.lines.Line2D at 0x27ff9119e48>],\n",
       " 'medians': [<matplotlib.lines.Line2D at 0x27ff9122da0>],\n",
       " 'fliers': [<matplotlib.lines.Line2D at 0x27ff912c390>],\n",
       " 'means': []}"
      ]
     },
     "execution_count": 40,
     "metadata": {},
     "output_type": "execute_result"
    },
    {
     "data": {
      "image/png": "[encoded data removed]",
      "text/plain": [
       "<Figure size 432x288 with 1 Axes>"
      ]
     },
     "metadata": {
      "needs_background": "light"
     },
     "output_type": "display_data"
    }
   ],
   "source": [
    "plt.boxplot(df['lwz'])"
   ]
  },
  {
   "cell_type": "code",
   "execution_count": 41,
   "metadata": {},
   "outputs": [
    {
     "name": "stdout",
     "output_type": "stream",
     "text": [
      "0.6653400000000003\n",
      "3.2303280000000005\n",
      "0.5689679999999996\n"
     ]
    },
    {
     "name": "stderr",
     "output_type": "stream",
     "text": [
      "C:\\Users\\hp\\Anaconda3\\3.7\\lib\\site-packages\\ipykernel_launcher.py:10: SettingWithCopyWarning: \n",
      "A value is trying to be set on a copy of a slice from a DataFrame\n",
      "\n",
      "See the caveats in the documentation: http://pandas.pydata.org/pandas-docs/stable/indexing.html#indexing-view-versus-copy\n",
      "  # Remove the CWD from sys.path while we load stuff.\n",
      "C:\\Users\\hp\\Anaconda3\\3.7\\lib\\site-packages\\ipykernel_launcher.py:11: SettingWithCopyWarning: \n",
      "A value is trying to be set on a copy of a slice from a DataFrame\n",
      "\n",
      "See the caveats in the documentation: http://pandas.pydata.org/pandas-docs/stable/indexing.html#indexing-view-versus-copy\n",
      "  # This is added back by InteractiveShellApp.init_path()\n"
     ]
    },
    {
     "data": {
      "text/plain": [
       "{'whiskers': [<matplotlib.lines.Line2D at 0x27ff91819e8>,\n",
       "  <matplotlib.lines.Line2D at 0x27ff9181d30>],\n",
       " 'caps': [<matplotlib.lines.Line2D at 0x27ff9181e10>,\n",
       "  <matplotlib.lines.Line2D at 0x27ff9188400>],\n",
       " 'boxes': [<matplotlib.lines.Line2D at 0x27ff91815f8>],\n",
       " 'medians': [<matplotlib.lines.Line2D at 0x27ff9188748>],\n",
       " 'fliers': [<matplotlib.lines.Line2D at 0x27ff9188a90>],\n",
       " 'means': []}"
      ]
     },
     "execution_count": 41,
     "metadata": {},
     "output_type": "execute_result"
    },
    {
     "data": {
      "image/png": "[encoded data removed]",
      "text/plain": [
       "<Figure size 432x288 with 1 Axes>"
      ]
     },
     "metadata": {
      "needs_background": "light"
     },
     "output_type": "display_data"
    }
   ],
   "source": [
    "a=a=df['lwz'].quantile([0.25,0.5,0.75])\n",
    "IQR=a[0.75]-a[0.25]\n",
    "print(IQR)\n",
    "IQR15=1.5*IQR\n",
    "IQR15\n",
    "upper_wishk=a[0.75]+IQR15\n",
    "lower_wishk=a[0.25]-IQR15\n",
    "print(upper_wishk)\n",
    "print(lower_wishk)\n",
    "df['lwz'][df['lwz'] > upper_wishk]=upper_wishk\n",
    "df['lwz'][df['lwz'] <lower_wishk]=lower_wishk\n",
    "plt.boxplot(df['lwz'])"
   ]
  },
  {
   "cell_type": "code",
   "execution_count": 42,
   "metadata": {},
   "outputs": [
    {
     "data": {
      "text/plain": [
       "{'whiskers': [<matplotlib.lines.Line2D at 0x27ff91dd6d8>,\n",
       "  <matplotlib.lines.Line2D at 0x27ff91dda20>],\n",
       " 'caps': [<matplotlib.lines.Line2D at 0x27ff91ddd68>,\n",
       "  <matplotlib.lines.Line2D at 0x27ff91dde48>],\n",
       " 'boxes': [<matplotlib.lines.Line2D at 0x27ff91dd2e8>],\n",
       " 'medians': [<matplotlib.lines.Line2D at 0x27ff91e6438>],\n",
       " 'fliers': [<matplotlib.lines.Line2D at 0x27ff91e6780>],\n",
       " 'means': []}"
      ]
     },
     "execution_count": 42,
     "metadata": {},
     "output_type": "execute_result"
    },
    {
     "data": {
      "image/png": "[encoded data removed]",
      "text/plain": [
       "<Figure size 432x288 with 1 Axes>"
      ]
     },
     "metadata": {
      "needs_background": "light"
     },
     "output_type": "display_data"
    }
   ],
   "source": [
    "plt.boxplot(df['rwx'])"
   ]
  },
  {
   "cell_type": "code",
   "execution_count": 43,
   "metadata": {},
   "outputs": [
    {
     "name": "stdout",
     "output_type": "stream",
     "text": [
      "1.4309200000000004\n",
      "7.655492000000001\n",
      "1.931811999999999\n"
     ]
    },
    {
     "name": "stderr",
     "output_type": "stream",
     "text": [
      "C:\\Users\\hp\\Anaconda3\\3.7\\lib\\site-packages\\ipykernel_launcher.py:10: SettingWithCopyWarning: \n",
      "A value is trying to be set on a copy of a slice from a DataFrame\n",
      "\n",
      "See the caveats in the documentation: http://pandas.pydata.org/pandas-docs/stable/indexing.html#indexing-view-versus-copy\n",
      "  # Remove the CWD from sys.path while we load stuff.\n",
      "C:\\Users\\hp\\Anaconda3\\3.7\\lib\\site-packages\\ipykernel_launcher.py:11: SettingWithCopyWarning: \n",
      "A value is trying to be set on a copy of a slice from a DataFrame\n",
      "\n",
      "See the caveats in the documentation: http://pandas.pydata.org/pandas-docs/stable/indexing.html#indexing-view-versus-copy\n",
      "  # This is added back by InteractiveShellApp.init_path()\n"
     ]
    },
    {
     "data": {
      "text/plain": [
       "{'whiskers': [<matplotlib.lines.Line2D at 0x27ff923a748>,\n",
       "  <matplotlib.lines.Line2D at 0x27ff923aa90>],\n",
       " 'caps': [<matplotlib.lines.Line2D at 0x27ff923add8>,\n",
       "  <matplotlib.lines.Line2D at 0x27ff923aeb8>],\n",
       " 'boxes': [<matplotlib.lines.Line2D at 0x27ff923a358>],\n",
       " 'medians': [<matplotlib.lines.Line2D at 0x27ff92444a8>],\n",
       " 'fliers': [<matplotlib.lines.Line2D at 0x27ff92447f0>],\n",
       " 'means': []}"
      ]
     },
     "execution_count": 43,
     "metadata": {},
     "output_type": "execute_result"
    },
    {
     "data": {
      "image/png": "[encoded data removed]",
      "text/plain": [
       "<Figure size 432x288 with 1 Axes>"
      ]
     },
     "metadata": {
      "needs_background": "light"
     },
     "output_type": "display_data"
    }
   ],
   "source": [
    "a=a=df['rwx'].quantile([0.25,0.5,0.75])\n",
    "IQR=a[0.75]-a[0.25]\n",
    "print(IQR)\n",
    "IQR15=1.5*IQR\n",
    "IQR15\n",
    "upper_wishk=a[0.75]+IQR15\n",
    "lower_wishk=a[0.25]-IQR15\n",
    "print(upper_wishk)\n",
    "print(lower_wishk)\n",
    "df['rwx'][df['rwx'] > upper_wishk]=upper_wishk\n",
    "df['rwx'][df['rwx'] <lower_wishk]=lower_wishk\n",
    "plt.boxplot(df['rwx'])"
   ]
  },
  {
   "cell_type": "code",
   "execution_count": 44,
   "metadata": {},
   "outputs": [
    {
     "data": {
      "text/plain": [
       "{'whiskers': [<matplotlib.lines.Line2D at 0x27ff928d898>,\n",
       "  <matplotlib.lines.Line2D at 0x27ff928dbe0>],\n",
       " 'caps': [<matplotlib.lines.Line2D at 0x27ff928df28>,\n",
       "  <matplotlib.lines.Line2D at 0x27ff92982b0>],\n",
       " 'boxes': [<matplotlib.lines.Line2D at 0x27ff928d4a8>],\n",
       " 'medians': [<matplotlib.lines.Line2D at 0x27ff92985f8>],\n",
       " 'fliers': [<matplotlib.lines.Line2D at 0x27ff9298940>],\n",
       " 'means': []}"
      ]
     },
     "execution_count": 44,
     "metadata": {},
     "output_type": "execute_result"
    },
    {
     "data": {
      "image/png": "[encoded data removed]",
      "text/plain": [
       "<Figure size 432x288 with 1 Axes>"
      ]
     },
     "metadata": {
      "needs_background": "light"
     },
     "output_type": "display_data"
    }
   ],
   "source": [
    "plt.boxplot(df['rwy'])"
   ]
  },
  {
   "cell_type": "code",
   "execution_count": 45,
   "metadata": {},
   "outputs": [
    {
     "name": "stdout",
     "output_type": "stream",
     "text": [
      "1.3780580000000002\n",
      "6.961676000000001\n",
      "1.4494439999999993\n"
     ]
    },
    {
     "name": "stderr",
     "output_type": "stream",
     "text": [
      "C:\\Users\\hp\\Anaconda3\\3.7\\lib\\site-packages\\ipykernel_launcher.py:10: SettingWithCopyWarning: \n",
      "A value is trying to be set on a copy of a slice from a DataFrame\n",
      "\n",
      "See the caveats in the documentation: http://pandas.pydata.org/pandas-docs/stable/indexing.html#indexing-view-versus-copy\n",
      "  # Remove the CWD from sys.path while we load stuff.\n",
      "C:\\Users\\hp\\Anaconda3\\3.7\\lib\\site-packages\\ipykernel_launcher.py:11: SettingWithCopyWarning: \n",
      "A value is trying to be set on a copy of a slice from a DataFrame\n",
      "\n",
      "See the caveats in the documentation: http://pandas.pydata.org/pandas-docs/stable/indexing.html#indexing-view-versus-copy\n",
      "  # This is added back by InteractiveShellApp.init_path()\n"
     ]
    },
    {
     "data": {
      "text/plain": [
       "{'whiskers': [<matplotlib.lines.Line2D at 0x27ff92ed470>,\n",
       "  <matplotlib.lines.Line2D at 0x27ff92ed7b8>],\n",
       " 'caps': [<matplotlib.lines.Line2D at 0x27ff92edb00>,\n",
       "  <matplotlib.lines.Line2D at 0x27ff92ede48>],\n",
       " 'boxes': [<matplotlib.lines.Line2D at 0x27ff92ed080>],\n",
       " 'medians': [<matplotlib.lines.Line2D at 0x27ff92edf28>],\n",
       " 'fliers': [<matplotlib.lines.Line2D at 0x27ff92f4518>],\n",
       " 'means': []}"
      ]
     },
     "execution_count": 45,
     "metadata": {},
     "output_type": "execute_result"
    },
    {
     "data": {
      "image/png": "[encoded data removed]",
      "text/plain": [
       "<Figure size 432x288 with 1 Axes>"
      ]
     },
     "metadata": {
      "needs_background": "light"
     },
     "output_type": "display_data"
    }
   ],
   "source": [
    "a=a=df['rwy'].quantile([0.25,0.5,0.75])\n",
    "IQR=a[0.75]-a[0.25]\n",
    "print(IQR)\n",
    "IQR15=1.5*IQR\n",
    "IQR15\n",
    "upper_wishk=a[0.75]+IQR15\n",
    "lower_wishk=a[0.25]-IQR15\n",
    "print(upper_wishk)\n",
    "print(lower_wishk)\n",
    "df['rwy'][df['rwy'] > upper_wishk]=upper_wishk\n",
    "df['rwy'][df['rwy'] <lower_wishk]=lower_wishk\n",
    "plt.boxplot(df['rwy'])"
   ]
  },
  {
   "cell_type": "code",
   "execution_count": 46,
   "metadata": {},
   "outputs": [
    {
     "data": {
      "text/plain": [
       "{'whiskers': [<matplotlib.lines.Line2D at 0x27ff9334e48>,\n",
       "  <matplotlib.lines.Line2D at 0x27ff933f470>],\n",
       " 'caps': [<matplotlib.lines.Line2D at 0x27ff933f7b8>,\n",
       "  <matplotlib.lines.Line2D at 0x27ff933fb00>],\n",
       " 'boxes': [<matplotlib.lines.Line2D at 0x27ff9334cf8>],\n",
       " 'medians': [<matplotlib.lines.Line2D at 0x27ff933fe48>],\n",
       " 'fliers': [<matplotlib.lines.Line2D at 0x27ff933ff28>],\n",
       " 'means': []}"
      ]
     },
     "execution_count": 46,
     "metadata": {},
     "output_type": "execute_result"
    },
    {
     "data": {
      "image/png": "[encoded data removed]",
      "text/plain": [
       "<Figure size 432x288 with 1 Axes>"
      ]
     },
     "metadata": {
      "needs_background": "light"
     },
     "output_type": "display_data"
    }
   ],
   "source": [
    "plt.boxplot(df['rwz'])"
   ]
  },
  {
   "cell_type": "code",
   "execution_count": 47,
   "metadata": {},
   "outputs": [
    {
     "name": "stdout",
     "output_type": "stream",
     "text": [
      "0.6696820000000001\n",
      "3.2326660000000005\n",
      "0.5539379999999998\n"
     ]
    },
    {
     "name": "stderr",
     "output_type": "stream",
     "text": [
      "C:\\Users\\hp\\Anaconda3\\3.7\\lib\\site-packages\\ipykernel_launcher.py:10: SettingWithCopyWarning: \n",
      "A value is trying to be set on a copy of a slice from a DataFrame\n",
      "\n",
      "See the caveats in the documentation: http://pandas.pydata.org/pandas-docs/stable/indexing.html#indexing-view-versus-copy\n",
      "  # Remove the CWD from sys.path while we load stuff.\n",
      "C:\\Users\\hp\\Anaconda3\\3.7\\lib\\site-packages\\ipykernel_launcher.py:11: SettingWithCopyWarning: \n",
      "A value is trying to be set on a copy of a slice from a DataFrame\n",
      "\n",
      "See the caveats in the documentation: http://pandas.pydata.org/pandas-docs/stable/indexing.html#indexing-view-versus-copy\n",
      "  # This is added back by InteractiveShellApp.init_path()\n"
     ]
    },
    {
     "data": {
      "text/plain": [
       "{'whiskers': [<matplotlib.lines.Line2D at 0x27ff939bd30>,\n",
       "  <matplotlib.lines.Line2D at 0x27ff939be10>],\n",
       " 'caps': [<matplotlib.lines.Line2D at 0x27ff93a6400>,\n",
       "  <matplotlib.lines.Line2D at 0x27ff93a6748>],\n",
       " 'boxes': [<matplotlib.lines.Line2D at 0x27ff939b940>],\n",
       " 'medians': [<matplotlib.lines.Line2D at 0x27ff93a6a90>],\n",
       " 'fliers': [<matplotlib.lines.Line2D at 0x27ff93a6dd8>],\n",
       " 'means': []}"
      ]
     },
     "execution_count": 47,
     "metadata": {},
     "output_type": "execute_result"
    },
    {
     "data": {
      "image/png": "[encoded data removed]",
      "text/plain": [
       "<Figure size 432x288 with 1 Axes>"
      ]
     },
     "metadata": {
      "needs_background": "light"
     },
     "output_type": "display_data"
    }
   ],
   "source": [
    "a=a=df['rwz'].quantile([0.25,0.5,0.75])\n",
    "IQR=a[0.75]-a[0.25]\n",
    "print(IQR)\n",
    "IQR15=1.5*IQR\n",
    "IQR15\n",
    "upper_wishk=a[0.75]+IQR15\n",
    "lower_wishk=a[0.25]-IQR15\n",
    "print(upper_wishk)\n",
    "print(lower_wishk)\n",
    "df['rwz'][df['rwz'] > upper_wishk]=upper_wishk\n",
    "df['rwz'][df['rwz'] <lower_wishk]=lower_wishk\n",
    "plt.boxplot(df['rwz'])"
   ]
  },
  {
   "cell_type": "code",
   "execution_count": 48,
   "metadata": {},
   "outputs": [
    {
     "data": {
      "text/plain": [
       "{'whiskers': [<matplotlib.lines.Line2D at 0x27ff93f7eb8>,\n",
       "  <matplotlib.lines.Line2D at 0x27ff93f7f98>],\n",
       " 'caps': [<matplotlib.lines.Line2D at 0x27ff93856d8>,\n",
       "  <matplotlib.lines.Line2D at 0x27ff94048d0>],\n",
       " 'boxes': [<matplotlib.lines.Line2D at 0x27ff93f7ac8>],\n",
       " 'medians': [<matplotlib.lines.Line2D at 0x27ff9404c18>],\n",
       " 'fliers': [<matplotlib.lines.Line2D at 0x27ff9404f60>],\n",
       " 'means': []}"
      ]
     },
     "execution_count": 48,
     "metadata": {},
     "output_type": "execute_result"
    },
    {
     "data": {
      "image/png": "[encoded data removed]",
      "text/plain": [
       "<Figure size 432x288 with 1 Axes>"
      ]
     },
     "metadata": {
      "needs_background": "light"
     },
     "output_type": "display_data"
    }
   ],
   "source": [
    "plt.boxplot(df['timestamp'])"
   ]
  },
  {
   "cell_type": "code",
   "execution_count": 49,
   "metadata": {},
   "outputs": [
    {
     "name": "stdout",
     "output_type": "stream",
     "text": [
      "2603020.0\n",
      "9312862.0\n",
      "-1099218.0\n"
     ]
    },
    {
     "name": "stderr",
     "output_type": "stream",
     "text": [
      "C:\\Users\\hp\\Anaconda3\\3.7\\lib\\site-packages\\ipykernel_launcher.py:10: SettingWithCopyWarning: \n",
      "A value is trying to be set on a copy of a slice from a DataFrame\n",
      "\n",
      "See the caveats in the documentation: http://pandas.pydata.org/pandas-docs/stable/indexing.html#indexing-view-versus-copy\n",
      "  # Remove the CWD from sys.path while we load stuff.\n",
      "C:\\Users\\hp\\Anaconda3\\3.7\\lib\\site-packages\\ipykernel_launcher.py:11: SettingWithCopyWarning: \n",
      "A value is trying to be set on a copy of a slice from a DataFrame\n",
      "\n",
      "See the caveats in the documentation: http://pandas.pydata.org/pandas-docs/stable/indexing.html#indexing-view-versus-copy\n",
      "  # This is added back by InteractiveShellApp.init_path()\n"
     ]
    },
    {
     "data": {
      "text/plain": [
       "{'whiskers': [<matplotlib.lines.Line2D at 0x27ff9458fd0>,\n",
       "  <matplotlib.lines.Line2D at 0x27ff9463358>],\n",
       " 'caps': [<matplotlib.lines.Line2D at 0x27ff94636a0>,\n",
       "  <matplotlib.lines.Line2D at 0x27ff94639e8>],\n",
       " 'boxes': [<matplotlib.lines.Line2D at 0x27ff9458be0>],\n",
       " 'medians': [<matplotlib.lines.Line2D at 0x27ff9463d30>],\n",
       " 'fliers': [<matplotlib.lines.Line2D at 0x27ff9463e10>],\n",
       " 'means': []}"
      ]
     },
     "execution_count": 49,
     "metadata": {},
     "output_type": "execute_result"
    },
    {
     "data": {
      "image/png": "[encoded data removed]",
      "text/plain": [
       "<Figure size 432x288 with 1 Axes>"
      ]
     },
     "metadata": {
      "needs_background": "light"
     },
     "output_type": "display_data"
    }
   ],
   "source": [
    "a=a=df['timestamp'].quantile([0.25,0.5,0.75])\n",
    "IQR=a[0.75]-a[0.25]\n",
    "print(IQR)\n",
    "IQR15=1.5*IQR\n",
    "IQR15\n",
    "upper_wishk=a[0.75]+IQR15\n",
    "lower_wishk=a[0.25]-IQR15\n",
    "print(upper_wishk)\n",
    "print(lower_wishk)\n",
    "df['timestamp'][df['timestamp'] > upper_wishk]=upper_wishk\n",
    "df['timestamp'][df['timestamp'] <lower_wishk]=lower_wishk\n",
    "plt.boxplot(df['timestamp'])"
   ]
  },
  {
   "cell_type": "code",
   "execution_count": 50,
   "metadata": {},
   "outputs": [],
   "source": [
    "y=df.phase"
   ]
  },
  {
   "cell_type": "code",
   "execution_count": 51,
   "metadata": {},
   "outputs": [
    {
     "data": {
      "text/plain": [
       "(9901,)"
      ]
     },
     "execution_count": 51,
     "metadata": {},
     "output_type": "execute_result"
    }
   ],
   "source": [
    "y.shape"
   ]
  },
  {
   "cell_type": "code",
   "execution_count": 52,
   "metadata": {},
   "outputs": [],
   "source": [
    "x=df.drop(['phase'],axis=1)"
   ]
  },
  {
   "cell_type": "code",
   "execution_count": 53,
   "metadata": {},
   "outputs": [
    {
     "data": {
      "text/plain": [
       "(9901, 19)"
      ]
     },
     "execution_count": 53,
     "metadata": {},
     "output_type": "execute_result"
    }
   ],
   "source": [
    "x.shape"
   ]
  },
  {
   "cell_type": "code",
   "execution_count": 54,
   "metadata": {},
   "outputs": [
    {
     "name": "stderr",
     "output_type": "stream",
     "text": [
      "C:\\Users\\hp\\Anaconda3\\3.7\\lib\\site-packages\\sklearn\\preprocessing\\data.py:645: DataConversionWarning: Data with input dtype int64, float64 were all converted to float64 by StandardScaler.\n",
      "  return self.partial_fit(X, y)\n",
      "C:\\Users\\hp\\Anaconda3\\3.7\\lib\\site-packages\\sklearn\\base.py:464: DataConversionWarning: Data with input dtype int64, float64 were all converted to float64 by StandardScaler.\n",
      "  return self.fit(X, **fit_params).transform(X)\n"
     ]
    },
    {
     "data": {
      "text/plain": [
       "array([[ 1.16938061, -0.07348339, -1.18483721, ...,  0.35968774,\n",
       "        -1.0705504 ,  1.11404526],\n",
       "       [ 0.81865944, -0.20835151, -1.02402933, ...,  0.29032185,\n",
       "        -1.02374331,  1.11407135],\n",
       "       [ 1.17672955, -0.07304233, -1.18763697, ...,  0.42994424,\n",
       "        -1.01547988,  1.11409662],\n",
       "       ...,\n",
       "       [ 0.07153285,  0.96736822, -0.28659378, ...,  1.10800756,\n",
       "        -0.26311732,  0.89458962],\n",
       "       [ 0.07162753,  0.96780681, -0.28665013, ...,  1.11349153,\n",
       "        -0.26468792,  0.89461244],\n",
       "       [ 0.07161726,  0.96789675, -0.28648998, ...,  1.11390202,\n",
       "        -0.26381283,  0.89463934]])"
      ]
     },
     "execution_count": 54,
     "metadata": {},
     "output_type": "execute_result"
    }
   ],
   "source": [
    "from sklearn.preprocessing import StandardScaler\n",
    "sc=StandardScaler()\n",
    "x=sc.fit_transform(x)\n",
    "x"
   ]
  },
  {
   "cell_type": "code",
   "execution_count": 55,
   "metadata": {},
   "outputs": [],
   "source": [
    "from sklearn.model_selection import train_test_split"
   ]
  },
  {
   "cell_type": "code",
   "execution_count": 56,
   "metadata": {},
   "outputs": [],
   "source": [
    "x_train,x_test,y_train,y_test=train_test_split(x,y,test_size=0.30,random_state=1234)"
   ]
  },
  {
   "cell_type": "code",
   "execution_count": 57,
   "metadata": {},
   "outputs": [],
   "source": [
    "from sklearn.linear_model import LogisticRegression"
   ]
  },
  {
   "cell_type": "code",
   "execution_count": 58,
   "metadata": {},
   "outputs": [],
   "source": [
    "lr=LogisticRegression()"
   ]
  },
  {
   "cell_type": "code",
   "execution_count": 59,
   "metadata": {},
   "outputs": [
    {
     "name": "stderr",
     "output_type": "stream",
     "text": [
      "C:\\Users\\hp\\Anaconda3\\3.7\\lib\\site-packages\\sklearn\\linear_model\\logistic.py:433: FutureWarning: Default solver will be changed to 'lbfgs' in 0.22. Specify a solver to silence this warning.\n",
      "  FutureWarning)\n",
      "C:\\Users\\hp\\Anaconda3\\3.7\\lib\\site-packages\\sklearn\\linear_model\\logistic.py:460: FutureWarning: Default multi_class will be changed to 'auto' in 0.22. Specify the multi_class option to silence this warning.\n",
      "  \"this warning.\", FutureWarning)\n"
     ]
    },
    {
     "data": {
      "text/plain": [
       "LogisticRegression(C=1.0, class_weight=None, dual=False, fit_intercept=True,\n",
       "          intercept_scaling=1, max_iter=100, multi_class='warn',\n",
       "          n_jobs=None, penalty='l2', random_state=None, solver='warn',\n",
       "          tol=0.0001, verbose=0, warm_start=False)"
      ]
     },
     "execution_count": 59,
     "metadata": {},
     "output_type": "execute_result"
    }
   ],
   "source": [
    "lr.fit(x_train,y_train)"
   ]
  },
  {
   "cell_type": "code",
   "execution_count": 60,
   "metadata": {},
   "outputs": [],
   "source": [
    "lr_pred=lr.predict(x_train)"
   ]
  },
  {
   "cell_type": "code",
   "execution_count": 61,
   "metadata": {},
   "outputs": [],
   "source": [
    "from sklearn.metrics import confusion_matrix,classification_report"
   ]
  },
  {
   "cell_type": "code",
   "execution_count": 62,
   "metadata": {},
   "outputs": [
    {
     "data": {
      "text/plain": [
       "0.5866074133925866"
      ]
     },
     "execution_count": 62,
     "metadata": {},
     "output_type": "execute_result"
    }
   ],
   "source": [
    "lr.score(x,y)"
   ]
  },
  {
   "cell_type": "code",
   "execution_count": 63,
   "metadata": {},
   "outputs": [
    {
     "name": "stdout",
     "output_type": "stream",
     "text": [
      "[[  45  317    0   32    0  315]\n",
      " [  21  532    0  386    5  512]\n",
      " [   0    0    0    0    0    1]\n",
      " [   0   77    0 1791    0   37]\n",
      " [  11  178    0  243   18  314]\n",
      " [  37  326    0   90   16 1626]]\n"
     ]
    }
   ],
   "source": [
    "print(confusion_matrix(y_train,lr_pred))"
   ]
  },
  {
   "cell_type": "code",
   "execution_count": 64,
   "metadata": {},
   "outputs": [
    {
     "name": "stdout",
     "output_type": "stream",
     "text": [
      "              precision    recall  f1-score   support\n",
      "\n",
      "           0       0.39      0.06      0.11       709\n",
      "           1       0.37      0.37      0.37      1456\n",
      "           2       0.00      0.00      0.00         1\n",
      "           3       0.70      0.94      0.81      1905\n",
      "           4       0.46      0.02      0.04       764\n",
      "           5       0.58      0.78      0.66      2095\n",
      "\n",
      "   micro avg       0.58      0.58      0.58      6930\n",
      "   macro avg       0.42      0.36      0.33      6930\n",
      "weighted avg       0.54      0.58      0.52      6930\n",
      "\n"
     ]
    },
    {
     "name": "stderr",
     "output_type": "stream",
     "text": [
      "C:\\Users\\hp\\Anaconda3\\3.7\\lib\\site-packages\\sklearn\\metrics\\classification.py:1143: UndefinedMetricWarning: Precision and F-score are ill-defined and being set to 0.0 in labels with no predicted samples.\n",
      "  'precision', 'predicted', average, warn_for)\n"
     ]
    }
   ],
   "source": [
    "print(classification_report(y_train,lr_pred))"
   ]
  },
  {
   "cell_type": "code",
   "execution_count": 65,
   "metadata": {},
   "outputs": [],
   "source": [
    "lr_test_pred=lr.predict(x_test)"
   ]
  },
  {
   "cell_type": "code",
   "execution_count": 66,
   "metadata": {},
   "outputs": [
    {
     "name": "stdout",
     "output_type": "stream",
     "text": [
      "[[ 22 141  12   0 114]\n",
      " [  3 274 148   2 213]\n",
      " [  0  35 816   0  13]\n",
      " [  1  70 116   6 130]\n",
      " [  8 132  32   5 678]]\n"
     ]
    }
   ],
   "source": [
    "print(confusion_matrix(y_test,lr_test_pred))"
   ]
  },
  {
   "cell_type": "code",
   "execution_count": 67,
   "metadata": {},
   "outputs": [
    {
     "name": "stdout",
     "output_type": "stream",
     "text": [
      "              precision    recall  f1-score   support\n",
      "\n",
      "           0       0.65      0.08      0.14       289\n",
      "           1       0.42      0.43      0.42       640\n",
      "           3       0.73      0.94      0.82       864\n",
      "           4       0.46      0.02      0.04       323\n",
      "           5       0.59      0.79      0.68       855\n",
      "\n",
      "   micro avg       0.60      0.60      0.60      2971\n",
      "   macro avg       0.57      0.45      0.42      2971\n",
      "weighted avg       0.58      0.60      0.54      2971\n",
      "\n"
     ]
    }
   ],
   "source": [
    "print(classification_report(y_test,lr_test_pred))"
   ]
  },
  {
   "cell_type": "code",
   "execution_count": 68,
   "metadata": {},
   "outputs": [
    {
     "data": {
      "text/plain": [
       "0.578932178932179"
      ]
     },
     "execution_count": 68,
     "metadata": {},
     "output_type": "execute_result"
    }
   ],
   "source": [
    "lr.score(x_train,y_train)"
   ]
  },
  {
   "cell_type": "code",
   "execution_count": 69,
   "metadata": {},
   "outputs": [
    {
     "data": {
      "text/plain": [
       "0.6045102659037361"
      ]
     },
     "execution_count": 69,
     "metadata": {},
     "output_type": "execute_result"
    }
   ],
   "source": [
    "lr.score(x_test,y_test)"
   ]
  },
  {
   "cell_type": "code",
   "execution_count": 70,
   "metadata": {},
   "outputs": [],
   "source": [
    "from sklearn.ensemble import RandomForestClassifier"
   ]
  },
  {
   "cell_type": "code",
   "execution_count": 78,
   "metadata": {},
   "outputs": [],
   "source": [
    "rf=RandomForestClassifier(n_estimators=20, random_state=0, criterion='entropy')"
   ]
  },
  {
   "cell_type": "code",
   "execution_count": 79,
   "metadata": {},
   "outputs": [
    {
     "data": {
      "text/plain": [
       "RandomForestClassifier(bootstrap=True, class_weight=None, criterion='entropy',\n",
       "            max_depth=None, max_features='auto', max_leaf_nodes=None,\n",
       "            min_impurity_decrease=0.0, min_impurity_split=None,\n",
       "            min_samples_leaf=1, min_samples_split=2,\n",
       "            min_weight_fraction_leaf=0.0, n_estimators=20, n_jobs=None,\n",
       "            oob_score=False, random_state=0, verbose=0, warm_start=False)"
      ]
     },
     "execution_count": 79,
     "metadata": {},
     "output_type": "execute_result"
    }
   ],
   "source": [
    "rf.fit(x_train, y_train)"
   ]
  },
  {
   "cell_type": "code",
   "execution_count": 80,
   "metadata": {},
   "outputs": [],
   "source": [
    "y_pred_rf=rf.predict(x_train)"
   ]
  },
  {
   "cell_type": "code",
   "execution_count": 81,
   "metadata": {},
   "outputs": [
    {
     "data": {
      "text/plain": [
       "0.9992784992784993"
      ]
     },
     "execution_count": 81,
     "metadata": {},
     "output_type": "execute_result"
    }
   ],
   "source": [
    "rf.score(x_train,y_train)"
   ]
  },
  {
   "cell_type": "code",
   "execution_count": 82,
   "metadata": {},
   "outputs": [
    {
     "data": {
      "text/plain": [
       "RandomForestClassifier(bootstrap=True, class_weight=None, criterion='entropy',\n",
       "            max_depth=None, max_features='auto', max_leaf_nodes=None,\n",
       "            min_impurity_decrease=0.0, min_impurity_split=None,\n",
       "            min_samples_leaf=1, min_samples_split=2,\n",
       "            min_weight_fraction_leaf=0.0, n_estimators=20, n_jobs=None,\n",
       "            oob_score=False, random_state=0, verbose=0, warm_start=False)"
      ]
     },
     "execution_count": 82,
     "metadata": {},
     "output_type": "execute_result"
    }
   ],
   "source": [
    "rf.fit(x_test,y_test)"
   ]
  },
  {
   "cell_type": "code",
   "execution_count": 83,
   "metadata": {},
   "outputs": [],
   "source": [
    "y_pred_rf_test=rf.predict(x_test)"
   ]
  },
  {
   "cell_type": "code",
   "execution_count": 84,
   "metadata": {},
   "outputs": [
    {
     "data": {
      "text/plain": [
       "0.997980477953551"
      ]
     },
     "execution_count": 84,
     "metadata": {},
     "output_type": "execute_result"
    }
   ],
   "source": [
    "rf.score(x_test,y_test)"
   ]
  },
  {
   "cell_type": "code",
   "execution_count": null,
   "metadata": {},
   "outputs": [],
   "source": []
  }
 ],
 "metadata": {
  "kernelspec": {
   "display_name": "Python 3",
   "language": "python",
   "name": "python3"
  },
  "language_info": {
   "codemirror_mode": {
    "name": "ipython",
    "version": 3
   },
   "file_extension": ".py",
   "mimetype": "text/x-python",
   "name": "python",
   "nbconvert_exporter": "python",
   "pygments_lexer": "ipython3",
   "version": "3.7.3"
  }
 },
 "nbformat": 4,
 "nbformat_minor": 2
}
